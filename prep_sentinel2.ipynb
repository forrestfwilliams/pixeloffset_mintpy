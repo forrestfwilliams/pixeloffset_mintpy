{
 "cells": [
  {
   "cell_type": "code",
   "execution_count": 9,
   "id": "5c675c06-b651-4a43-80c5-f2657c548062",
   "metadata": {},
   "outputs": [],
   "source": [
    "import os\n",
    "import glob\n",
    "import subprocess\n",
    "import itertools\n",
    "from osgeo import gdal\n",
    "from datetime import datetime"
   ]
  },
  {
   "cell_type": "code",
   "execution_count": 2,
   "id": "75406e99-7ee6-44ef-b53e-0d19d44898f5",
   "metadata": {},
   "outputs": [],
   "source": [
    "safes = glob.glob('*SAFE')\n",
    "lines = [f'CALL Sen2Cor-02.09.00-win64\\L2A_Process.bat {x}' for x in safes]\n",
    "lines = ['@ECHO OFF'] + lines\n",
    "with open('to_level2.bat', 'w') as f:\n",
    "    for line in lines:\n",
    "        f.write(line)\n",
    "        f.write('\\n')\n",
    "# run to_level2.bat on command line"
   ]
  },
  {
   "cell_type": "code",
   "execution_count": 3,
   "id": "a41ea89f-bf37-4154-abca-976a5fe1dfff",
   "metadata": {},
   "outputs": [],
   "source": [
    "b08 = glob.glob('.\\*\\GRANULE\\*\\IMG_DATA\\R10m\\*B08_10m.jp2')\n",
    "lines = [f'CALL rio convert {x} -f ENVI -o {os.path.basename(x).split(\".\")[0]}.dat' for x in b08]\n",
    "lines = ['@ECHO OFF'] + lines\n",
    "with open('to_envi.bat', 'w') as f:\n",
    "    for line in lines:\n",
    "        f.write(line)\n",
    "        f.write('\\n')\n",
    "# run to_envi.bat on command line"
   ]
  },
  {
   "cell_type": "code",
   "execution_count": 4,
   "id": "606d155e-a884-4006-a5ee-4f2433d00c07",
   "metadata": {},
   "outputs": [],
   "source": [
    "b08dat = glob.glob('*b08_10m.dat')\n",
    "# b08dat = ['T60HUB_20160206T221552_B08.jp2','T60HUB_20160306T221552_B08.jp2','T60HUB_20160406T221552_B08.jp2']"
   ]
  },
  {
   "cell_type": "code",
   "execution_count": 5,
   "id": "b2356ff0-71c6-49f0-a016-dad98c8c3cff",
   "metadata": {},
   "outputs": [],
   "source": [
    "dates = [datetime.strptime(x[7:22],'%Y%m%dT%H%M%S') for x in b08dat]\n",
    "file_dic = dict(zip(dates,b08dat))\n",
    "\n",
    "combos = sorted(sorted(x) for x in itertools.combinations(dates,2))\n",
    "files = [[file_dic[x[0]],file_dic[x[1]]] for x in combos]\n",
    "\n",
    "# if using bounds:\n",
    "#for bounds, sample=x, line=y\n",
    "#xstart, xend, ystart, yend\n",
    "# poroa1 = '1 10136 10838 9236 10480'\n",
    "# poroa2 = '1 8900 10900 8500 10500'\n",
    "# bounds = poroa2\n",
    "# dic = {'primary':[f'{os.path.abspath(x[0])} {bounds}' for x in files],\n",
    "#        'secondary':[f'{os.path.abspath(x[1])} {bounds}' for x in files],\n",
    "#        'out_name':[os.path.join(os.getcwd(),f'cosicorr_{x[0][7:22]}_{x[1][7:22]}.dat') for x in files]}\n",
    "\n",
    "# if not using bounds:\n",
    "dic = {'primary':[f'{os.path.abspath(x[0])}' for x in files],\n",
    "       'secondary':[f'{os.path.abspath(x[1])}' for x in files],\n",
    "       'out_name':[os.path.join(os.getcwd(),f'cosicorr_{x[0][7:22]}_{x[1][7:22]}.dat') for x in files]}\n",
    "\n",
    "for key in dic:\n",
    "    with open(f'{key}.txt', 'w') as f:\n",
    "        for line in dic[key]:\n",
    "            f.write(line)\n",
    "            f.write('\\n')"
   ]
  },
  {
   "cell_type": "code",
   "execution_count": 6,
   "id": "0822066f-efda-45dc-ac33-69b5381eaf9e",
   "metadata": {},
   "outputs": [],
   "source": [
    "# frequency, winMaxX, winMaxY, winMinX, winMinY, stepX, stepY, nbRobustIteration, MaskThreshold, resampling, grid\n",
    "options = ['frequency 32 32 32 32 4 4 5 0.9 0 0'] * len(files)\n",
    "with open('options.txt', 'w') as f:\n",
    "    for line in options:\n",
    "        f.write(line)\n",
    "        f.write('\\n')"
   ]
  },
  {
   "cell_type": "code",
   "execution_count": 15,
   "id": "cc136aeb-be20-4df1-a723-577ba2d8597b",
   "metadata": {},
   "outputs": [],
   "source": [
    "# create separate vrt files for each band\n",
    "files = glob.glob('*.dat')\n",
    "files.sort()\n",
    "for fname in files:\n",
    "    for b, dataset in enumerate(['EWOffset','NSOffset','offsetSNR']):\n",
    "        fname_out = f'{fname.split(\".\")[0]}_{dataset}.vrt'\n",
    "        vrt_options = gdal.BuildVRTOptions(bandList=[b+1])\n",
    "        my_vrt = gdal.BuildVRT(fname_out, fname, options=vrt_options)\n",
    "        my_vrt = None"
   ]
  },
  {
   "cell_type": "code",
   "execution_count": 18,
   "id": "a93434da-bc55-43d8-8ac6-a35bfdd77c10",
   "metadata": {},
   "outputs": [],
   "source": [
    "# write mintpy file\n",
    "files = glob.glob('*.vrt')\n",
    "files.sort()\n",
    "lines = [f'{f} {f[9:17]} {f[25:33]}\\n' for f in files]\n",
    "with open('metadata.txt', 'w') as f:\n",
    "    f.writelines(lines)"
   ]
  },
  {
   "cell_type": "code",
   "execution_count": null,
   "id": "21c742fd-a571-4658-98dd-c2f2dab66e65",
   "metadata": {},
   "outputs": [],
   "source": []
  }
 ],
 "metadata": {
  "kernelspec": {
   "display_name": "Python 3 (ipykernel)",
   "language": "python",
   "name": "python3"
  },
  "language_info": {
   "codemirror_mode": {
    "name": "ipython",
    "version": 3
   },
   "file_extension": ".py",
   "mimetype": "text/x-python",
   "name": "python",
   "nbconvert_exporter": "python",
   "pygments_lexer": "ipython3",
   "version": "3.8.10"
  }
 },
 "nbformat": 4,
 "nbformat_minor": 5
}
