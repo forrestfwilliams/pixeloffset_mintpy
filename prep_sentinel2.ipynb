{
 "cells": [
  {
   "cell_type": "code",
   "execution_count": 1,
   "id": "a86d9b4b-6bff-4af0-989d-4ffc896c7158",
   "metadata": {},
   "outputs": [],
   "source": [
    "%matplotlib inline\n",
    "import os\n",
    "import glob\n",
    "import subprocess\n",
    "import itertools\n",
    "from osgeo import gdal\n",
    "from datetime import datetime\n",
    "import shutil\n",
    "import matplotlib.pyplot as plt\n",
    "import pandas as pd"
   ]
  },
  {
   "cell_type": "code",
   "execution_count": 2,
   "id": "6c014952-f4e9-4b1b-abbf-ca5f189922ea",
   "metadata": {},
   "outputs": [
    {
     "name": "stdout",
     "output_type": "stream",
     "text": [
      "I:\\sentinel2\\upper\n"
     ]
    }
   ],
   "source": [
    "cd I:\\sentinel2\\upper"
   ]
  },
  {
   "cell_type": "code",
   "execution_count": 11,
   "id": "39383bc1-569d-4d2a-941d-33a159a89b4e",
   "metadata": {},
   "outputs": [
    {
     "name": "stdout",
     "output_type": "stream",
     "text": [
      "[1, 1, 1, 1, 1, 1, 1, 1, 1, 1, 1, 1, 1, 1, 1, 1, 1, 1, 1, 1, 1, 1, 1, 1, 1, 1]\n",
      "20160206T221552 contains ERROR!\n",
      "[]\n",
      "{'20200311T221559'}\n"
     ]
    }
   ],
   "source": [
    "zips = set([x[16:31] for x in glob.glob(r'zips\\*zip')])\n",
    "l1s = set([x[19:34] for x in glob.glob(r'level1C\\*L1C*.SAFE')])\n",
    "l2s = [x[19:34] for x in glob.glob(r'level2A\\*L2A*.SAFE')]\n",
    "print([l2s.count(x) for x in l2s])\n",
    "l2s = set(l2s)\n",
    "not_started = l2s - l1s\n",
    "\n",
    "logs = glob.glob(r'level2A\\*L2A*.SAFE\\rep_info\\*report.xml')\n",
    "log_dates = set([x[19:34] for x in logs])\n",
    "not_finished = l2s - log_dates\n",
    "\n",
    "contains_error = []\n",
    "check_for = 'ERROR' #'metadata file is valid'\n",
    "for log in logs:\n",
    "    with open(log) as f:\n",
    "        lines = f.readlines()\n",
    "    contains = [check_for in l for l in lines]\n",
    "    if any(contains):\n",
    "        contains_error.append(log[19:34])\n",
    "        print(f'{log[19:34]} contains {check_for}!')\n",
    "        \n",
    "redo = list(not_started)+list(not_finished)#+contains_error\n",
    "print(redo)\n",
    "print(l1s-zips)\n",
    "# print(len(l1s),len(l2s))"
   ]
  },
  {
   "cell_type": "code",
   "execution_count": 12,
   "id": "75406e99-7ee6-44ef-b53e-0d19d44898f5",
   "metadata": {},
   "outputs": [
    {
     "name": "stdout",
     "output_type": "stream",
     "text": [
      "26\n"
     ]
    }
   ],
   "source": [
    "# # for upper\n",
    "# subset = ['20180705','20210219','20171013']\n",
    "# still_need =['20200111','20200210','20200331']\n",
    "# corrupted = ['20190225','20200331','20210130']\n",
    "\n",
    "subset = redo\n",
    "safes = glob.glob(r'.\\level1C\\*SAFE')\n",
    "print(len(safes))\n",
    "lines = [f'CALL ..\\Sen2Cor-02.09.00-win64\\L2A_Process.bat {x}' for x in safes if any([y in x for y in subset])]\n",
    "lines = ['@ECHO OFF'] + lines\n",
    "with open('to_level2.bat', 'w') as f:\n",
    "    for line in lines:\n",
    "        f.write(line)\n",
    "        f.write('\\n')\n",
    "# run to_level2.bat on command line"
   ]
  },
  {
   "cell_type": "code",
   "execution_count": 13,
   "id": "a41ea89f-bf37-4154-abca-976a5fe1dfff",
   "metadata": {},
   "outputs": [],
   "source": [
    "b08 = glob.glob('level2A\\*\\GRANULE\\*\\IMG_DATA\\R10m\\*B08_10m.jp2')\n",
    "lines = [f'CALL rio convert {x} -f ENVI -o envi\\\\{os.path.basename(x).split(\".\")[0]}.dat' for x in b08]\n",
    "lines = ['@ECHO OFF'] + lines\n",
    "with open('to_envi.bat', 'w') as f:\n",
    "    for line in lines:\n",
    "        f.write(line)\n",
    "        f.write('\\n')\n",
    "\n",
    "# run to_envi.bat on command line"
   ]
  },
  {
   "cell_type": "code",
   "execution_count": 30,
   "id": "787a1e5c-7cb0-4b17-a265-799acda02f37",
   "metadata": {},
   "outputs": [],
   "source": [
    "# df = pd.DataFrame(columns=['date1','date2'])\n",
    "# b08dat = glob.glob('envi\\*b08_10m.dat')\n",
    "\n",
    "# dates = [datetime.strptime(os.path.basename(x)[7:15],'%Y%m%d') for x in b08dat]\n",
    "# date_pairs = [sorted(x) for x in itertools.combinations(dates,2)]\n",
    "\n",
    "# df = pd.DataFrame(index=range(len(date_pairs)),columns=['date1','date2'])\n",
    "# df[['date1','date2']] = date_pairs\n",
    "\n",
    "# df"
   ]
  },
  {
   "cell_type": "code",
   "execution_count": 3,
   "id": "7985cecd-76db-4d8e-b12b-de7b73500d8a",
   "metadata": {},
   "outputs": [],
   "source": [
    "home_dir = os.path.abspath('envi')\n",
    "pairs = pd.read_csv(os.path.join(home_dir,'pairs.csv'))\n",
    "files = list(zip(pairs.image1,pairs.image2))"
   ]
  },
  {
   "cell_type": "code",
   "execution_count": 7,
   "id": "b2356ff0-71c6-49f0-a016-dad98c8c3cff",
   "metadata": {},
   "outputs": [],
   "source": [
    "# dates = [datetime.strptime(os.path.basename(x)[7:22],'%Y%m%dT%H%M%S') for x in b08dat]\n",
    "# file_dic = dict(zip(dates,b08dat))\n",
    "\n",
    "# combos = sorted(sorted(x) for x in itertools.combinations(dates,2))\n",
    "# files = [[file_dic[x[0]],file_dic[x[1]]] for x in combos]\n",
    "\n",
    "# if using bounds:\n",
    "#for bounds, sample=x, line=y\n",
    "#xstart, xend, ystart, yend\n",
    "# poroa1 = ' 1 10136 10838 9236 10480'\n",
    "# poroa2 = ' 1 8900 10900 8500 10500'\n",
    "poroa_upper = ' 1 9873 10773 9570 10773'\n",
    "no_bounds = ''\n",
    "bounds = poroa_upper\n",
    "\n",
    "dic = {'primary':[f'{os.path.join(home_dir,x[0])}{bounds}' for x in files],\n",
    "       'secondary':[f'{os.path.join(home_dir,x[1])}{bounds}' for x in files],\n",
    "       'out_name':[os.path.join(os.getcwd(),'poroa_32',f'cosicorr_{os.path.basename(x[0])[7:22]}_{os.path.basename(x[1])[7:22]}.dat') for x in files]}\n",
    "\n",
    "for key in dic:\n",
    "    with open(f'{key}.txt', 'w') as f:\n",
    "        for line in dic[key]:\n",
    "            f.write(line)\n",
    "            f.write('\\n')\n",
    "\n",
    "# frequency, winMaxX, winMaxY, winMinX, winMinY, stepX, stepY, nbRobustIteration, MaskThreshold, resampling, grid\n",
    "window = 32\n",
    "step = 4\n",
    "options = [f'frequency {window} {window} {window} {window} {step} {step} 5 0.9 0 0'] * len(files)\n",
    "with open('options.txt', 'w') as f:\n",
    "    for line in options:\n",
    "        f.write(line)\n",
    "        f.write('\\n')"
   ]
  },
  {
   "cell_type": "markdown",
   "id": "fc0c8b23-3ff0-4bdc-949d-492b3bca0ced",
   "metadata": {},
   "source": [
    "## Prep for MintPy"
   ]
  },
  {
   "cell_type": "code",
   "execution_count": 14,
   "id": "5ba36a0a-84fe-466a-97b0-81d9bea57c0a",
   "metadata": {},
   "outputs": [
    {
     "name": "stdout",
     "output_type": "stream",
     "text": [
      "I:\\sentinel2\\upper\\poroa_128\n"
     ]
    }
   ],
   "source": [
    "cd I:\\sentinel2\\upper\\poroa_128"
   ]
  },
  {
   "cell_type": "code",
   "execution_count": 15,
   "id": "14e33b3d-b089-4b71-8adc-57d9089c37ac",
   "metadata": {},
   "outputs": [],
   "source": [
    "# create separate tif files for each band\n",
    "files = glob.glob('*.dat')\n",
    "files.sort()"
   ]
  },
  {
   "cell_type": "code",
   "execution_count": 16,
   "id": "457ced0d-6eb4-428d-8f3e-24403b574029",
   "metadata": {},
   "outputs": [],
   "source": [
    "for fname in files:\n",
    "    for b, dataset in enumerate(['EWOffset','NSOffset','offsetSNR']):\n",
    "        fname_out = f'{os.path.splitext(fname)[0]}_{dataset}.tif'\n",
    "        ds = gdal.Open(fname)\n",
    "        ds = gdal.Translate(fname_out, ds, bandList = [b+1])\n",
    "        ds = None\n",
    "\n",
    "# write mintpy file\n",
    "files = glob.glob('*EWOffset.tif')+glob.glob('*NSOffset.tif')+glob.glob('*offsetSNR.tif')\n",
    "files.sort()\n",
    "lines = [f'{f} {f[9:17]} {f[25:33]}\\n' for f in files]\n",
    "with open('metadata.txt', 'w') as f:\n",
    "    f.writelines(lines)"
   ]
  },
  {
   "cell_type": "code",
   "execution_count": null,
   "id": "c04c95d8-bf6b-41b9-8730-693167df249b",
   "metadata": {},
   "outputs": [],
   "source": []
  }
 ],
 "metadata": {
  "kernelspec": {
   "display_name": "Python 3 (ipykernel)",
   "language": "python",
   "name": "python3"
  },
  "language_info": {
   "codemirror_mode": {
    "name": "ipython",
    "version": 3
   },
   "file_extension": ".py",
   "mimetype": "text/x-python",
   "name": "python",
   "nbconvert_exporter": "python",
   "pygments_lexer": "ipython3",
   "version": "3.9.5"
  }
 },
 "nbformat": 4,
 "nbformat_minor": 5
}
