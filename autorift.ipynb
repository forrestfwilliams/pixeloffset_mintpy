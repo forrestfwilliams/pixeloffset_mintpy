{
 "cells": [
  {
   "cell_type": "markdown",
   "id": "f1c33241-7b37-42db-9969-d59ce706579e",
   "metadata": {},
   "source": [
    "## Setup"
   ]
  },
  {
   "cell_type": "code",
   "execution_count": 1,
   "id": "8faf504a-1a4c-480d-855d-8c6c5f968de2",
   "metadata": {},
   "outputs": [],
   "source": [
    "%matplotlib inline\n",
    "import matplotlib.pyplot as plt\n",
    "from osgeo import gdal\n",
    "import geopandas as gpd\n",
    "import numpy as np\n",
    "import rasterio as rio\n",
    "from rasterio import features\n",
    "from autoRIFT import autoRIFT\n",
    "from collections import namedtuple\n",
    "from pathlib import Path\n",
    "import itertools\n",
    "import scipy.io as sio\n",
    "import sys\n",
    "import shutil\n",
    "from datetime import datetime\n",
    "\n",
    "import warnings\n",
    "warnings.filterwarnings(\"ignore\")\n",
    "# from autoRIFT import autoriftcore\n",
    "# from geogrid import GeogridOptical"
   ]
  },
  {
   "cell_type": "code",
   "execution_count": 2,
   "id": "328198b9-717c-4ca4-8aef-9ea262efcd24",
   "metadata": {},
   "outputs": [
    {
     "data": {
      "text/plain": [
       "'/home/micromamba/scripts'"
      ]
     },
     "execution_count": 2,
     "metadata": {},
     "output_type": "execute_result"
    }
   ],
   "source": [
    "pwd"
   ]
  },
  {
   "cell_type": "code",
   "execution_count": null,
   "id": "79a40388-1737-400a-a27d-a715ba5d4c60",
   "metadata": {},
   "outputs": [],
   "source": [
    "autorift_cmd = str(Path('testautoRIFT.py').resolve())\n",
    "geogrid_cmd = str(Path('testGeogridOptical.py').resolve())"
   ]
  },
  {
   "cell_type": "code",
   "execution_count": 3,
   "id": "7a95590d-f82e-488b-b185-84133b315a93",
   "metadata": {},
   "outputs": [
    {
     "name": "stdout",
     "output_type": "stream",
     "text": [
      "/home/micromamba/data/spot\n"
     ]
    }
   ],
   "source": [
    "cd /home/micromamba/data/spot/landslide_54"
   ]
  },
  {
   "cell_type": "markdown",
   "id": "669cec4e-a8f4-4165-8912-2224989bfcee",
   "metadata": {},
   "source": [
    "## Functions"
   ]
  },
  {
   "cell_type": "code",
   "execution_count": null,
   "id": "af747b90-2d67-4a1a-8920-29102ed74364",
   "metadata": {
    "tags": []
   },
   "outputs": [],
   "source": [
    "def read_raster(path,bands=1,crs=False,bounds=False):\n",
    "    # From rasterio docs with modifications\n",
    "    with rio.open(path) as dst:\n",
    "        array = dst.read(bands)\n",
    "        profile = dst.profile\n",
    "        crs_val = dst.crs\n",
    "        bounds_val = dst.bounds\n",
    "        # array = np.moveaxis(array,0,-1)\n",
    "    \n",
    "    result = [array, profile]\n",
    "\n",
    "    if crs:\n",
    "        result.append(crs_val)\n",
    "    \n",
    "    if bounds:\n",
    "        result.append(bounds_val)\n",
    "\n",
    "    return result\n",
    "\n",
    "\n",
    "def write_raster(array,profile,out_path,nodata,dtype,n_bands=1):\n",
    "    # From rasterio docs:\n",
    "    # Register GDAL format drivers and configuration options with a\n",
    "    # context manager.\n",
    "    with rio.Env():\n",
    "        # And then change the band count to 1, set the\n",
    "        # dtype to uint8, and specify LZW compression.\n",
    "        profile.update(\n",
    "            dtype=dtype,\n",
    "            count=n_bands,\n",
    "            nodata=nodata,\n",
    "            compress='lzw')\n",
    "\n",
    "        with rio.open(out_path, 'w', **profile) as dst:\n",
    "            if n_bands == 1:\n",
    "                dst.write(array.astype(dtype),1)\n",
    "            else:\n",
    "                dst.write(array.astype(dtype))\n",
    "\n",
    "    return out_path\n",
    "\n",
    "def polygon_to_raster(gdf,template_path,value=1,crs=False):\n",
    "    if isinstance(gdf,str):\n",
    "        pol = gpd.read_file(gdf)\n",
    "    else:\n",
    "        pol = gdf\n",
    "\n",
    "    with rio.open(template_path) as dst:\n",
    "        profile = dst.profile\n",
    "        template_crs = dst.crs\n",
    "        template_transform = profile['transform']\n",
    "        template_shape = dst.shape\n",
    "\n",
    "    # if crs != pol.crs:\n",
    "    #   raise Exception('CRSs do not match!')\n",
    "\n",
    "    geojsons = [x['geometry'] for x in pol.geometry.__geo_interface__['features']]\n",
    "    if isinstance(value,str):\n",
    "        shapes = [tuple(x) for x in zip(geojsons,pol[value])]\n",
    "    else:\n",
    "        shapes = [(x,value) for x in geojsons]\n",
    "\n",
    "    array = features.rasterize(shapes, out_shape=template_shape, transform=template_transform)\n",
    "    \n",
    "    result = [array, profile]\n",
    "    if crs:\n",
    "        result.append(template_crs)\n",
    "\n",
    "    return result"
   ]
  },
  {
   "cell_type": "markdown",
   "id": "6df9e79e-b654-403e-9e8a-69fb6baf1e64",
   "metadata": {
    "tags": []
   },
   "source": [
    "## AutoRIFT Inputs\n",
    "**I1**  reference image (extracted image patches defined as \"source\")\n",
    "\n",
    "**I2**  secondary image (extracted image patches defined as \"template\"; displacement = motion vector of I2 relative to I1 which should be acquired earlier in our convention)\n",
    "\n",
    "**xGrid** [units = integer image pixels]  horizontal reference image pixel index at each grid point\n",
    "\n",
    "**yGrid**  [units = integer image pixels]  vertical reference image pixel index at each grid point\n",
    "(if xGrid and yGrid not provided, a regular grid spanning the entire image will be automatically set up, which is similar to the conventional ISCE module, \"ampcor\" or \"denseampcor\")\n",
    "\n",
    "**Dx0**  [units = integer image pixels]  horizontal \"downstream\" search location (that specifies the horizontal pixel displacement of the template's search center relative to the source's) at each grid point\n",
    "\n",
    "**Dy0**  [units = integer image pixels]  vertical \"downstream\" reach location (that specifies the vertical pixel displacement of the template's search center relative to the source's) at each grid point\n",
    "(if Dx0 and Dy0 not provided, an array with zero values will be automatically assigned and there will be no offsets of the search centers)\n",
    "\n",
    "**ChipSizeMinX** [units = integer image pixels]  Minimum size (in horizontal direction) of the template (chip) to correlate (default = 32; could be scalar or array with same dimension as xGrid)\n",
    "\n",
    "**ChipSizeMaxX** [units = integer image pixels]  Maximum size (in horizontal direction) of the template (chip) to correlate (default = 64; could be scalar or array with same dimension as xGrid)\n",
    "\n",
    "**ChipSize0X** [units = integer image pixels]  Minimum acceptable size (in horizontal direction) of the template (chip) to correlate (default = 32)\n",
    "\n",
    "**GridSpacingX** [units = integer image pixels]  Grid Spacing (in horizontal direction) (default = 32; note GridSpacingX can be smaller than ChipSize0X leading to dependent chips)\n",
    "\n",
    "**ScaleChipSizeY** [unitless; integer data type]  Scaling factor to get the vertical chip size in reference to the horizontal size (default = 1)\n",
    "\n",
    "**SearchLimitX** [units = integer image pixels]  Range or limit (in horizontal direction) to search for displacement in the source (default = 25; could be scalar or array with same dimension as xGrid; when provided in array, set its elements to 0 if no search is desired in certain areas)\n",
    "\n",
    "**SearchLimitY** [units = integer image pixels]  Range or limit (in vertical direction) to search for displacement in the source (default = 25; could be scalar or array with same dimension as xGrid; when provided in array, set its elements to 0 if no search is desired in certain areas)\n",
    "\n",
    "**SkipSampleX** [units = integer image pixels] Number of samples to skip between search windows in horizontal direction if no grid specified by the user (default = 32)\n",
    "\n",
    "**SkipSampleY** [units = integer image pixels]  Number of lines to skip between search windows in vertical direction if no grid specified by the user (default = 32)\n",
    "\n",
    "**minSearch** [units = integer image pixels]  Minimum search range/limit (default = 6)"
   ]
  },
  {
   "cell_type": "markdown",
   "id": "26a776b8-6768-407e-a00e-9c05dad5db99",
   "metadata": {},
   "source": [
    "## Images Prep"
   ]
  },
  {
   "cell_type": "code",
   "execution_count": null,
   "id": "910b9b83-b504-40ca-84da-a3cca4916ebe",
   "metadata": {},
   "outputs": [],
   "source": [
    "# Image = namedtuple('Image','date file')\n",
    "\n",
    "types = {'sentinel2':{'files':'S2*tif','date_loc':slice(11,19)}}\n",
    "desired_epsg = 32760\n",
    "\n",
    "image_loc = Path('raw')\n",
    "meta = types['sentinel2']\n",
    "pattern = meta['files']\n",
    "date_loc = meta['date_loc']"
   ]
  },
  {
   "cell_type": "code",
   "execution_count": null,
   "id": "1d5cd1d8-42ba-440b-ba2f-25346cbf2bb6",
   "metadata": {},
   "outputs": [],
   "source": [
    "images = {x.name[date_loc]:x for x in image_loc.glob(pattern)}\n",
    "images"
   ]
  },
  {
   "cell_type": "markdown",
   "id": "e92b29a1-fb55-4744-845f-0631e3ff614a",
   "metadata": {},
   "source": [
    "## Run Autorift"
   ]
  },
  {
   "cell_type": "code",
   "execution_count": null,
   "id": "9f4ab030-ec71-4b10-9898-8bd73692bc3f",
   "metadata": {},
   "outputs": [],
   "source": [
    "pairs = []\n",
    "for dates in itertools.combinations(images,2):\n",
    "    \n",
    "    dates = [datetime.strptime(x,'%Y%m%d') for x in dates]\n",
    "    dates.sort()\n",
    "    dates = [datetime.strftime(x,'%Y%m%d') for x in dates]\n",
    "    \n",
    "    pairs.append((images[dates[0]],images[dates[1]]))\n",
    "    print(dates)\n",
    "print(len(pairs))"
   ]
  },
  {
   "cell_type": "code",
   "execution_count": null,
   "id": "24e1b33e-2918-4d62-b94c-984a9b914839",
   "metadata": {},
   "outputs": [],
   "source": [
    "out_dir = Path('autorift')\n",
    "if out_dir.exists():\n",
    "    shutil.rmtree(out_dir)\n",
    "\n",
    "out_dir.mkdir()"
   ]
  },
  {
   "cell_type": "code",
   "execution_count": null,
   "id": "a22faa52-61d2-4cb4-b47e-c25f323f5786",
   "metadata": {},
   "outputs": [],
   "source": [
    "ref, sec = [str(x) for x in pairs[0]]\n",
    "base_dem = '../dem.tif'\n",
    "dem = 'dem_window.tif'\n",
    "res = 80"
   ]
  },
  {
   "cell_type": "code",
   "execution_count": null,
   "id": "7d7e5472-4585-4efd-a761-289f1c22b67e",
   "metadata": {},
   "outputs": [],
   "source": [
    "!rm dem_window.tif"
   ]
  },
  {
   "cell_type": "code",
   "execution_count": null,
   "id": "c8ae73fe-013d-4031-810f-235adfb537a9",
   "metadata": {},
   "outputs": [],
   "source": [
    "_, _, crs, bbox = read_raster(ref,crs=True,bounds=True)\n",
    "bbox = ' '.join([str(x) for x in bbox])\n",
    "epsg = f'EPSG:{crs.to_epsg()}'"
   ]
  },
  {
   "cell_type": "code",
   "execution_count": null,
   "id": "b65548e2-7d78-4df3-b087-40a4811f4392",
   "metadata": {},
   "outputs": [],
   "source": [
    "!gdalwarp -t_srs {epsg} -te {bbox} -tr {res} {res} -te_srs {epsg} -r bilinear {base_dem} {dem}"
   ]
  },
  {
   "cell_type": "code",
   "execution_count": null,
   "id": "cf599f16-5884-4d1f-b47f-cd6dd1eeba08",
   "metadata": {},
   "outputs": [],
   "source": [
    "# arr, profile = read_raster(dem)\n",
    "\n",
    "# def create_param(val,path,profile):\n",
    "#     # data = np.zeros((10,10,2))\n",
    "#     data = np.zeros((profile['height']-1,profile['width']-1,2))\n",
    "    \n",
    "#     data[:,:,0] = val\n",
    "#     data[:,:,1] = val\n",
    "#     data = np.moveaxis(data, [0, 1, 2], [2, 1, 0])\n",
    "    \n",
    "#     profile['count'], profile['width'], profile['height'] = data.shape \n",
    "#     write_raster(data,profile,path,nodata=0,dtype=rio.int8,n_bands=2)\n",
    "\n",
    "#     return path\n",
    "\n",
    "# csmin = create_param(32,'csmin.tif',profile)\n",
    "# csmax = create_param(64,'csmax.tif',profile)\n",
    "# sr = create_param(5,'sr.tif',profile)"
   ]
  },
  {
   "cell_type": "code",
   "execution_count": null,
   "id": "6c50f321-5be5-4e69-8307-4f1463804c1d",
   "metadata": {},
   "outputs": [],
   "source": [
    "! {geogrid_cmd} -m {ref} -s {sec} -d {dem}"
   ]
  },
  {
   "cell_type": "markdown",
   "id": "03c871c5-1cfc-4f1e-a73a-e1ab62a26a8c",
   "metadata": {},
   "source": [
    "## Check"
   ]
  },
  {
   "cell_type": "code",
   "execution_count": null,
   "id": "47fe9145-33d4-44ab-82c6-9b6226eeb554",
   "metadata": {},
   "outputs": [],
   "source": [
    "%%capture --no-stderr\n",
    "\n",
    "for i, (ref, sec) in enumerate(pairs):\n",
    "    ! {autorift_cmd} -m {str(ref)} -s {str(sec)} -g window_location.tif -fo 1\n",
    "\n",
    "    offset, offset_profile = read_raster('offset.tif',bands=[1,2,3,4])\n",
    "\n",
    "    base_name = f'autorift_{ref.name[date_loc]}T000000_{sec.name[date_loc]}T000000'\n",
    "    dx_name = out_dir / (base_name + '_EWOffset.tif')\n",
    "    dy_name = out_dir / (base_name + '_NSOffset.tif')\n",
    "    \n",
    "    write_raster(offset[0,:,:]*10,offset_profile,dx_name,nodata=-32768,dtype=rio.float32)\n",
    "    write_raster(offset[1,:,:]*10,offset_profile,dy_name,nodata=-32768,dtype=rio.float32)"
   ]
  },
  {
   "cell_type": "code",
   "execution_count": null,
   "id": "bdd686c2-3f3f-476f-9904-93b4bf976b02",
   "metadata": {},
   "outputs": [],
   "source": [
    "!rm offset.mat offset.tif window_location.tif"
   ]
  },
  {
   "cell_type": "markdown",
   "id": "adc8fa20-042f-49ef-897c-5ba918379f6e",
   "metadata": {},
   "source": [
    "## Remove Median"
   ]
  },
  {
   "cell_type": "code",
   "execution_count": null,
   "id": "60511486-782c-4293-923d-71f8a068a821",
   "metadata": {},
   "outputs": [],
   "source": [
    "corrected_dir = Path('corrected')"
   ]
  },
  {
   "cell_type": "code",
   "execution_count": null,
   "id": "5da6139a-060c-4969-a7c7-76f156fec711",
   "metadata": {},
   "outputs": [],
   "source": [
    "if corrected_dir.exists():\n",
    "    shutil.rmtree(corrected_dir)\n",
    "\n",
    "corrected_dir.mkdir()\n",
    "\n",
    "ls = gpd.read_file('/home/micromamba/data/landslides/landslide_sediment.shp').to_crs(epsg)"
   ]
  },
  {
   "cell_type": "code",
   "execution_count": null,
   "id": "7487ef6e-63a5-45ec-8e3f-549a4f6533b0",
   "metadata": {},
   "outputs": [],
   "source": [
    "autorift_results = list(out_dir.glob('*Offset.tif'))\n",
    "mask, _ = polygon_to_raster(ls.buffer(500),autorift_results[0],value=1,crs=False)"
   ]
  },
  {
   "cell_type": "code",
   "execution_count": null,
   "id": "0d3f40f7-aecc-43e1-9b8d-74e805779d3b",
   "metadata": {},
   "outputs": [],
   "source": [
    "plt.imshow(mask)"
   ]
  },
  {
   "cell_type": "code",
   "execution_count": null,
   "id": "e9be478f-437b-4a44-90c6-ac9977aec517",
   "metadata": {},
   "outputs": [],
   "source": [
    "all_vals = []\n",
    "\n",
    "for ras in autorift_results:\n",
    "    data, profile = read_raster(ras)\n",
    "    \n",
    "    tmp = data.copy()\n",
    "    tmp[mask == 1] = np.nan\n",
    "    median = np.nanmedian(tmp)\n",
    "    data = data - median\n",
    "    write_raster(data,profile,corrected_dir / ras.name,nodata=-32768,dtype=rio.float32)\n",
    "    \n",
    "    all_vals.append(median)\n",
    "\n",
    "print(f'Offset image median min: {np.min(all_vals):.2f} mean: {np.mean(all_vals):.2f} max: {np.max(all_vals):.2f}')"
   ]
  },
  {
   "cell_type": "markdown",
   "id": "36e1f410-d674-472b-8f4d-c3ad4c31b54e",
   "metadata": {},
   "source": [
    "## Create MintPy metadata file"
   ]
  },
  {
   "cell_type": "code",
   "execution_count": null,
   "id": "1b1fabf1-aea4-4772-beaf-c8195b839f42",
   "metadata": {},
   "outputs": [],
   "source": [
    "files = [x.name for x in corrected_dir.glob('*Offset.tif')]\n",
    "files.sort()\n",
    "\n",
    "lines = [f'{f} {f[9:17]} {f[25:33]}\\n' for f in files]\n",
    "with open(corrected_dir / 'metadata.txt', 'w') as f:\n",
    "    f.writelines(lines)"
   ]
  },
  {
   "cell_type": "markdown",
   "id": "6d8aab46-28bf-43cf-b8e4-f58ba9e4ffa2",
   "metadata": {},
   "source": [
    "## Notify"
   ]
  },
  {
   "cell_type": "code",
   "execution_count": null,
   "id": "fdb807a7-0368-418b-b7b8-6644b6b9a750",
   "metadata": {},
   "outputs": [],
   "source": [
    "from IPython.lib.display import Audio\n",
    "import numpy as np\n",
    "\n",
    "framerate = 4410\n",
    "play_time_seconds = 2\n",
    "\n",
    "t = np.linspace(0, play_time_seconds, framerate*play_time_seconds)\n",
    "audio_data = np.sin(2*np.pi*300*t) + np.sin(2*np.pi*240*t)\n",
    "Audio(audio_data, rate=framerate, autoplay=True)"
   ]
  },
  {
   "cell_type": "code",
   "execution_count": null,
   "id": "a7a752da-c6fd-458d-9efa-47f50399bfc9",
   "metadata": {},
   "outputs": [],
   "source": []
  }
 ],
 "metadata": {
  "kernelspec": {
   "display_name": "Python 3 (ipykernel)",
   "language": "python",
   "name": "python3"
  },
  "language_info": {
   "codemirror_mode": {
    "name": "ipython",
    "version": 3
   },
   "file_extension": ".py",
   "mimetype": "text/x-python",
   "name": "python",
   "nbconvert_exporter": "python",
   "pygments_lexer": "ipython3",
   "version": "3.8.12"
  }
 },
 "nbformat": 4,
 "nbformat_minor": 5
}
