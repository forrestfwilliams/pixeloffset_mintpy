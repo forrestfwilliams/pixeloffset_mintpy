{
 "cells": [
  {
   "cell_type": "code",
   "execution_count": 1,
   "id": "8faf504a-1a4c-480d-855d-8c6c5f968de2",
   "metadata": {},
   "outputs": [],
   "source": [
    "%matplotlib inline\n",
    "import matplotlib.pyplot as plt\n",
    "from osgeo import gdal\n",
    "import numpy as np\n",
    "import rasterio as rio\n",
    "from autoRIFT import autoRIFT\n",
    "from collections import namedtuple\n",
    "from pathlib import Path\n",
    "import itertools\n",
    "# from autoRIFT import autoriftcore\n",
    "# from geogrid import GeogridOptical"
   ]
  },
  {
   "cell_type": "code",
   "execution_count": 2,
   "id": "328198b9-717c-4ca4-8aef-9ea262efcd24",
   "metadata": {},
   "outputs": [
    {
     "data": {
      "text/plain": [
       "'/home/micromamba/scripts'"
      ]
     },
     "execution_count": 2,
     "metadata": {},
     "output_type": "execute_result"
    }
   ],
   "source": [
    "pwd"
   ]
  },
  {
   "cell_type": "code",
   "execution_count": 3,
   "id": "7a95590d-f82e-488b-b185-84133b315a93",
   "metadata": {},
   "outputs": [
    {
     "name": "stdout",
     "output_type": "stream",
     "text": [
      "/home/micromamba/data/bird_landslide\n"
     ]
    }
   ],
   "source": [
    "cd /home/micromamba/data/bird_landslide"
   ]
  },
  {
   "cell_type": "markdown",
   "id": "669cec4e-a8f4-4165-8912-2224989bfcee",
   "metadata": {},
   "source": [
    "## Functions"
   ]
  },
  {
   "cell_type": "code",
   "execution_count": 4,
   "id": "af747b90-2d67-4a1a-8920-29102ed74364",
   "metadata": {
    "tags": []
   },
   "outputs": [],
   "source": [
    "def rio_read(path,band=1):\n",
    "    with rio.open(path) as ds:\n",
    "        crs = ds.crs\n",
    "        gtfm = ds.transform\n",
    "        data = ds.read(band)\n",
    "    return data, crs, gtfm\n",
    "\n",
    "def rio_write(path,array,profile):\n",
    "    with rio.open(path, 'w', **profile) as dst:\n",
    "        dst.write(array.astype(rio.float32), 1)\n",
    "    return path\n",
    "\n",
    "def write_autorift(path,dataset,obj,gtfm,crs):\n",
    "    \n",
    "    meta = dict(driver='GTiff', dtype=None, nodata=0.0, width=None, height=None, count=1,\n",
    "            crs=None, transform=None, blocksize=256, tiled=True, compress='lzw', interleave='pixel')\n",
    "    xstep_pre, _, xstart, _, ystep_pre, ystart, _, _, _ = list(gtfm)\n",
    "\n",
    "    xstep = xstep_pre * obj.SkipSampleX\n",
    "    ystep = ystep_pre * obj.SkipSampleY\n",
    "\n",
    "    meta['dtype'] = obj.Dx.dtype\n",
    "    meta['width'] = obj.Dx.shape[1]\n",
    "    meta['height'] = obj.Dx.shape[0]\n",
    "    meta['crs'] = crs\n",
    "    meta['transform'] = rio.transform.Affine(xstep, 0.0, xstart+xstep, 0.0, ystep, ystart+ystep)\n",
    "    \n",
    "    if dataset == 'Dx':\n",
    "        rio_write(path,obj.Dx*xstep_pre,meta)\n",
    "    elif dataset == 'Dy':\n",
    "        rio_write(path,obj.Dy*xstep_pre,meta)\n",
    "    else:\n",
    "        print('No valid dataset specified! Nothing will be written')\n",
    "\n",
    "def run_autorift(reference,secondary,step=8,min_window=32,max_window=128,min_distance=0,max_distance=10):\n",
    "    # intizialize\n",
    "    obj = autoRIFT()\n",
    "\n",
    "    # set imagery\n",
    "    obj.I1 = reference.astype(np.float32)\n",
    "    obj.I2 = secondary.astype(np.float32)\n",
    "\n",
    "    # Sampling\n",
    "    obj.SkipSampleX = step\n",
    "    obj.SkipSampleY = step\n",
    "\n",
    "    # Chip size\n",
    "    obj.ChipSizeMinX = min_window\n",
    "    obj.ChipSizeMaxX = max_window\n",
    "    obj.ChipSize0X = float(16)\n",
    "    obj.ScaleChipSizeY = int(1)\n",
    "\n",
    "    # Search Area\n",
    "    obj.minSearch = min_distance\n",
    "    obj.SearchLimitX = max_distance\n",
    "    obj.SearchLimitY = max_distance\n",
    "\n",
    "    # Result grid\n",
    "    # m,n = obj.I1.shape\n",
    "    # xGrid = np.arange(obj.SkipSampleX+10,n-obj.SkipSampleX,obj.SkipSampleX)\n",
    "    # yGrid = np.arange(obj.SkipSampleY+10,m-obj.SkipSampleY,obj.SkipSampleY)\n",
    "    # nd = xGrid.__len__()\n",
    "    # md = yGrid.__len__()\n",
    "    # obj.xGrid = np.int32(np.dot(np.ones((md,1)),np.reshape(xGrid,(1,xGrid.__len__()))))\n",
    "    # obj.yGrid = np.int32(np.dot(np.reshape(yGrid,(yGrid.__len__(),1)),np.ones((1,nd))))\n",
    "\n",
    "    m, n = reference.shape\n",
    "    xVals = np.arange(obj.SkipSampleX,n-obj.SkipSampleX,obj.SkipSampleX)\n",
    "    yVals = np.arange(obj.SkipSampleY,m-obj.SkipSampleY,obj.SkipSampleY)\n",
    "    ncol = int(xVals.shape[0])\n",
    "    nrow = int(yVals.shape[0])\n",
    "    xGrid = np.repeat(np.reshape(xVals,(1,ncol)),nrow,axis=0)\n",
    "    yGrid = np.repeat(np.reshape(yVals,(nrow,1)),ncol,axis=1)\n",
    "    obj.xGrid = xGrid\n",
    "    obj.yGrid = yGrid\n",
    "    \n",
    "    # Run autoRIFT\n",
    "    obj.uniform_data_type()\n",
    "    obj.preprocess_filt_hps()\n",
    "    obj.runAutorift()\n",
    "    \n",
    "    return obj"
   ]
  },
  {
   "cell_type": "markdown",
   "id": "6df9e79e-b654-403e-9e8a-69fb6baf1e64",
   "metadata": {
    "tags": []
   },
   "source": [
    "## AutoRIFT Inputs\n",
    "**I1**  reference image (extracted image patches defined as \"source\")\n",
    "\n",
    "**I2**  secondary image (extracted image patches defined as \"template\"; displacement = motion vector of I2 relative to I1 which should be acquired earlier in our convention)\n",
    "\n",
    "**xGrid** [units = integer image pixels]  horizontal reference image pixel index at each grid point\n",
    "\n",
    "**yGrid**  [units = integer image pixels]  vertical reference image pixel index at each grid point\n",
    "(if xGrid and yGrid not provided, a regular grid spanning the entire image will be automatically set up, which is similar to the conventional ISCE module, \"ampcor\" or \"denseampcor\")\n",
    "\n",
    "**Dx0**  [units = integer image pixels]  horizontal \"downstream\" search location (that specifies the horizontal pixel displacement of the template's search center relative to the source's) at each grid point\n",
    "\n",
    "**Dy0**  [units = integer image pixels]  vertical \"downstream\" reach location (that specifies the vertical pixel displacement of the template's search center relative to the source's) at each grid point\n",
    "(if Dx0 and Dy0 not provided, an array with zero values will be automatically assigned and there will be no offsets of the search centers)\n",
    "\n",
    "**ChipSizeMinX** [units = integer image pixels]  Minimum size (in horizontal direction) of the template (chip) to correlate (default = 32; could be scalar or array with same dimension as xGrid)\n",
    "\n",
    "**ChipSizeMaxX** [units = integer image pixels]  Maximum size (in horizontal direction) of the template (chip) to correlate (default = 64; could be scalar or array with same dimension as xGrid)\n",
    "\n",
    "**ChipSize0X** [units = integer image pixels]  Minimum acceptable size (in horizontal direction) of the template (chip) to correlate (default = 32)\n",
    "\n",
    "**GridSpacingX** [units = integer image pixels]  Grid Spacing (in horizontal direction) (default = 32; note GridSpacingX can be smaller than ChipSize0X leading to dependent chips)\n",
    "\n",
    "**ScaleChipSizeY** [unitless; integer data type]  Scaling factor to get the vertical chip size in reference to the horizontal size (default = 1)\n",
    "\n",
    "**SearchLimitX** [units = integer image pixels]  Range or limit (in horizontal direction) to search for displacement in the source (default = 25; could be scalar or array with same dimension as xGrid; when provided in array, set its elements to 0 if no search is desired in certain areas)\n",
    "\n",
    "**SearchLimitY** [units = integer image pixels]  Range or limit (in vertical direction) to search for displacement in the source (default = 25; could be scalar or array with same dimension as xGrid; when provided in array, set its elements to 0 if no search is desired in certain areas)\n",
    "\n",
    "**SkipSampleX** [units = integer image pixels] Number of samples to skip between search windows in horizontal direction if no grid specified by the user (default = 32)\n",
    "\n",
    "**SkipSampleY** [units = integer image pixels]  Number of lines to skip between search windows in vertical direction if no grid specified by the user (default = 32)\n",
    "\n",
    "**minSearch** [units = integer image pixels]  Minimum search range/limit (default = 6)"
   ]
  },
  {
   "cell_type": "markdown",
   "id": "26a776b8-6768-407e-a00e-9c05dad5db99",
   "metadata": {},
   "source": [
    "## Images Prep"
   ]
  },
  {
   "cell_type": "code",
   "execution_count": 5,
   "id": "910b9b83-b504-40ca-84da-a3cca4916ebe",
   "metadata": {},
   "outputs": [],
   "source": [
    "Image = namedtuple('Image','date file')\n",
    "\n",
    "types = {'sentinel2':{'files':'s2*tif','date_loc':slice(-12,-4)}}\n",
    "\n",
    "image_loc = Path('raw_ndvi')\n",
    "meta = types['sentinel2']\n",
    "pattern = meta['files']\n",
    "date_loc = meta['date_loc']"
   ]
  },
  {
   "cell_type": "code",
   "execution_count": 6,
   "id": "1d5cd1d8-42ba-440b-ba2f-25346cbf2bb6",
   "metadata": {},
   "outputs": [
    {
     "data": {
      "text/plain": [
       "[Image(date='20161122', file=PosixPath('raw_ndvi/s2_l2_R129_T60HUB_20161122.tif')),\n",
       " Image(date='20171122', file=PosixPath('raw_ndvi/s2_l2_R129_T60HUB_20171122.tif')),\n",
       " Image(date='20181217', file=PosixPath('raw_ndvi/s2_l2_R129_T60HUB_20181217.tif')),\n",
       " Image(date='20191122', file=PosixPath('raw_ndvi/s2_l2_R129_T60HUB_20191122.tif')),\n",
       " Image(date='20201201', file=PosixPath('raw_ndvi/s2_l2_R129_T60HUB_20201201.tif')),\n",
       " Image(date='20211101', file=PosixPath('raw_ndvi/s2_l2_R129_T60HUB_20211101.tif'))]"
      ]
     },
     "execution_count": 6,
     "metadata": {},
     "output_type": "execute_result"
    }
   ],
   "source": [
    "images = [Image(x.name[date_loc],x) for x in image_loc.glob(pattern)]\n",
    "images"
   ]
  },
  {
   "cell_type": "code",
   "execution_count": 7,
   "id": "c83d4846-b030-4a52-9600-edd3d224e74a",
   "metadata": {},
   "outputs": [
    {
     "data": {
      "text/plain": [
       "[Image(date='20161122', file=PosixPath('raw_ndvi/s2_l2_R129_T60HUB_20161122.tif')),\n",
       " Image(date='20171122', file=PosixPath('raw_ndvi/s2_l2_R129_T60HUB_20171122.tif')),\n",
       " Image(date='20181217', file=PosixPath('raw_ndvi/s2_l2_R129_T60HUB_20181217.tif')),\n",
       " Image(date='20191122', file=PosixPath('raw_ndvi/s2_l2_R129_T60HUB_20191122.tif')),\n",
       " Image(date='20201201', file=PosixPath('raw_ndvi/s2_l2_R129_T60HUB_20201201.tif')),\n",
       " Image(date='20211101', file=PosixPath('raw_ndvi/s2_l2_R129_T60HUB_20211101.tif'))]"
      ]
     },
     "execution_count": 7,
     "metadata": {},
     "output_type": "execute_result"
    }
   ],
   "source": [
    "dates = [x.date for x in images]\n",
    "\n",
    "for d in set(dates):\n",
    "    if dates.count(d) > 1:\n",
    "        print(f'merging {d}...')\n",
    "        files = [x.file for x in images if x.date == d]\n",
    "        out_name = '_'.join(files[0].split('_')[:1]+['merged']+files[0].split('_')[-3:])\n",
    "        !gdal_merge.py {' '.join(files)} -o {out_name}\n",
    "\n",
    "images = [Image(x.name[date_loc],x) for x in image_loc.glob(pattern)]\n",
    "\n",
    "merged = [x for x in images if 'merged' in x.file.name]\n",
    "for m in merged:\n",
    "    images = [x for x in images if m.date != x.date]\n",
    "\n",
    "images += merged\n",
    "images"
   ]
  },
  {
   "cell_type": "markdown",
   "id": "e92b29a1-fb55-4744-845f-0631e3ff614a",
   "metadata": {},
   "source": [
    "## Run Autorift"
   ]
  },
  {
   "cell_type": "code",
   "execution_count": 8,
   "id": "9f4ab030-ec71-4b10-9898-8bd73692bc3f",
   "metadata": {},
   "outputs": [
    {
     "data": {
      "text/plain": [
       "15"
      ]
     },
     "execution_count": 8,
     "metadata": {},
     "output_type": "execute_result"
    }
   ],
   "source": [
    "pairs = [sorted(x) for x in itertools.combinations([y.file for y in images],2)]\n",
    "len(pairs)"
   ]
  },
  {
   "cell_type": "code",
   "execution_count": 10,
   "id": "b9bed7ee-1904-4f2f-ab3d-2ddb01e3dff8",
   "metadata": {},
   "outputs": [],
   "source": [
    "from pathlib import Path\n",
    "out_dir = Path('autorift_ndvi')\n",
    "\n",
    "if not out_dir.exists():\n",
    "    out_dir.mkdir()"
   ]
  },
  {
   "cell_type": "code",
   "execution_count": 11,
   "id": "b5868948-ba5a-44d2-953b-53fa83caa642",
   "metadata": {},
   "outputs": [
    {
     "name": "stderr",
     "output_type": "stream",
     "text": [
      "/opt/conda/lib/python3.9/site-packages/numpy/lib/nanfunctions.py:1119: RuntimeWarning: All-NaN slice encountered\n",
      "  r, k = function_base._ureduce(a, func=_nanmedian, axis=axis, out=out,\n",
      "/opt/conda/lib/python3.9/site-packages/autoRIFT/autoRIFT.py:1468: RuntimeWarning: divide by zero encountered in true_divide\n",
      "  DxMadmin = np.ones(Dx.shape) / OverSampleRatio / SearchLimitX * 2;\n",
      "/opt/conda/lib/python3.9/site-packages/autoRIFT/autoRIFT.py:1469: RuntimeWarning: divide by zero encountered in true_divide\n",
      "  DyMadmin = np.ones(Dy.shape) / OverSampleRatio / SearchLimitY * 2;\n",
      "/opt/conda/lib/python3.9/site-packages/autoRIFT/autoRIFT.py:1399: RuntimeWarning: Mean of empty slice\n",
      "  C = np.nanmean(B,axis=0)\n"
     ]
    },
    {
     "name": "stdout",
     "output_type": "stream",
     "text": [
      "1 of 15 complete\n",
      "2 of 15 complete\n",
      "3 of 15 complete\n",
      "4 of 15 complete\n",
      "5 of 15 complete\n",
      "6 of 15 complete\n",
      "7 of 15 complete\n",
      "8 of 15 complete\n",
      "9 of 15 complete\n",
      "10 of 15 complete\n",
      "11 of 15 complete\n",
      "12 of 15 complete\n",
      "13 of 15 complete\n",
      "14 of 15 complete\n",
      "15 of 15 complete\n",
      "done!\n"
     ]
    }
   ],
   "source": [
    "for i, (ref_file,sec_file) in enumerate(pairs):\n",
    "    ref, crs, gtfm = rio_read(ref_file,band=1)\n",
    "    sec, _, _ = rio_read(sec_file,band=1)\n",
    "    \n",
    "    # min and max should be different by a factor of 2\n",
    "    result = run_autorift(ref,sec,step=4,min_window=16,max_window=32,min_distance=0,max_distance=10)\n",
    "\n",
    "    base_name = f'autorift_{ref_file.name[date_loc]}T000000_{sec_file.name[date_loc]}T000000'\n",
    "    dx_name = out_dir / (base_name + '_EWOffset.tif')\n",
    "    dy_name = out_dir / (base_name + '_NSOffset.tif')\n",
    "\n",
    "    write_autorift(dx_name,'Dx',result,gtfm,crs)\n",
    "    write_autorift(dy_name,'Dy',result,gtfm,crs)\n",
    "\n",
    "    result = None\n",
    "\n",
    "    print(f'{i+1} of {len(pairs)} complete')\n",
    "\n",
    "print('done!')"
   ]
  },
  {
   "cell_type": "markdown",
   "id": "36e1f410-d674-472b-8f4d-c3ad4c31b54e",
   "metadata": {},
   "source": [
    "## Create MintPy metadata file"
   ]
  },
  {
   "cell_type": "code",
   "execution_count": 13,
   "id": "1b1fabf1-aea4-4772-beaf-c8195b839f42",
   "metadata": {},
   "outputs": [],
   "source": [
    "files = [x.name for x in out_dir.glob('*Offset.tif')]\n",
    "files.sort()\n",
    "\n",
    "lines = [f'{f} {f[9:17]} {f[25:33]}\\n' for f in files]\n",
    "with open(out_dir / 'metadata.txt', 'w') as f:\n",
    "    f.writelines(lines)"
   ]
  },
  {
   "cell_type": "markdown",
   "id": "307a30a7-f0ba-4b0e-b654-2ea19a4b3c33",
   "metadata": {},
   "source": [
    "## Plotting Utilities"
   ]
  },
  {
   "cell_type": "code",
   "execution_count": 16,
   "id": "95889761-ef05-41e4-8cfb-2df60fe3b27a",
   "metadata": {},
   "outputs": [],
   "source": [
    "# f, (ax1,ax2) = plt.subplots(1,2,figsize=(10,5))\n",
    "# ax1.imshow(ref,cmap='gray')\n",
    "# ax2.imshow(sec,cmap='gray')"
   ]
  },
  {
   "cell_type": "code",
   "execution_count": 15,
   "id": "a1a9e236-9701-4d2e-9b46-9b4b8788c575",
   "metadata": {},
   "outputs": [],
   "source": [
    "# f, (ax1,ax2,ax3) = plt.subplots(1,3,figsize=(10,10))\n",
    "# dx = ax1.imshow(result.Dx,vmin=-3,vmax=3)\n",
    "# ax1.set_title('Dx')\n",
    "# dy = ax2.imshow(result.Dy,vmin=-3,vmax=3)\n",
    "# ax2.set_title('Dy')\n",
    "# sr = ax3.imshow(result.ChipSizeX)\n",
    "# ax3.set_title('Chip Size')\n",
    "# plt.tight_layout()"
   ]
  },
  {
   "cell_type": "code",
   "execution_count": null,
   "id": "74106ef6-d0d6-4b77-b8f6-29f0d290d704",
   "metadata": {},
   "outputs": [],
   "source": []
  }
 ],
 "metadata": {
  "kernelspec": {
   "display_name": "Python 3 (ipykernel)",
   "language": "python",
   "name": "python3"
  },
  "language_info": {
   "codemirror_mode": {
    "name": "ipython",
    "version": 3
   },
   "file_extension": ".py",
   "mimetype": "text/x-python",
   "name": "python",
   "nbconvert_exporter": "python",
   "pygments_lexer": "ipython3",
   "version": "3.9.5"
  }
 },
 "nbformat": 4,
 "nbformat_minor": 5
}
