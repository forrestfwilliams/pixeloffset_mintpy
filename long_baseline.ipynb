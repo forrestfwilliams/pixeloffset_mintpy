{
 "cells": [
  {
   "cell_type": "code",
   "execution_count": 18,
   "id": "a46a8795-12af-4524-a42f-6b8fcfdb6401",
   "metadata": {},
   "outputs": [],
   "source": [
    "%matplotlib inline\n",
    "import os\n",
    "import glob\n",
    "import subprocess\n",
    "import itertools\n",
    "from osgeo import gdal\n",
    "from datetime import datetime\n",
    "from datetime import timedelta\n",
    "import shutil\n",
    "import matplotlib.pyplot as plt"
   ]
  },
  {
   "cell_type": "code",
   "execution_count": 34,
   "id": "23530f99-68c7-4d3f-a556-e7c57a2c71a7",
   "metadata": {},
   "outputs": [
    {
     "name": "stdout",
     "output_type": "stream",
     "text": [
      "I:\\sentinel2\\upper\\poroa\n"
     ]
    }
   ],
   "source": [
    "cd I:\\sentinel2\\upper\\poroa"
   ]
  },
  {
   "cell_type": "code",
   "execution_count": 40,
   "id": "98a5358e-2d7b-4084-a679-fdfffcffd3ab",
   "metadata": {},
   "outputs": [],
   "source": [
    "files = glob.glob('*.tif')\n",
    "\n",
    "for f in files:\n",
    "    date1 = datetime.strptime(f[9:24],'%Y%m%dT%H%M%S')\n",
    "    date2 = datetime.strptime(f[25:40],'%Y%m%dT%H%M%S')\n",
    "    d = date2 - date1\n",
    "    if date2 - date1 < timedelta(days=365):\n",
    "        shutil.move(f,os.path.join('short_baseline',f))"
   ]
  },
  {
   "cell_type": "code",
   "execution_count": 41,
   "id": "6a2184d9-bf17-4f50-8473-8a7a639c35b9",
   "metadata": {},
   "outputs": [
    {
     "name": "stdout",
     "output_type": "stream",
     "text": [
      " Volume in drive I is WD\n",
      " Volume Serial Number is 40FB-BE48\n",
      "\n",
      " Directory of I:\\sentinel2\\upper\\poroa\\short_baseline\n",
      "\n",
      "19/08/2021  06:43 PM    <DIR>          .\n",
      "19/08/2021  06:43 PM    <DIR>          ..\n",
      "19/08/2021  05:07 PM           273,234 cosicorr_20160206T221552_20161122T221602_EWOffset.tif\n",
      "19/08/2021  05:07 PM           273,236 cosicorr_20160206T221552_20161122T221602_NSOffset.tif\n",
      "19/08/2021  05:07 PM           273,212 cosicorr_20160206T221552_20161122T221602_offsetSNR.tif\n",
      "19/08/2021  05:07 PM           272,900 cosicorr_20161122T221602_20170421T221601_EWOffset.tif\n",
      "19/08/2021  05:07 PM           272,902 cosicorr_20161122T221602_20170421T221601_NSOffset.tif\n",
      "19/08/2021  05:07 PM           272,894 cosicorr_20161122T221602_20170421T221601_offsetSNR.tif\n",
      "19/08/2021  05:07 PM           272,900 cosicorr_20161122T221602_20170501T221601_EWOffset.tif\n",
      "19/08/2021  05:07 PM           272,902 cosicorr_20161122T221602_20170501T221601_NSOffset.tif\n",
      "19/08/2021  05:07 PM           272,894 cosicorr_20161122T221602_20170501T221601_offsetSNR.tif\n",
      "19/08/2021  05:07 PM           272,900 cosicorr_20161122T221602_20170521T221601_EWOffset.tif\n",
      "19/08/2021  05:07 PM           272,902 cosicorr_20161122T221602_20170521T221601_NSOffset.tif\n",
      "19/08/2021  05:07 PM           272,894 cosicorr_20161122T221602_20170521T221601_offsetSNR.tif\n",
      "19/08/2021  05:07 PM           272,900 cosicorr_20161122T221602_20170804T221559_EWOffset.tif\n",
      "19/08/2021  05:07 PM           272,902 cosicorr_20161122T221602_20170804T221559_NSOffset.tif\n",
      "19/08/2021  05:07 PM           272,894 cosicorr_20161122T221602_20170804T221559_offsetSNR.tif\n",
      "19/08/2021  05:07 PM           272,900 cosicorr_20161122T221602_20171013T221549_EWOffset.tif\n",
      "19/08/2021  05:07 PM           272,902 cosicorr_20161122T221602_20171013T221549_NSOffset.tif\n",
      "19/08/2021  05:07 PM           272,894 cosicorr_20161122T221602_20171013T221549_offsetSNR.tif\n",
      "19/08/2021  05:07 PM           272,900 cosicorr_20161122T221602_20171122T221549_EWOffset.tif\n",
      "19/08/2021  05:07 PM           272,902 cosicorr_20161122T221602_20171122T221549_NSOffset.tif\n",
      "19/08/2021  05:07 PM           272,894 cosicorr_20161122T221602_20171122T221549_offsetSNR.tif\n",
      "19/08/2021  05:08 PM           272,900 cosicorr_20170421T221601_20170501T221601_EWOffset.tif\n",
      "19/08/2021  05:08 PM           272,902 cosicorr_20170421T221601_20170501T221601_NSOffset.tif\n",
      "19/08/2021  05:08 PM           272,894 cosicorr_20170421T221601_20170501T221601_offsetSNR.tif\n",
      "19/08/2021  05:08 PM           272,900 cosicorr_20170421T221601_20170521T221601_EWOffset.tif\n",
      "19/08/2021  05:08 PM           272,902 cosicorr_20170421T221601_20170521T221601_NSOffset.tif\n",
      "19/08/2021  05:08 PM           272,894 cosicorr_20170421T221601_20170521T221601_offsetSNR.tif\n",
      "19/08/2021  05:08 PM           272,900 cosicorr_20170421T221601_20170804T221559_EWOffset.tif\n",
      "19/08/2021  05:08 PM           272,902 cosicorr_20170421T221601_20170804T221559_NSOffset.tif\n",
      "19/08/2021  05:08 PM           272,894 cosicorr_20170421T221601_20170804T221559_offsetSNR.tif\n",
      "19/08/2021  05:08 PM           272,900 cosicorr_20170421T221601_20171013T221549_EWOffset.tif\n",
      "19/08/2021  05:08 PM           272,902 cosicorr_20170421T221601_20171013T221549_NSOffset.tif\n",
      "19/08/2021  05:08 PM           272,894 cosicorr_20170421T221601_20171013T221549_offsetSNR.tif\n",
      "19/08/2021  05:08 PM           272,900 cosicorr_20170421T221601_20171122T221549_EWOffset.tif\n",
      "19/08/2021  05:08 PM           272,902 cosicorr_20170421T221601_20171122T221549_NSOffset.tif\n",
      "19/08/2021  05:08 PM           272,894 cosicorr_20170421T221601_20171122T221549_offsetSNR.tif\n",
      "19/08/2021  05:08 PM           272,900 cosicorr_20170421T221601_20180317T221601_EWOffset.tif\n",
      "19/08/2021  05:08 PM           272,902 cosicorr_20170421T221601_20180317T221601_NSOffset.tif\n",
      "19/08/2021  05:08 PM           272,894 cosicorr_20170421T221601_20180317T221601_offsetSNR.tif\n",
      "19/08/2021  05:08 PM           272,900 cosicorr_20170501T221601_20170521T221601_EWOffset.tif\n",
      "19/08/2021  05:08 PM           272,902 cosicorr_20170501T221601_20170521T221601_NSOffset.tif\n",
      "19/08/2021  05:08 PM           272,894 cosicorr_20170501T221601_20170521T221601_offsetSNR.tif\n",
      "19/08/2021  05:08 PM           272,900 cosicorr_20170501T221601_20170804T221559_EWOffset.tif\n",
      "19/08/2021  05:08 PM           272,902 cosicorr_20170501T221601_20170804T221559_NSOffset.tif\n",
      "19/08/2021  05:08 PM           272,894 cosicorr_20170501T221601_20170804T221559_offsetSNR.tif\n",
      "19/08/2021  05:08 PM           272,900 cosicorr_20170501T221601_20171013T221549_EWOffset.tif\n",
      "19/08/2021  05:08 PM           272,902 cosicorr_20170501T221601_20171013T221549_NSOffset.tif\n",
      "19/08/2021  05:08 PM           272,894 cosicorr_20170501T221601_20171013T221549_offsetSNR.tif\n",
      "19/08/2021  05:08 PM           272,900 cosicorr_20170501T221601_20171122T221549_EWOffset.tif\n",
      "19/08/2021  05:08 PM           272,902 cosicorr_20170501T221601_20171122T221549_NSOffset.tif\n",
      "19/08/2021  05:08 PM           272,894 cosicorr_20170501T221601_20171122T221549_offsetSNR.tif\n",
      "19/08/2021  05:08 PM           272,900 cosicorr_20170501T221601_20180317T221601_EWOffset.tif\n",
      "19/08/2021  05:08 PM           272,902 cosicorr_20170501T221601_20180317T221601_NSOffset.tif\n",
      "19/08/2021  05:08 PM           272,894 cosicorr_20170501T221601_20180317T221601_offsetSNR.tif\n",
      "19/08/2021  05:08 PM           272,900 cosicorr_20170521T221601_20170804T221559_EWOffset.tif\n",
      "19/08/2021  05:08 PM           272,902 cosicorr_20170521T221601_20170804T221559_NSOffset.tif\n",
      "19/08/2021  05:08 PM           272,894 cosicorr_20170521T221601_20170804T221559_offsetSNR.tif\n"
     ]
    }
   ],
   "source": [
    "ls short_baseline"
   ]
  },
  {
   "cell_type": "code",
   "execution_count": null,
   "id": "9b3fb0a9-a3af-4a47-901d-2f947e1aaeab",
   "metadata": {},
   "outputs": [],
   "source": []
  }
 ],
 "metadata": {
  "kernelspec": {
   "display_name": "Python 3 (ipykernel)",
   "language": "python",
   "name": "python3"
  },
  "language_info": {
   "codemirror_mode": {
    "name": "ipython",
    "version": 3
   },
   "file_extension": ".py",
   "mimetype": "text/x-python",
   "name": "python",
   "nbconvert_exporter": "python",
   "pygments_lexer": "ipython3",
   "version": "3.9.5"
  }
 },
 "nbformat": 4,
 "nbformat_minor": 5
}
