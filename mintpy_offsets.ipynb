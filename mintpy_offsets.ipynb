{
 "cells": [
  {
   "cell_type": "markdown",
   "id": "689e9395-905b-4027-a439-7d7e65695735",
   "metadata": {},
   "source": [
    "# MintPy Offset"
   ]
  },
  {
   "cell_type": "markdown",
   "id": "16eeb5cc-ca35-45ca-9c3f-2589068d75b7",
   "metadata": {},
   "source": [
    "## Setup"
   ]
  },
  {
   "cell_type": "code",
   "execution_count": 68,
   "id": "8b533a6a-7590-4017-b517-22308a34e73e",
   "metadata": {},
   "outputs": [],
   "source": [
    "%matplotlib inline\n",
    "# %matplotlib widget\n",
    "from osgeo import gdal\n",
    "import numpy as np\n",
    "import glob\n",
    "import os\n",
    "import matplotlib.pyplot as plt\n",
    "from mintpy.utils import readfile, writefile, utils as ut\n",
    "from mintpy.objects import ifgramStack\n",
    "from mintpy import workflow, view, tsview, plot_network, plot_transection, plot_coherence_matrix"
   ]
  },
  {
   "cell_type": "code",
   "execution_count": 2,
   "id": "40d2533e-d5fb-425b-99b5-4c234303f5b9",
   "metadata": {},
   "outputs": [
    {
     "name": "stdout",
     "output_type": "stream",
     "text": [
      "/home/fw/data/cosicorr\n"
     ]
    }
   ],
   "source": [
    "cd ../cosicorr"
   ]
  },
  {
   "cell_type": "code",
   "execution_count": 35,
   "id": "bc135026-bcf7-41b5-b175-63e8489fd15f",
   "metadata": {},
   "outputs": [],
   "source": [
    "# create separate tif files for each band\n",
    "files = glob.glob('*.dat')\n",
    "files.sort()\n",
    "for fname in files:\n",
    "    for b, dataset in enumerate(['EWOffset','NSOffset','offsetSNR']):\n",
    "        fname_out = f'{os.path.splitext(fname)[0]}_{dataset}.tif'\n",
    "        ds = gdal.Open(fname)\n",
    "        ds = gdal.Translate(fname_out, ds, bandList = [b+1])\n",
    "        ds = None\n",
    "\n",
    "# write mintpy file\n",
    "files = glob.glob('*EWOffset.tif')+glob.glob('*NSOffset.tif')+glob.glob('*offsetSNR.tif')\n",
    "files.sort()\n",
    "lines = [f'{f} {f[9:17]} {f[25:33]}\\n' for f in files]\n",
    "with open('metadata.txt', 'w') as f:\n",
    "    f.writelines(lines)"
   ]
  },
  {
   "cell_type": "code",
   "execution_count": 3,
   "id": "0bad9ed0-387c-4763-89b8-0face10eae18",
   "metadata": {},
   "outputs": [
    {
     "name": "stdout",
     "output_type": "stream",
     "text": [
      "/home/fw/data/cosicorr/mintpy\n"
     ]
    }
   ],
   "source": [
    "cd mintpy"
   ]
  },
  {
   "cell_type": "markdown",
   "id": "8bdec918-ae75-48b3-95bf-c13df81db2ba",
   "metadata": {
    "jp-MarkdownHeadingCollapsed": true,
    "tags": []
   },
   "source": [
    "## Load Data"
   ]
  },
  {
   "cell_type": "code",
   "execution_count": 6,
   "id": "d948e82d-ea78-4f6e-a983-9f2473b0b85f",
   "metadata": {},
   "outputs": [
    {
     "name": "stdout",
     "output_type": "stream",
     "text": [
      "processor : cosicorr\n",
      "SAR platform/sensor : unknown from project name \"None\"\n",
      "--------------------------------------------------\n",
      "prepare metadata files for cosicorr products\n",
      "prep_cosicorr.py ../*NSOffset.tif --metadata ../metadata.txt\n",
      "prep_cosicorr.py ../*EWOffset.tif --metadata ../metadata.txt\n",
      "prep_cosicorr.py ../*offsetSNR.tif --metadata ../metadata.txt\n",
      "--------------------------------------------------\n",
      "searching interferometric pairs info\n",
      "input data files:\n",
      "rangeOffset     : ../*EWOffset.tif\n",
      "azimuthOffset   : ../*NSOffset.tif\n",
      "offsetSNR       : ../*offsetSNR.tif\n",
      "number of rangeOffset     : 15\n",
      "number of azimuthOffset   : 15\n",
      "number of offsetSNR       : 15\n",
      "Un-recognized InSAR processor: cosicorr\n",
      "--------------------------------------------------\n",
      "searching geometry files info\n",
      "input data files:\n",
      "WARNING: No reqired height data files found!\n",
      "--------------------------------------------------\n",
      "updateMode : False\n",
      "compression: None\n",
      "x/ystep: 1/1\n",
      "--------------------------------------------------\n",
      "create HDF5 file /home/fw/data/cosicorr/mintpy/inputs/ifgramStack.h5 with w mode\n",
      "create dataset /rangeOffset   of <class 'numpy.float32'>   in size of (15, 501, 501) with compression = None\n",
      "[==================================================] 20191122_20210130    1s /     0s\n",
      "create dataset /azimuthOffset of <class 'numpy.float32'>   in size of (15, 501, 501) with compression = None\n",
      "[==================================================] 20191122_20210130    0s /     0s\n",
      "create dataset /offsetSNR     of <class 'numpy.float32'>   in size of (15, 501, 501) with compression = None\n",
      "[==================================================] 20191122_20210130    0s /     0s\n",
      "create dataset /date          of <class 'numpy.bytes_'>    in size of (15, 2)\n",
      "create dataset /bperp         of <class 'numpy.float32'>   in size of (15,)\n",
      "create dataset /dropIfgram    of <class 'numpy.bool_'>     in size of (15,)\n",
      "Finished writing to /home/fw/data/cosicorr/mintpy/inputs/ifgramStack.h5\n",
      "time used: 00 mins 4.5 secs.\n",
      "\n"
     ]
    }
   ],
   "source": [
    "!load_data.py -t ../pixeloffset_mintpy/cosicorr.cfg"
   ]
  },
  {
   "cell_type": "markdown",
   "id": "f363c197-9608-4a0d-9b67-bc368a7b981b",
   "metadata": {
    "tags": []
   },
   "source": [
    "## SNR Mask Generation"
   ]
  },
  {
   "cell_type": "code",
   "execution_count": 4,
   "id": "ed12f36f-2215-49df-9bba-b6e35651574e",
   "metadata": {},
   "outputs": [
    {
     "name": "stdout",
     "output_type": "stream",
     "text": [
      "output file: avgSNR.h5\n",
      "calculate the temporal average of offsetSNR in file inputs/ifgramStack.h5 ...\n",
      "[==================================================] lines 501/501    0s /     0s \n",
      "delete exsited file: avgSNR.h5\n",
      "create HDF5 file: avgSNR.h5 with w mode\n",
      "create dataset /offsetSNR of float32    in size of (501, 501)           with compression=None\n",
      "finished writing to avgSNR.h5\n",
      "time used: 00 mins 0.2 secs\n",
      "\n"
     ]
    }
   ],
   "source": [
    "!temporal_average.py inputs/ifgramStack.h5 -d offsetSNR -o avgSNR.h5"
   ]
  },
  {
   "cell_type": "code",
   "execution_count": 39,
   "id": "52f81b1c-665d-4c7d-ba2e-5eeca8af4fd4",
   "metadata": {},
   "outputs": [
    {
     "data": {
      "text/plain": [
       "(0.0, 50000.0)"
      ]
     },
     "execution_count": 39,
     "metadata": {},
     "output_type": "execute_result"
    },
    {
     "data": {
      "image/png": "[encoded data removed]",
      "text/plain": [
       "<Figure size 432x288 with 1 Axes>"
      ]
     },
     "metadata": {
      "needs_background": "light"
     },
     "output_type": "display_data"
    }
   ],
   "source": [
    "data, atr = readfile.read('avgSNR.h5')\n",
    "\n",
    "fig, ax = plt.subplots(1, 1, tight_layout=True)\n",
    "ax.hist(data.flatten(),100)\n",
    "ax.set_xlim(0.8,1)\n",
    "ax.set_ylim(0.0,50000.0)"
   ]
  },
  {
   "cell_type": "code",
   "execution_count": 37,
   "id": "7ebbd3e0-cc48-4f32-81c4-7c61571f5aff",
   "metadata": {},
   "outputs": [
    {
     "name": "stdout",
     "output_type": "stream",
     "text": [
      "input offsetSNR file: avgSNR.h5\n",
      "read avgSNR.h5\n",
      "create initial mask with the same size as the input file and all = 1\n",
      "all pixels with nan value = 0\n",
      "exclude pixels with value < 0.98\n",
      "delete exsited file: maskSNR.h5\n",
      "create HDF5 file: maskSNR.h5 with w mode\n",
      "create dataset /mask of bool       in size of (501, 501)           with compression=None\n",
      "finished writing to maskSNR.h5\n",
      "time used: 00 mins 0.0 secs.\n",
      "view.py maskSNR.h5 --noverbose\n"
     ]
    },
    {
     "data": {
      "image/png": "[encoded data removed]",
      "text/plain": [
       "<Figure size 540x432 with 2 Axes>"
      ]
     },
     "metadata": {
      "needs_background": "light"
     },
     "output_type": "display_data"
    }
   ],
   "source": [
    "!generate_mask.py avgSNR.h5 -m 0.98 -o maskSNR.h5\n",
    "view.main('maskSNR.h5 --noverbose'.split())"
   ]
  },
  {
   "cell_type": "markdown",
   "id": "1e210e43-be66-4c1d-a224-d5bfa6338a6a",
   "metadata": {},
   "source": [
    "## Median Removal"
   ]
  },
  {
   "cell_type": "code",
   "execution_count": 79,
   "id": "4a18e505-28ef-4f1f-be70-7001c3bfe4fa",
   "metadata": {},
   "outputs": [
    {
     "name": "stdout",
     "output_type": "stream",
     "text": [
      "['azimuthOffsetSpatialAvg.txt'] exists and is newer than ['inputs/ifgramStack.h5', 'maskSNR.h5'] --> skip.\n",
      "azimuthOffsetSpatialAvg.txt already exists, read it directly\n",
      "['rangeOffsetSpatialAvg.txt'] exists and is newer than ['inputs/ifgramStack.h5', 'maskSNR.h5'] --> skip.\n",
      "rangeOffsetSpatialAvg.txt already exists, read it directly\n"
     ]
    }
   ],
   "source": [
    "mean_az, date12_list = ut.spatial_average('inputs/ifgramStack.h5', datasetName='azimuthOffset', maskFile='maskSNR.h5', saveList=True)\n",
    "mean_rg, date12_list = ut.spatial_average('inputs/ifgramStack.h5', datasetName='rangeOffset', maskFile='maskSNR.h5', saveList=True)\n",
    "\n",
    "az, atr = readfile.read('inputs/ifgramStack.h5', datasetName='azimuthOffset')\n",
    "rg, atr = readfile.read('inputs/ifgramStack.h5', datasetName='rangeOffset')\n",
    "snr, atr = readfile.read('inputs/ifgramStack.h5', datasetName='offsetSNR')\n",
    "\n",
    "for i,m in enumerate(mean_az):\n",
    "    az[i] -= m\n",
    "\n",
    "for i,m in enumerate(mean_rg):\n",
    "    rg[i] -= m"
   ]
  },
  {
   "cell_type": "code",
   "execution_count": 80,
   "id": "e6efbf52-c836-4ad6-ad7c-5e371671e510",
   "metadata": {},
   "outputs": [
    {
     "name": "stdout",
     "output_type": "stream",
     "text": [
      "create HDF5 file: inputs/ifgramStack_median.h5 with w mode\n",
      "create dataset /rangeOffset   of float32    in size of (15, 501, 501)       with compression=None\n",
      "create dataset /azimuthOffset of float32    in size of (15, 501, 501)       with compression=None\n",
      "create dataset /offsetSNR     of float32    in size of (15, 501, 501)       with compression=None\n",
      "create dataset /bperp         of float32    in size of (15,)      with compression=None\n",
      "create dataset /date          of |S8        in size of (15, 2)    with compression=None\n",
      "create dataset /dropIfgram    of bool       in size of (15,)      with compression=None\n",
      "finished writing to inputs/ifgramStack_median.h5\n"
     ]
    },
    {
     "data": {
      "text/plain": [
       "'inputs/ifgramStack_median.h5'"
      ]
     },
     "execution_count": 80,
     "metadata": {},
     "output_type": "execute_result"
    }
   ],
   "source": [
    "datasetDict = {'rangeOffset':rg, 'azimuthOffset':az, 'offsetSNR':snr}\n",
    "writefile.write(datasetDict,out_file='inputs/ifgramStack_median.h5',ref_file='inputs/ifgramStack.h5')"
   ]
  },
  {
   "cell_type": "markdown",
   "id": "72bd0d89-5edd-45fe-8d61-0127dcdcee35",
   "metadata": {},
   "source": [
    "## Double Difference"
   ]
  },
  {
   "cell_type": "code",
   "execution_count": 94,
   "id": "7fc34681-5120-401c-b2de-3aade56a696d",
   "metadata": {},
   "outputs": [
    {
     "name": "stdout",
     "output_type": "stream",
     "text": [
      "filtering ifgramStack file: inputs/ifgramStack.h5 using double_difference filter with local/regional kernel sizes of 1/12\n",
      "filtering azimuthOffset from ifgramStack.h5  15/15 ...\n",
      "filtering rangeOffset   from ifgramStack.h5  15/15 ...\n",
      "create HDF5 file: inputs/ifgramStackDD.h5 with w mode\n",
      "create dataset /offsetSNR     of float32    in size of (15, 501, 501)       with compression=None\n",
      "create dataset /azimuthOffset of float32    in size of (15, 501, 501)       with compression=None\n",
      "create dataset /rangeOffset   of float32    in size of (15, 501, 501)       with compression=None\n",
      "create dataset /bperp         of float32    in size of (15,)      with compression=None\n",
      "create dataset /date          of |S8        in size of (15, 2)    with compression=None\n",
      "create dataset /dropIfgram    of bool       in size of (15,)      with compression=None\n",
      "finished writing to inputs/ifgramStackDD.h5\n",
      "Done.\n"
     ]
    }
   ],
   "source": [
    "!spatial_filter.py inputs/ifgramStack.h5 azimuthOffset rangeOffset -o inputs/ifgramStackDD.h5  -f double_difference -p 1 12"
   ]
  },
  {
   "cell_type": "markdown",
   "id": "a61fd169-abf6-4896-ab4f-e9037258501a",
   "metadata": {},
   "source": [
    "## Spatial Average"
   ]
  },
  {
   "cell_type": "code",
   "execution_count": 99,
   "id": "15e7881f-55aa-4b4d-bb6c-7ea25fd3b2dc",
   "metadata": {},
   "outputs": [
    {
     "name": "stdout",
     "output_type": "stream",
     "text": [
      "filtering ifgramStack file: inputs/ifgramStack.h5 using lowpass_avg filter with kernel size of 12\n",
      "filtering azimuthOffset from ifgramStack.h5  15/15 ...\n",
      "filtering rangeOffset   from ifgramStack.h5  15/15 ...\n",
      "create HDF5 file: inputs/ifgramStackLocal.h5 with w mode\n",
      "create dataset /offsetSNR     of float32    in size of (15, 501, 501)       with compression=None\n",
      "create dataset /azimuthOffset of float32    in size of (15, 501, 501)       with compression=None\n",
      "create dataset /rangeOffset   of float32    in size of (15, 501, 501)       with compression=None\n",
      "create dataset /bperp         of float32    in size of (15,)      with compression=None\n",
      "create dataset /date          of |S8        in size of (15, 2)    with compression=None\n",
      "create dataset /dropIfgram    of bool       in size of (15,)      with compression=None\n",
      "finished writing to inputs/ifgramStackLocal.h5\n",
      "Done.\n"
     ]
    }
   ],
   "source": [
    "!spatial_filter.py inputs/ifgramStack.h5 azimuthOffset rangeOffset -o inputs/ifgramStackLocal.h5 -f lowpass_avg -p 12"
   ]
  },
  {
   "cell_type": "markdown",
   "id": "afac7e86-fe18-4fc0-af82-e3cc7d794f20",
   "metadata": {
    "tags": []
   },
   "source": [
    "## Inversion"
   ]
  },
  {
   "cell_type": "code",
   "execution_count": 100,
   "id": "06e5d817-3474-45bc-ab13-52c9705a2cd4",
   "metadata": {},
   "outputs": [
    {
     "name": "stdout",
     "output_type": "stream",
     "text": [
      "save the original settings of ['OMP_NUM_THREADS', 'OPENBLAS_NUM_THREADS', 'MKL_NUM_THREADS', 'NUMEXPR_NUM_THREADS', 'VECLIB_MAXIMUM_THREADS']\n",
      "set OMP_NUM_THREADS = 1\n",
      "set OPENBLAS_NUM_THREADS = 1\n",
      "set MKL_NUM_THREADS = 1\n",
      "set NUMEXPR_NUM_THREADS = 1\n",
      "set VECLIB_MAXIMUM_THREADS = 1\n",
      "skip checking reference pixel info - This is for offset and testing ONLY.\n",
      "-------------------------------------------------------------------------------\n",
      "least-squares solution with L2 min-norm on: deformation velocity\n",
      "minimum redundancy: 1.0\n",
      "weight function: no\n",
      "mask out pixels with: offsetSNR < 0.98\n",
      "-------------------------------------------------------------------------------\n",
      "number of interferograms: 15\n",
      "number of acquisitions  : 6\n",
      "number of lines   : 501\n",
      "number of columns : 501\n",
      "--------------------------------------------------\n",
      "create HDF5 file: timeseriesRg.h5 with w mode\n",
      "create dataset  : date       of |S8                       in size of (6,)                 with compression = None\n",
      "create dataset  : bperp      of <class 'numpy.float32'>   in size of (6,)                 with compression = None\n",
      "create dataset  : timeseries of <class 'numpy.float32'>   in size of (6, 501, 501)        with compression = None\n",
      "close  HDF5 file: timeseriesRg.h5\n",
      "--------------------------------------------------\n",
      "create HDF5 file: residualInvRg.h5 with w mode\n",
      "create dataset  : residual of <class 'numpy.float32'>   in size of (501, 501)           with compression = None\n",
      "close  HDF5 file: residualInvRg.h5\n",
      "--------------------------------------------------\n",
      "create HDF5 file: numInvOffsetRg.h5 with w mode\n",
      "create dataset  : mask of <class 'numpy.float32'>   in size of (501, 501)           with compression = None\n",
      "close  HDF5 file: numInvOffsetRg.h5\n",
      "maximum memory size: 4.0E+00 GB\n",
      "split 501 lines into 2 patches for processing\n",
      "    with each patch up to 500 lines\n",
      "\n",
      "------- processing patch 1 out of 2 --------------\n",
      "box width:  501\n",
      "box length: 500\n",
      "reading rangeOffset in (0, 0, 501, 500) * 15 ...\n",
      "use input reference phase\n",
      "reading offsetSNR in (0, 0, 501, 500) * 15 ...\n",
      "mask out pixels with offsetSNR < 0.98 by setting them to NaN\n",
      "skip pixels with rangeOffset = NaN in all interferograms\n",
      "number of pixels to invert: 235225 out of 250500 (93.9%)\n",
      "inverting pixels with valid rangeOffset in all  ifgrams (192542 pixels; 81.9%) ...\n",
      "inverting pixels with valid rangeOffset in some ifgrams (42683 pixels; 81.9%) ...\n",
      "[==================================================] 42683/42683 pixels    4s /     0s\n",
      "--------------------------------------------------\n",
      "open  HDF5 file timeseriesRg.h5 in a mode\n",
      "writing dataset /timeseries                block: [0, 6, 0, 500, 0, 501]\n",
      "close HDF5 file timeseriesRg.h5.\n",
      "--------------------------------------------------\n",
      "open  HDF5 file residualInvRg.h5 in a mode\n",
      "writing dataset /residual                  block: [0, 500, 0, 501]\n",
      "close HDF5 file residualInvRg.h5.\n",
      "--------------------------------------------------\n",
      "open  HDF5 file numInvOffsetRg.h5 in a mode\n",
      "writing dataset /mask                      block: [0, 500, 0, 501]\n",
      "close HDF5 file numInvOffsetRg.h5.\n",
      "time used: 00 mins 5.1 secs.\n",
      "\n",
      "\n",
      "------- processing patch 2 out of 2 --------------\n",
      "box width:  501\n",
      "box length: 1\n",
      "reading rangeOffset in (0, 500, 501, 501) * 15 ...\n",
      "use input reference phase\n",
      "reading offsetSNR in (0, 500, 501, 501) * 15 ...\n",
      "mask out pixels with offsetSNR < 0.98 by setting them to NaN\n",
      "skip pixels with rangeOffset = NaN in all interferograms\n",
      "number of pixels to invert: 0 out of 501 (0.0%)\n",
      "--------------------------------------------------\n",
      "open  HDF5 file timeseriesRg.h5 in a mode\n",
      "writing dataset /timeseries                block: [0, 6, 500, 501, 0, 501]\n",
      "close HDF5 file timeseriesRg.h5.\n",
      "--------------------------------------------------\n",
      "open  HDF5 file residualInvRg.h5 in a mode\n",
      "writing dataset /residual                  block: [500, 501, 0, 501]\n",
      "close HDF5 file residualInvRg.h5.\n",
      "--------------------------------------------------\n",
      "open  HDF5 file numInvOffsetRg.h5 in a mode\n",
      "writing dataset /mask                      block: [500, 501, 0, 501]\n",
      "close HDF5 file numInvOffsetRg.h5.\n",
      "time used: 00 mins 5.1 secs.\n",
      "\n",
      "roll back to the original settings of ['OMP_NUM_THREADS', 'OPENBLAS_NUM_THREADS', 'MKL_NUM_THREADS', 'NUMEXPR_NUM_THREADS', 'VECLIB_MAXIMUM_THREADS']\n",
      "remove env variable OMP_NUM_THREADS\n",
      "remove env variable OPENBLAS_NUM_THREADS\n",
      "remove env variable MKL_NUM_THREADS\n",
      "remove env variable NUMEXPR_NUM_THREADS\n",
      "remove env variable VECLIB_MAXIMUM_THREADS\n",
      "time used: 00 mins 5.1 secs.\n",
      "\n",
      "save the original settings of ['OMP_NUM_THREADS', 'OPENBLAS_NUM_THREADS', 'MKL_NUM_THREADS', 'NUMEXPR_NUM_THREADS', 'VECLIB_MAXIMUM_THREADS']\n",
      "set OMP_NUM_THREADS = 1\n",
      "set OPENBLAS_NUM_THREADS = 1\n",
      "set MKL_NUM_THREADS = 1\n",
      "set NUMEXPR_NUM_THREADS = 1\n",
      "set VECLIB_MAXIMUM_THREADS = 1\n",
      "skip checking reference pixel info - This is for offset and testing ONLY.\n",
      "-------------------------------------------------------------------------------\n",
      "least-squares solution with L2 min-norm on: deformation velocity\n",
      "minimum redundancy: 1.0\n",
      "weight function: no\n",
      "mask out pixels with: offsetSNR < 0.98\n",
      "-------------------------------------------------------------------------------\n",
      "number of interferograms: 15\n",
      "number of acquisitions  : 6\n",
      "number of lines   : 501\n",
      "number of columns : 501\n",
      "--------------------------------------------------\n",
      "create HDF5 file: timeseriesAz.h5 with w mode\n",
      "create dataset  : date       of |S8                       in size of (6,)                 with compression = None\n",
      "create dataset  : bperp      of <class 'numpy.float32'>   in size of (6,)                 with compression = None\n",
      "create dataset  : timeseries of <class 'numpy.float32'>   in size of (6, 501, 501)        with compression = None\n",
      "close  HDF5 file: timeseriesAz.h5\n",
      "--------------------------------------------------\n",
      "create HDF5 file: residualInvAz.h5 with w mode\n",
      "create dataset  : residual of <class 'numpy.float32'>   in size of (501, 501)           with compression = None\n",
      "close  HDF5 file: residualInvAz.h5\n",
      "--------------------------------------------------\n",
      "create HDF5 file: numInvOffsetAz.h5 with w mode\n",
      "create dataset  : mask of <class 'numpy.float32'>   in size of (501, 501)           with compression = None\n",
      "close  HDF5 file: numInvOffsetAz.h5\n",
      "maximum memory size: 4.0E+00 GB\n",
      "split 501 lines into 2 patches for processing\n",
      "    with each patch up to 500 lines\n",
      "\n",
      "------- processing patch 1 out of 2 --------------\n",
      "box width:  501\n",
      "box length: 500\n",
      "reading azimuthOffset in (0, 0, 501, 500) * 15 ...\n",
      "use input reference phase\n",
      "reading offsetSNR in (0, 0, 501, 500) * 15 ...\n",
      "mask out pixels with offsetSNR < 0.98 by setting them to NaN\n",
      "skip pixels with azimuthOffset = NaN in all interferograms\n",
      "number of pixels to invert: 235225 out of 250500 (93.9%)\n",
      "inverting pixels with valid azimuthOffset in all  ifgrams (192542 pixels; 81.9%) ...\n",
      "inverting pixels with valid azimuthOffset in some ifgrams (42683 pixels; 81.9%) ...\n",
      "[==================================================] 42683/42683 pixels    4s /     0s\n",
      "--------------------------------------------------\n",
      "open  HDF5 file timeseriesAz.h5 in a mode\n",
      "writing dataset /timeseries                block: [0, 6, 0, 500, 0, 501]\n",
      "close HDF5 file timeseriesAz.h5.\n",
      "--------------------------------------------------\n",
      "open  HDF5 file residualInvAz.h5 in a mode\n",
      "writing dataset /residual                  block: [0, 500, 0, 501]\n",
      "close HDF5 file residualInvAz.h5.\n",
      "--------------------------------------------------\n",
      "open  HDF5 file numInvOffsetAz.h5 in a mode\n",
      "writing dataset /mask                      block: [0, 500, 0, 501]\n",
      "close HDF5 file numInvOffsetAz.h5.\n",
      "time used: 00 mins 5.0 secs.\n",
      "\n",
      "\n",
      "------- processing patch 2 out of 2 --------------\n",
      "box width:  501\n",
      "box length: 1\n",
      "reading azimuthOffset in (0, 500, 501, 501) * 15 ...\n",
      "use input reference phase\n",
      "reading offsetSNR in (0, 500, 501, 501) * 15 ...\n",
      "mask out pixels with offsetSNR < 0.98 by setting them to NaN\n",
      "skip pixels with azimuthOffset = NaN in all interferograms\n",
      "number of pixels to invert: 0 out of 501 (0.0%)\n",
      "--------------------------------------------------\n",
      "open  HDF5 file timeseriesAz.h5 in a mode\n",
      "writing dataset /timeseries                block: [0, 6, 500, 501, 0, 501]\n",
      "close HDF5 file timeseriesAz.h5.\n",
      "--------------------------------------------------\n",
      "open  HDF5 file residualInvAz.h5 in a mode\n",
      "writing dataset /residual                  block: [500, 501, 0, 501]\n",
      "close HDF5 file residualInvAz.h5.\n",
      "--------------------------------------------------\n",
      "open  HDF5 file numInvOffsetAz.h5 in a mode\n",
      "writing dataset /mask                      block: [500, 501, 0, 501]\n",
      "close HDF5 file numInvOffsetAz.h5.\n",
      "time used: 00 mins 5.0 secs.\n",
      "\n",
      "roll back to the original settings of ['OMP_NUM_THREADS', 'OPENBLAS_NUM_THREADS', 'MKL_NUM_THREADS', 'NUMEXPR_NUM_THREADS', 'VECLIB_MAXIMUM_THREADS']\n",
      "remove env variable OMP_NUM_THREADS\n",
      "remove env variable OPENBLAS_NUM_THREADS\n",
      "remove env variable MKL_NUM_THREADS\n",
      "remove env variable NUMEXPR_NUM_THREADS\n",
      "remove env variable VECLIB_MAXIMUM_THREADS\n",
      "time used: 00 mins 5.0 secs.\n",
      "\n"
     ]
    }
   ],
   "source": [
    "# !ifgram_inversion.py inputs/ifgramStack.h5 -i rangeOffset -w no --md offsetSNR --mt 0.98 -o timeseriesRg.h5 residualInvRg.h5 numInvOffsetRg.h5\n",
    "# !ifgram_inversion.py inputs/ifgramStack.h5 -i azimuthOffset -w no --md offsetSNR --mt 0.98 -o timeseriesAz.h5 residualInvAz.h5 numInvOffsetAz.h5\n",
    "\n",
    "# !ifgram_inversion.py inputs/ifgramStack_median.h5 -i rangeOffset -w no --md offsetSNR --mt 0.98 -o timeseriesRg.h5 residualInvRg.h5 numInvOffsetRg.h5\n",
    "# !ifgram_inversion.py inputs/ifgramStack_median.h5 -i azimuthOffset -w no --md offsetSNR --mt 0.98 -o timeseriesAz.h5 residualInvAz.h5 numInvOffsetAz.h5\n",
    "\n",
    "!ifgram_inversion.py inputs/ifgramStackLocal.h5 -i rangeOffset -w no --md offsetSNR --mt 0.98 -o timeseriesRg.h5 residualInvRg.h5 numInvOffsetRg.h5\n",
    "!ifgram_inversion.py inputs/ifgramStackLocal.h5 -i azimuthOffset -w no --md offsetSNR --mt 0.98 -o timeseriesAz.h5 residualInvAz.h5 numInvOffsetAz.h5"
   ]
  },
  {
   "cell_type": "markdown",
   "id": "f88599b0-3cd4-41bf-a96f-82bb6590707b",
   "metadata": {},
   "source": [
    "## timeseries2velocity"
   ]
  },
  {
   "cell_type": "code",
   "execution_count": 101,
   "id": "fbc4e364-b84b-41cc-8af6-28a30362ba83",
   "metadata": {},
   "outputs": [
    {
     "name": "stdout",
     "output_type": "stream",
     "text": [
      "bootstrapping is turned ON.\n",
      "open timeseries file: timeseriesAz.h5\n",
      "--------------------------------------------------\n",
      "dates from input file: 6\n",
      "['20160206', '20161122', '20171122', '20190225', '20191122', '20210130']\n",
      "--------------------------------------------------\n",
      "using all dates to calculate the velocity\n",
      "--------------------------------------------------\n",
      "estimate deformation model with the following assumed time functions:\n",
      "    polynomial : 1\n",
      "    periodic   : []\n",
      "    step       : []\n",
      "    exp        : {}\n",
      "    log        : {}\n",
      "add/update the following configuration metadata:\n",
      "['startDate', 'endDate', 'excludeDate', 'bootstrap', 'bootstrapCount']\n",
      "--------------------------------------------------\n",
      "create HDF5 file: velocityAz.h5 with w mode\n",
      "create dataset  : velocity    of <class 'numpy.float32'>   in size of (501, 501)           with compression = None\n",
      "create dataset  : velocityStd of <class 'numpy.float32'>   in size of (501, 501)           with compression = None\n",
      "add /velocity    attribute: UNIT = m/year\n",
      "add /velocityStd attribute: UNIT = m/year\n",
      "close  HDF5 file: velocityAz.h5\n",
      "reading data from file timeseriesAz.h5 ...\n",
      "skip pixels with zero/nan value in all acquisitions\n",
      "number of pixels to invert: 224621 out of 251001 (89.5%)\n",
      "[==================================================] iteration 400 / 400   11s /     0s\n",
      "calculate mean and standard deviation of bootstrap estimations\n",
      "--------------------------------------------------\n",
      "open  HDF5 file velocityAz.h5 in a mode\n",
      "writing dataset /velocity                  block: [0, 501, 0, 501]\n",
      "close HDF5 file velocityAz.h5.\n",
      "--------------------------------------------------\n",
      "open  HDF5 file velocityAz.h5 in a mode\n",
      "writing dataset /velocityStd               block: [0, 501, 0, 501]\n",
      "close HDF5 file velocityAz.h5.\n",
      "time used: 00 mins 12.7 secs.\n",
      "bootstrapping is turned ON.\n",
      "open timeseries file: timeseriesRg.h5\n",
      "--------------------------------------------------\n",
      "dates from input file: 6\n",
      "['20160206', '20161122', '20171122', '20190225', '20191122', '20210130']\n",
      "--------------------------------------------------\n",
      "using all dates to calculate the velocity\n",
      "--------------------------------------------------\n",
      "estimate deformation model with the following assumed time functions:\n",
      "    polynomial : 1\n",
      "    periodic   : []\n",
      "    step       : []\n",
      "    exp        : {}\n",
      "    log        : {}\n",
      "add/update the following configuration metadata:\n",
      "['startDate', 'endDate', 'excludeDate', 'bootstrap', 'bootstrapCount']\n",
      "--------------------------------------------------\n",
      "create HDF5 file: velocityRg.h5 with w mode\n",
      "create dataset  : velocity    of <class 'numpy.float32'>   in size of (501, 501)           with compression = None\n",
      "create dataset  : velocityStd of <class 'numpy.float32'>   in size of (501, 501)           with compression = None\n",
      "add /velocity    attribute: UNIT = m/year\n",
      "add /velocityStd attribute: UNIT = m/year\n",
      "close  HDF5 file: velocityRg.h5\n",
      "reading data from file timeseriesRg.h5 ...\n",
      "skip pixels with zero/nan value in all acquisitions\n",
      "number of pixels to invert: 224621 out of 251001 (89.5%)\n",
      "[==================================================] iteration 400 / 400   15s /     0s\n",
      "calculate mean and standard deviation of bootstrap estimations\n",
      "--------------------------------------------------\n",
      "open  HDF5 file velocityRg.h5 in a mode\n",
      "writing dataset /velocity                  block: [0, 501, 0, 501]\n",
      "close HDF5 file velocityRg.h5.\n",
      "--------------------------------------------------\n",
      "open  HDF5 file velocityRg.h5 in a mode\n",
      "writing dataset /velocityStd               block: [0, 501, 0, 501]\n",
      "close HDF5 file velocityRg.h5.\n",
      "time used: 00 mins 16.0 secs.\n"
     ]
    }
   ],
   "source": [
    "!timeseries2velocity.py timeseriesAz.h5 --bootstrap -o velocityAz.h5\n",
    "!timeseries2velocity.py timeseriesRg.h5 --bootstrap -o velocityRg.h5"
   ]
  },
  {
   "cell_type": "markdown",
   "id": "033608a5-4be7-4761-9fdb-3bf69ff1c60b",
   "metadata": {},
   "source": [
    "## To GeoTIFF"
   ]
  },
  {
   "cell_type": "code",
   "execution_count": 92,
   "id": "39941726-5813-43f4-8df1-c7378d0f5a5b",
   "metadata": {},
   "outputs": [],
   "source": [
    "#need to change line to 32760\n",
    "# !save_gdal.py velocityAz.h5 -o velocityAz.tif\n",
    "# !save_gdal.py velocityRg.h5 -o velocityRg.tif"
   ]
  },
  {
   "cell_type": "markdown",
   "id": "41c4162b-87c5-43bf-8c1b-bbddd77cd02a",
   "metadata": {},
   "source": [
    "## Move"
   ]
  },
  {
   "cell_type": "code",
   "execution_count": 102,
   "id": "09c39f40-be4a-4efb-a7a2-e5b71afe6181",
   "metadata": {},
   "outputs": [],
   "source": [
    "!mkdir local\n",
    "!mv *.* ./local/"
   ]
  },
  {
   "cell_type": "markdown",
   "id": "bf921121-3833-49e5-b174-e4e10bfa028a",
   "metadata": {},
   "source": [
    "## Viewing"
   ]
  },
  {
   "cell_type": "code",
   "execution_count": 103,
   "id": "b5dfb915-9342-4791-93ad-d382316448eb",
   "metadata": {},
   "outputs": [],
   "source": [
    "%matplotlib widget\n",
    "import matplotlib.pyplot as plt"
   ]
  },
  {
   "cell_type": "code",
   "execution_count": 107,
   "id": "2004a5de-efc7-4975-951c-4c09ced46d8b",
   "metadata": {},
   "outputs": [],
   "source": [
    "# view.main('median/velocityAz.h5 --noverbose'.split())"
   ]
  },
  {
   "cell_type": "code",
   "execution_count": 108,
   "id": "450c0068-554d-4892-aea6-1b05e907cff3",
   "metadata": {},
   "outputs": [],
   "source": [
    "%matplotlib inline\n",
    "import matplotlib.pyplot as plt"
   ]
  },
  {
   "cell_type": "code",
   "execution_count": 157,
   "id": "e1836f1a-93ac-44f3-a7ee-07e4557720f4",
   "metadata": {},
   "outputs": [
    {
     "name": "stdout",
     "output_type": "stream",
     "text": [
      "[ 0. nan]\n"
     ]
    },
    {
     "data": {
      "text/plain": [
       "<matplotlib.colorbar.Colorbar at 0x7f322482fe20>"
      ]
     },
     "execution_count": 157,
     "metadata": {},
     "output_type": "execute_result"
    },
    {
     "data": {
      "image/png": "[encoded data removed]",
      "text/plain": [
       "<Figure size 432x288 with 2 Axes>"
      ]
     },
     "metadata": {
      "needs_background": "light"
     },
     "output_type": "display_data"
    }
   ],
   "source": [
    "# !info.py inputs/ifgramStack.h5\n",
    "# help(readfile.read)\n",
    "s = slice(200,250), slice(200,250)\n",
    "fname = '../cosicorr_20161122T221602_20190225T221559_EWOffset.tif'\n",
    "\n",
    "# mintpy_data = readfile.read_gdal(fname)\n",
    "\n",
    "mintpy_data, atr = readfile.read('inputs/ifgramStack.h5', datasetName='rangeOffset-20161122_20190225')\n",
    "\n",
    "ds = gdal.Open(fname)\n",
    "gdal_data = ds.GetRasterBand(1).ReadAsArray()\n",
    "ds = None\n",
    "\n",
    "matches = gdal_data - mintpy_data\n",
    "print(np.unique(matches))\n",
    "fig, ax = plt.subplots()\n",
    "# im = ax.imshow(gdal_data[s])\n",
    "# im = ax.imshow(mintpy_data[s])\n",
    "im = ax.imshow(matches[s])\n",
    "ax.figure.colorbar(im)"
   ]
  },
  {
   "cell_type": "code",
   "execution_count": 58,
   "id": "9ac943cf-8ae0-4cd6-bf31-72337d182294",
   "metadata": {},
   "outputs": [
    {
     "name": "stdout",
     "output_type": "stream",
     "text": [
      "skip checking reference pixel info - This is for offset and testing ONLY.\n",
      "-------------------------------------------------------------------------------\n",
      "least-squares solution with L2 min-norm on: deformation velocity\n",
      "minimum redundancy: 1.0\n",
      "weight function: no\n",
      "mask out pixels with: offsetSNR < 5.0\n",
      "-------------------------------------------------------------------------------\n",
      "number of interferograms: 15\n",
      "number of acquisitions  : 6\n",
      "number of lines   : 501\n",
      "number of columns : 501\n",
      "--------------------------------------------------\n",
      "create HDF5 file: timeseriesRg.h5 with w mode\n",
      "create dataset  : date       of |S8                       in size of (6,)                 with compression = None\n",
      "create dataset  : bperp      of <class 'numpy.float32'>   in size of (6,)                 with compression = None\n",
      "create dataset  : timeseries of <class 'numpy.float32'>   in size of (6, 501, 501)        with compression = None\n",
      "close  HDF5 file: timeseriesRg.h5\n",
      "--------------------------------------------------\n",
      "create HDF5 file: residualInvRg.h5 with w mode\n",
      "create dataset  : residual of <class 'numpy.float32'>   in size of (501, 501)           with compression = None\n",
      "close  HDF5 file: residualInvRg.h5\n",
      "--------------------------------------------------\n",
      "create HDF5 file: numInvOffset.h5 with w mode\n",
      "create dataset  : mask of <class 'numpy.float32'>   in size of (501, 501)           with compression = None\n",
      "close  HDF5 file: numInvOffset.h5\n",
      "maximum memory size: 4.0E+00 GB\n",
      "split 501 lines into 2 patches for processing\n",
      "    with each patch up to 500 lines\n",
      "\n",
      "------- processing patch 1 out of 2 --------------\n",
      "box width:  501\n",
      "box length: 500\n",
      "reading rangeOffset in (0, 0, 501, 500) * 15 ...\n",
      "use input reference phase\n",
      "reading offsetSNR in (0, 0, 501, 500) * 15 ...\n",
      "mask out pixels with offsetSNR < 5.0 by setting them to NaN\n",
      "skip pixels with rangeOffset = NaN in all interferograms\n",
      "number of pixels to invert: 231739 out of 250500 (92.5%)\n",
      "inverting pixels with valid rangeOffset in all  ifgrams (72 pixels; 0.0%) ...\n",
      "/home/fw/miniconda3/envs/mintpy_clean/lib/python3.8/site-packages/scipy/linalg/basic.py:1220: RuntimeWarning: overflow encountered in square\n",
      "  resids = np.sum(np.abs(x[n:])**2, axis=0)\n",
      "/home/fw/miniconda3/envs/mintpy_clean/lib/python3.8/site-packages/numpy/core/fromnumeric.py:86: RuntimeWarning: overflow encountered in reduce\n",
      "  return ufunc.reduce(obj, axis, dtype, out, **passkwargs)\n",
      "inverting pixels with valid rangeOffset in some ifgrams (231667 pixels; 0.0%) ...\n",
      "[======>                 14%                       ] 32000/231667 pixels    1s /    11s/home/fw/tools/MintPy/mintpy/ifgram_inversion.py:405: RuntimeWarning: overflow encountered in multiply\n",
      "  ts_diff = X * np.tile(tbase_diff, (1, num_pixel))\n",
      "[==================================================] 231667/231667 pixels   13s /     0s\n",
      "Traceback (most recent call last):\n",
      "  File \"/home/fw/tools/MintPy/mintpy/ifgram_inversion.py\", line 1207, in <module>\n",
      "    main(sys.argv[1:])\n",
      "  File \"/home/fw/tools/MintPy/mintpy/ifgram_inversion.py\", line 1196, in main\n",
      "    ifgram_inversion(inps)\n",
      "  File \"/home/fw/tools/MintPy/mintpy/ifgram_inversion.py\", line 1113, in ifgram_inversion\n",
      "    ts, inv_quality, num_inv_ifg = ifgram_inversion_patch(**data_kwargs)[:-1]\n",
      "  File \"/home/fw/tools/MintPy/mintpy/ifgram_inversion.py\", line 973, in ifgram_inversion_patch\n",
      "    rg_pixel_size = float(stack_obj.metadata['RANGE_PIXEL_SIZE'])\n",
      "KeyError: 'RANGE_PIXEL_SIZE'\n"
     ]
    }
   ],
   "source": [
    "!ifgram_inversion.py inputs/ifgramStack.h5 -i rangeOffset -w no --md offsetSNR --mt 5\n",
    "# ifgram_inversion.py inputs/ifgramStack.h5 -i azimuthOffset -w no -m waterMask.h5 --md offsetSNR --mt 5"
   ]
  }
 ],
 "metadata": {
  "kernelspec": {
   "display_name": "Python 3 (ipykernel)",
   "language": "python",
   "name": "python3"
  },
  "language_info": {
   "codemirror_mode": {
    "name": "ipython",
    "version": 3
   },
   "file_extension": ".py",
   "mimetype": "text/x-python",
   "name": "python",
   "nbconvert_exporter": "python",
   "pygments_lexer": "ipython3",
   "version": "3.8.10"
  }
 },
 "nbformat": 4,
 "nbformat_minor": 5
}
