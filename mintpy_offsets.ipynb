{
 "cells": [
  {
   "cell_type": "code",
   "execution_count": 137,
   "id": "8b533a6a-7590-4017-b517-22308a34e73e",
   "metadata": {},
   "outputs": [],
   "source": [
    "%matplotlib inline\n",
    "from osgeo import gdal\n",
    "import numpy as np\n",
    "import glob\n",
    "import os\n",
    "import matplotlib.pyplot as plt\n",
    "from mintpy.utils import readfile\n",
    "from mintpy import workflow, view, tsview, plot_network, plot_transection, plot_coherence_matrix, load_data"
   ]
  },
  {
   "cell_type": "code",
   "execution_count": 34,
   "id": "40d2533e-d5fb-425b-99b5-4c234303f5b9",
   "metadata": {},
   "outputs": [
    {
     "name": "stdout",
     "output_type": "stream",
     "text": [
      "/home/fw/data/cosicorr\n"
     ]
    }
   ],
   "source": [
    "cd .."
   ]
  },
  {
   "cell_type": "code",
   "execution_count": 35,
   "id": "bc135026-bcf7-41b5-b175-63e8489fd15f",
   "metadata": {},
   "outputs": [],
   "source": [
    "# create separate vrt files for each band\n",
    "files = glob.glob('*.dat')\n",
    "files.sort()\n",
    "for fname in files:\n",
    "    for b, dataset in enumerate(['EWOffset','NSOffset','offsetSNR']):\n",
    "        fname_out = f'{os.path.splitext(fname)[0]}_{dataset}.tif'\n",
    "        ds = gdal.Open(fname)\n",
    "        ds = gdal.Translate(fname_out, ds, bandList = [b+1])\n",
    "        ds = None\n",
    "\n",
    "# write mintpy file\n",
    "files = glob.glob('*EWOffset.tif')+glob.glob('*NSOffset.tif')+glob.glob('*offsetSNR.tif')\n",
    "files.sort()\n",
    "lines = [f'{f} {f[9:17]} {f[25:33]}\\n' for f in files]\n",
    "with open('metadata.txt', 'w') as f:\n",
    "    f.writelines(lines)"
   ]
  },
  {
   "cell_type": "code",
   "execution_count": 36,
   "id": "fe32b328-f149-4439-a8e1-f2c3bdeca0e4",
   "metadata": {},
   "outputs": [
    {
     "name": "stdout",
     "output_type": "stream",
     "text": [
      "/home/fw/data/cosicorr/mintpy\n"
     ]
    }
   ],
   "source": [
    "cd mintpy"
   ]
  },
  {
   "cell_type": "code",
   "execution_count": 1,
   "id": "093f2ec0-3ebb-4c3b-b634-380dda63f78a",
   "metadata": {},
   "outputs": [
    {
     "name": "stdout",
     "output_type": "stream",
     "text": [
      "--------------------------------------------------\n",
      "Go to work directory: /home/fw/data/cosicorr/mintpy\n",
      "copy default template file /home/fw/tools/MintPy/mintpy/defaults/smallbaselineApp.cfg to work directory\n",
      "copy smallbaselineApp.cfg to inputs   directory for backup.\n",
      "copy smallbaselineApp.cfg to pic      directory for backup.\n",
      "read default template file: /home/fw/data/cosicorr/mintpy/smallbaselineApp.cfg\n",
      "Go back to directory: /home/fw/data/cosicorr/mintpy\n",
      "\n",
      "################################################\n",
      "   Normal end of smallbaselineApp processing!\n",
      "################################################\n",
      "Time used: 00 mins 0.0 secs\n",
      "\n"
     ]
    }
   ],
   "source": [
    "!smallbaselineApp.py -g"
   ]
  },
  {
   "cell_type": "code",
   "execution_count": 166,
   "id": "d948e82d-ea78-4f6e-a983-9f2473b0b85f",
   "metadata": {},
   "outputs": [
    {
     "name": "stdout",
     "output_type": "stream",
     "text": [
      "processor : cosicorr\n",
      "SAR platform/sensor : unknown from project name \"None\"\n",
      "--------------------------------------------------\n",
      "prepare metadata files for cosicorr products\n",
      "prep_cosicorr.py ../*NSOffset.tif --metadata ../metadata.txt\n",
      "prep_cosicorr.py ../*EWOffset.tif --metadata ../metadata.txt\n",
      "prep_cosicorr.py ../*offsetSNR.tif --metadata ../metadata.txt\n",
      "--------------------------------------------------\n",
      "searching interferometric pairs info\n",
      "input data files:\n",
      "rangeOffset     : ../*EWOffset.tif\n",
      "azimuthOffset   : ../*NSOffset.tif\n",
      "offsetSNR       : ../*offsetSNR.tif\n",
      "number of rangeOffset     : 15\n",
      "number of azimuthOffset   : 15\n",
      "number of offsetSNR       : 15\n",
      "Un-recognized InSAR processor: cosicorr\n",
      "--------------------------------------------------\n",
      "searching geometry files info\n",
      "input data files:\n",
      "WARNING: No reqired height data files found!\n",
      "--------------------------------------------------\n",
      "updateMode : False\n",
      "compression: None\n",
      "x/ystep: 1/1\n",
      "--------------------------------------------------\n",
      "<mintpy.objects.stackDict.ifgramStackDict object at 0x7f7fe649a4c0>\n",
      "create HDF5 file /home/fw/data/cosicorr/mintpy/inputs/ifgramStack.h5 with w mode\n",
      "create dataset /rangeOffset   of <class 'numpy.float32'>   in size of (15, 501, 501) with compression = None\n",
      "[==================================================] 20191122_20210130    0s /     0s\n",
      "create dataset /azimuthOffset of <class 'numpy.float32'>   in size of (15, 501, 501) with compression = None\n",
      "[==================================================] 20191122_20210130    0s /     0s\n",
      "create dataset /offsetSNR     of <class 'numpy.float32'>   in size of (15, 501, 501) with compression = None\n",
      "[==================================================] 20191122_20210130    0s /     0s\n",
      "create dataset /date          of <class 'numpy.bytes_'>    in size of (15, 2)\n",
      "create dataset /bperp         of <class 'numpy.float32'>   in size of (15,)\n",
      "create dataset /dropIfgram    of <class 'numpy.bool_'>     in size of (15,)\n",
      "Finished writing to /home/fw/data/cosicorr/mintpy/inputs/ifgramStack.h5\n",
      "time used: 00 mins 0.3 secs.\n",
      "\n"
     ]
    }
   ],
   "source": [
    "!load_data.py -t cosicorr.cfg"
   ]
  },
  {
   "cell_type": "code",
   "execution_count": 167,
   "id": "ed12f36f-2215-49df-9bba-b6e35651574e",
   "metadata": {},
   "outputs": [
    {
     "name": "stdout",
     "output_type": "stream",
     "text": [
      "output file: avgSNR.h5\n",
      "calculate the temporal average of offsetSNR in file inputs/ifgramStack.h5 ...\n",
      "[==================================================] lines 501/501    0s /     0s\n",
      "delete exsited file: avgSNR.h5\n",
      "create HDF5 file: avgSNR.h5 with w mode\n",
      "create dataset /offsetSNR of float32    in size of (501, 501)           with compression=None\n",
      "finished writing to avgSNR.h5\n",
      "time used: 00 mins 0.1 secs\n",
      "\n"
     ]
    }
   ],
   "source": [
    "!temporal_average.py inputs/ifgramStack.h5 -d offsetSNR -o avgSNR.h5"
   ]
  },
  {
   "cell_type": "code",
   "execution_count": 168,
   "id": "7ebbd3e0-cc48-4f32-81c4-7c61571f5aff",
   "metadata": {},
   "outputs": [
    {
     "name": "stdout",
     "output_type": "stream",
     "text": [
      "input offsetSNR file: avgSNR.h5\n",
      "read avgSNR.h5\n",
      "create initial mask with the same size as the input file and all = 1\n",
      "all pixels with nan value = 0\n",
      "exclude pixels with value < 0.9\n",
      "delete exsited file: maskSNR.h5\n",
      "create HDF5 file: maskSNR.h5 with w mode\n",
      "create dataset /mask of bool       in size of (501, 501)           with compression=None\n",
      "finished writing to maskSNR.h5\n",
      "time used: 00 mins 0.0 secs.\n"
     ]
    }
   ],
   "source": [
    "!generate_mask.py avgSNR.h5 -m 0.9 -o maskSNR.h5"
   ]
  },
  {
   "cell_type": "code",
   "execution_count": 169,
   "id": "06e5d817-3474-45bc-ab13-52c9705a2cd4",
   "metadata": {},
   "outputs": [
    {
     "name": "stdout",
     "output_type": "stream",
     "text": [
      "skip checking reference pixel info - This is for offset and testing ONLY.\n",
      "-------------------------------------------------------------------------------\n",
      "least-squares solution with L2 min-norm on: deformation velocity\n",
      "minimum redundancy: 1.0\n",
      "weight function: no\n",
      "mask out pixels with: offsetSNR < 0.9\n",
      "-------------------------------------------------------------------------------\n",
      "number of interferograms: 15\n",
      "number of acquisitions  : 6\n",
      "number of lines   : 501\n",
      "number of columns : 501\n",
      "--------------------------------------------------\n",
      "create HDF5 file: timeseriesRg.h5 with w mode\n",
      "create dataset  : date       of |S8                       in size of (6,)                 with compression = None\n",
      "create dataset  : bperp      of <class 'numpy.float32'>   in size of (6,)                 with compression = None\n",
      "create dataset  : timeseries of <class 'numpy.float32'>   in size of (6, 501, 501)        with compression = None\n",
      "close  HDF5 file: timeseriesRg.h5\n",
      "--------------------------------------------------\n",
      "create HDF5 file: residualInvRg.h5 with w mode\n",
      "create dataset  : residual of <class 'numpy.float32'>   in size of (501, 501)           with compression = None\n",
      "close  HDF5 file: residualInvRg.h5\n",
      "--------------------------------------------------\n",
      "create HDF5 file: numInvOffset.h5 with w mode\n",
      "create dataset  : mask of <class 'numpy.float32'>   in size of (501, 501)           with compression = None\n",
      "close  HDF5 file: numInvOffset.h5\n",
      "maximum memory size: 4.0E+00 GB\n",
      "split 501 lines into 2 patches for processing\n",
      "    with each patch up to 500 lines\n",
      "\n",
      "------- processing patch 1 out of 2 --------------\n",
      "box width:  501\n",
      "box length: 500\n",
      "reading rangeOffset in (0, 0, 501, 500) * 15 ...\n",
      "use input reference phase\n",
      "reading offsetSNR in (0, 0, 501, 500) * 15 ...\n",
      "mask out pixels with offsetSNR < 0.9 by setting them to NaN\n",
      "skip pixels with rangeOffset = NaN in all interferograms\n",
      "number of pixels to invert: 235225 out of 250500 (93.9%)\n",
      "inverting pixels with valid rangeOffset in all  ifgrams (213930 pixels; 90.9%) ...\n",
      "inverting pixels with valid rangeOffset in some ifgrams (21295 pixels; 90.9%) ...\n",
      "[==================================================] 21295/21295 pixels    2s /     0s\n",
      "--------------------------------------------------\n",
      "open  HDF5 file timeseriesRg.h5 in a mode\n",
      "writing dataset /timeseries                block: [0, 6, 0, 500, 0, 501]\n",
      "close HDF5 file timeseriesRg.h5.\n",
      "--------------------------------------------------\n",
      "open  HDF5 file residualInvRg.h5 in a mode\n",
      "writing dataset /residual                  block: [0, 500, 0, 501]\n",
      "close HDF5 file residualInvRg.h5.\n",
      "--------------------------------------------------\n",
      "open  HDF5 file numInvOffset.h5 in a mode\n",
      "writing dataset /mask                      block: [0, 500, 0, 501]\n",
      "close HDF5 file numInvOffset.h5.\n",
      "time used: 00 mins 2.7 secs.\n",
      "\n",
      "\n",
      "------- processing patch 2 out of 2 --------------\n",
      "box width:  501\n",
      "box length: 1\n",
      "reading rangeOffset in (0, 500, 501, 501) * 15 ...\n",
      "use input reference phase\n",
      "reading offsetSNR in (0, 500, 501, 501) * 15 ...\n",
      "mask out pixels with offsetSNR < 0.9 by setting them to NaN\n",
      "skip pixels with rangeOffset = NaN in all interferograms\n",
      "number of pixels to invert: 0 out of 501 (0.0%)\n",
      "--------------------------------------------------\n",
      "open  HDF5 file timeseriesRg.h5 in a mode\n",
      "writing dataset /timeseries                block: [0, 6, 500, 501, 0, 501]\n",
      "close HDF5 file timeseriesRg.h5.\n",
      "--------------------------------------------------\n",
      "open  HDF5 file residualInvRg.h5 in a mode\n",
      "writing dataset /residual                  block: [500, 501, 0, 501]\n",
      "close HDF5 file residualInvRg.h5.\n",
      "--------------------------------------------------\n",
      "open  HDF5 file numInvOffset.h5 in a mode\n",
      "writing dataset /mask                      block: [500, 501, 0, 501]\n",
      "close HDF5 file numInvOffset.h5.\n",
      "time used: 00 mins 2.7 secs.\n",
      "\n",
      "time used: 00 mins 2.7 secs.\n",
      "\n"
     ]
    }
   ],
   "source": [
    "!ifgram_inversion.py inputs/ifgramStack.h5 -i rangeOffset -w no --md offsetSNR --mt 0.9"
   ]
  },
  {
   "cell_type": "code",
   "execution_count": 170,
   "id": "01cfaa3e-ad23-422b-b93f-0496a247e777",
   "metadata": {},
   "outputs": [
    {
     "name": "stdout",
     "output_type": "stream",
     "text": [
      "skip checking reference pixel info - This is for offset and testing ONLY.\n",
      "-------------------------------------------------------------------------------\n",
      "least-squares solution with L2 min-norm on: deformation velocity\n",
      "minimum redundancy: 1.0\n",
      "weight function: no\n",
      "mask out pixels with: offsetSNR < 0.9\n",
      "-------------------------------------------------------------------------------\n",
      "number of interferograms: 15\n",
      "number of acquisitions  : 6\n",
      "number of lines   : 501\n",
      "number of columns : 501\n",
      "--------------------------------------------------\n",
      "create HDF5 file: timeseriesAz.h5 with w mode\n",
      "create dataset  : date       of |S8                       in size of (6,)                 with compression = None\n",
      "create dataset  : bperp      of <class 'numpy.float32'>   in size of (6,)                 with compression = None\n",
      "create dataset  : timeseries of <class 'numpy.float32'>   in size of (6, 501, 501)        with compression = None\n",
      "close  HDF5 file: timeseriesAz.h5\n",
      "--------------------------------------------------\n",
      "create HDF5 file: residualInvAz.h5 with w mode\n",
      "create dataset  : residual of <class 'numpy.float32'>   in size of (501, 501)           with compression = None\n",
      "close  HDF5 file: residualInvAz.h5\n",
      "--------------------------------------------------\n",
      "create HDF5 file: numInvOffset.h5 with w mode\n",
      "create dataset  : mask of <class 'numpy.float32'>   in size of (501, 501)           with compression = None\n",
      "close  HDF5 file: numInvOffset.h5\n",
      "maximum memory size: 4.0E+00 GB\n",
      "split 501 lines into 2 patches for processing\n",
      "    with each patch up to 500 lines\n",
      "\n",
      "------- processing patch 1 out of 2 --------------\n",
      "box width:  501\n",
      "box length: 500\n",
      "reading azimuthOffset in (0, 0, 501, 500) * 15 ...\n",
      "use input reference phase\n",
      "reading offsetSNR in (0, 0, 501, 500) * 15 ...\n",
      "mask out pixels with offsetSNR < 0.9 by setting them to NaN\n",
      "skip pixels with azimuthOffset = NaN in all interferograms\n",
      "number of pixels to invert: 235225 out of 250500 (93.9%)\n",
      "inverting pixels with valid azimuthOffset in all  ifgrams (213930 pixels; 90.9%) ...\n",
      "inverting pixels with valid azimuthOffset in some ifgrams (21295 pixels; 90.9%) ...\n",
      "[==================================================] 21295/21295 pixels    2s /     0s\n",
      "--------------------------------------------------\n",
      "open  HDF5 file timeseriesAz.h5 in a mode\n",
      "writing dataset /timeseries                block: [0, 6, 0, 500, 0, 501]\n",
      "close HDF5 file timeseriesAz.h5.\n",
      "--------------------------------------------------\n",
      "open  HDF5 file residualInvAz.h5 in a mode\n",
      "writing dataset /residual                  block: [0, 500, 0, 501]\n",
      "close HDF5 file residualInvAz.h5.\n",
      "--------------------------------------------------\n",
      "open  HDF5 file numInvOffset.h5 in a mode\n",
      "writing dataset /mask                      block: [0, 500, 0, 501]\n",
      "close HDF5 file numInvOffset.h5.\n",
      "time used: 00 mins 2.7 secs.\n",
      "\n",
      "\n",
      "------- processing patch 2 out of 2 --------------\n",
      "box width:  501\n",
      "box length: 1\n",
      "reading azimuthOffset in (0, 500, 501, 501) * 15 ...\n",
      "use input reference phase\n",
      "reading offsetSNR in (0, 500, 501, 501) * 15 ...\n",
      "mask out pixels with offsetSNR < 0.9 by setting them to NaN\n",
      "skip pixels with azimuthOffset = NaN in all interferograms\n",
      "number of pixels to invert: 0 out of 501 (0.0%)\n",
      "--------------------------------------------------\n",
      "open  HDF5 file timeseriesAz.h5 in a mode\n",
      "writing dataset /timeseries                block: [0, 6, 500, 501, 0, 501]\n",
      "close HDF5 file timeseriesAz.h5.\n",
      "--------------------------------------------------\n",
      "open  HDF5 file residualInvAz.h5 in a mode\n",
      "writing dataset /residual                  block: [500, 501, 0, 501]\n",
      "close HDF5 file residualInvAz.h5.\n",
      "--------------------------------------------------\n",
      "open  HDF5 file numInvOffset.h5 in a mode\n",
      "writing dataset /mask                      block: [500, 501, 0, 501]\n",
      "close HDF5 file numInvOffset.h5.\n",
      "time used: 00 mins 2.7 secs.\n",
      "\n",
      "time used: 00 mins 2.7 secs.\n",
      "\n"
     ]
    }
   ],
   "source": [
    "!ifgram_inversion.py inputs/ifgramStack.h5 -i azimuthOffset -w no --md offsetSNR --mt 0.9"
   ]
  },
  {
   "cell_type": "code",
   "execution_count": 174,
   "id": "fbc4e364-b84b-41cc-8af6-28a30362ba83",
   "metadata": {},
   "outputs": [
    {
     "name": "stdout",
     "output_type": "stream",
     "text": [
      "bootstrapping is turned ON.\n",
      "open timeseries file: timeseriesAz.h5\n",
      "--------------------------------------------------\n",
      "dates from input file: 6\n",
      "['20160206', '20161122', '20171122', '20190225', '20191122', '20210130']\n",
      "--------------------------------------------------\n",
      "using all dates to calculate the velocity\n",
      "--------------------------------------------------\n",
      "estimate deformation model with the following assumed time functions:\n",
      "    polynomial : 1\n",
      "    periodic   : []\n",
      "    step       : []\n",
      "    exp        : {}\n",
      "    log        : {}\n",
      "add/update the following configuration metadata:\n",
      "['startDate', 'endDate', 'excludeDate', 'bootstrap', 'bootstrapCount']\n",
      "--------------------------------------------------\n",
      "create HDF5 file: velocityAz.h5 with w mode\n",
      "create dataset  : velocity    of <class 'numpy.float32'>   in size of (501, 501)           with compression = None\n",
      "create dataset  : velocityStd of <class 'numpy.float32'>   in size of (501, 501)           with compression = None\n",
      "add /velocity    attribute: UNIT = m/year\n",
      "add /velocityStd attribute: UNIT = m/year\n",
      "close  HDF5 file: velocityAz.h5\n",
      "reading data from file timeseriesAz.h5 ...\n",
      "skip pixels with zero/nan value in all acquisitions\n",
      "number of pixels to invert: 235215 out of 251001 (93.7%)\n",
      "using bootstrap resampling 400 times ...\n",
      "[==================================================] iteration 400 / 400   13s /     0s\n",
      "calculate mean and standard deviation of bootstrap estimations\n",
      "--------------------------------------------------\n",
      "open  HDF5 file velocityAz.h5 in a mode\n",
      "writing dataset /velocity                  block: [0, 501, 0, 501]\n",
      "close HDF5 file velocityAz.h5.\n",
      "--------------------------------------------------\n",
      "open  HDF5 file velocityAz.h5 in a mode\n",
      "writing dataset /velocityStd               block: [0, 501, 0, 501]\n",
      "close HDF5 file velocityAz.h5.\n",
      "time used: 00 mins 14.8 secs.\n"
     ]
    }
   ],
   "source": [
    "!timeseries2velocity.py timeseriesAz.h5 --bootstrap -o velocityAz.h5"
   ]
  },
  {
   "cell_type": "code",
   "execution_count": 175,
   "id": "39941726-5813-43f4-8df1-c7378d0f5a5b",
   "metadata": {},
   "outputs": [
    {
     "name": "stdout",
     "output_type": "stream",
     "text": [
      "read metadata from file: velocityAz.h5\n",
      "read data     from file: velocityAz.h5\n",
      "initiate GDAL driver: GeoTIFF\n",
      "create raster band\n",
      "raster row / column number: 501, 501\n",
      "raster transform info: (388970.0, 40.0, 0, 5615070.0, 0, -40.0)\n",
      "write data to raster band\n",
      "set projectection as: EPSG 4326\n",
      "finished writing to /home/fw/data/cosicorr/mintpy/velocityAz.tif\n"
     ]
    }
   ],
   "source": [
    "#need to change line to 32760\n",
    "!save_gdal.py velocityAz.h5 -o velocityAz.tif"
   ]
  },
  {
   "cell_type": "code",
   "execution_count": null,
   "id": "09c39f40-be4a-4efb-a7a2-e5b71afe6181",
   "metadata": {},
   "outputs": [],
   "source": []
  },
  {
   "cell_type": "code",
   "execution_count": null,
   "id": "7a9a4ccb-f499-45bf-93c9-33aabd89ef6c",
   "metadata": {},
   "outputs": [],
   "source": []
  },
  {
   "cell_type": "code",
   "execution_count": null,
   "id": "b5dfb915-9342-4791-93ad-d382316448eb",
   "metadata": {},
   "outputs": [],
   "source": []
  },
  {
   "cell_type": "code",
   "execution_count": null,
   "id": "2004a5de-efc7-4975-951c-4c09ced46d8b",
   "metadata": {},
   "outputs": [],
   "source": []
  },
  {
   "cell_type": "code",
   "execution_count": 157,
   "id": "e1836f1a-93ac-44f3-a7ee-07e4557720f4",
   "metadata": {},
   "outputs": [
    {
     "name": "stdout",
     "output_type": "stream",
     "text": [
      "[ 0. nan]\n"
     ]
    },
    {
     "data": {
      "text/plain": [
       "<matplotlib.colorbar.Colorbar at 0x7f322482fe20>"
      ]
     },
     "execution_count": 157,
     "metadata": {},
     "output_type": "execute_result"
    },
    {
     "data": {
      "image/png": "[encoded data removed]",
      "text/plain": [
       "<Figure size 432x288 with 2 Axes>"
      ]
     },
     "metadata": {
      "needs_background": "light"
     },
     "output_type": "display_data"
    }
   ],
   "source": [
    "# !info.py inputs/ifgramStack.h5\n",
    "# help(readfile.read)\n",
    "s = slice(200,250), slice(200,250)\n",
    "fname = '../cosicorr_20161122T221602_20190225T221559_EWOffset.tif'\n",
    "\n",
    "# mintpy_data = readfile.read_gdal(fname)\n",
    "\n",
    "mintpy_data, atr = readfile.read('inputs/ifgramStack.h5', datasetName='rangeOffset-20161122_20190225')\n",
    "\n",
    "ds = gdal.Open(fname)\n",
    "gdal_data = ds.GetRasterBand(1).ReadAsArray()\n",
    "ds = None\n",
    "\n",
    "matches = gdal_data - mintpy_data\n",
    "print(np.unique(matches))\n",
    "fig, ax = plt.subplots()\n",
    "# im = ax.imshow(gdal_data[s])\n",
    "# im = ax.imshow(mintpy_data[s])\n",
    "im = ax.imshow(matches[s])\n",
    "ax.figure.colorbar(im)"
   ]
  },
  {
   "cell_type": "code",
   "execution_count": 58,
   "id": "9ac943cf-8ae0-4cd6-bf31-72337d182294",
   "metadata": {},
   "outputs": [
    {
     "name": "stdout",
     "output_type": "stream",
     "text": [
      "skip checking reference pixel info - This is for offset and testing ONLY.\n",
      "-------------------------------------------------------------------------------\n",
      "least-squares solution with L2 min-norm on: deformation velocity\n",
      "minimum redundancy: 1.0\n",
      "weight function: no\n",
      "mask out pixels with: offsetSNR < 5.0\n",
      "-------------------------------------------------------------------------------\n",
      "number of interferograms: 15\n",
      "number of acquisitions  : 6\n",
      "number of lines   : 501\n",
      "number of columns : 501\n",
      "--------------------------------------------------\n",
      "create HDF5 file: timeseriesRg.h5 with w mode\n",
      "create dataset  : date       of |S8                       in size of (6,)                 with compression = None\n",
      "create dataset  : bperp      of <class 'numpy.float32'>   in size of (6,)                 with compression = None\n",
      "create dataset  : timeseries of <class 'numpy.float32'>   in size of (6, 501, 501)        with compression = None\n",
      "close  HDF5 file: timeseriesRg.h5\n",
      "--------------------------------------------------\n",
      "create HDF5 file: residualInvRg.h5 with w mode\n",
      "create dataset  : residual of <class 'numpy.float32'>   in size of (501, 501)           with compression = None\n",
      "close  HDF5 file: residualInvRg.h5\n",
      "--------------------------------------------------\n",
      "create HDF5 file: numInvOffset.h5 with w mode\n",
      "create dataset  : mask of <class 'numpy.float32'>   in size of (501, 501)           with compression = None\n",
      "close  HDF5 file: numInvOffset.h5\n",
      "maximum memory size: 4.0E+00 GB\n",
      "split 501 lines into 2 patches for processing\n",
      "    with each patch up to 500 lines\n",
      "\n",
      "------- processing patch 1 out of 2 --------------\n",
      "box width:  501\n",
      "box length: 500\n",
      "reading rangeOffset in (0, 0, 501, 500) * 15 ...\n",
      "use input reference phase\n",
      "reading offsetSNR in (0, 0, 501, 500) * 15 ...\n",
      "mask out pixels with offsetSNR < 5.0 by setting them to NaN\n",
      "skip pixels with rangeOffset = NaN in all interferograms\n",
      "number of pixels to invert: 231739 out of 250500 (92.5%)\n",
      "inverting pixels with valid rangeOffset in all  ifgrams (72 pixels; 0.0%) ...\n",
      "/home/fw/miniconda3/envs/mintpy_clean/lib/python3.8/site-packages/scipy/linalg/basic.py:1220: RuntimeWarning: overflow encountered in square\n",
      "  resids = np.sum(np.abs(x[n:])**2, axis=0)\n",
      "/home/fw/miniconda3/envs/mintpy_clean/lib/python3.8/site-packages/numpy/core/fromnumeric.py:86: RuntimeWarning: overflow encountered in reduce\n",
      "  return ufunc.reduce(obj, axis, dtype, out, **passkwargs)\n",
      "inverting pixels with valid rangeOffset in some ifgrams (231667 pixels; 0.0%) ...\n",
      "[======>                 14%                       ] 32000/231667 pixels    1s /    11s/home/fw/tools/MintPy/mintpy/ifgram_inversion.py:405: RuntimeWarning: overflow encountered in multiply\n",
      "  ts_diff = X * np.tile(tbase_diff, (1, num_pixel))\n",
      "[==================================================] 231667/231667 pixels   13s /     0s\n",
      "Traceback (most recent call last):\n",
      "  File \"/home/fw/tools/MintPy/mintpy/ifgram_inversion.py\", line 1207, in <module>\n",
      "    main(sys.argv[1:])\n",
      "  File \"/home/fw/tools/MintPy/mintpy/ifgram_inversion.py\", line 1196, in main\n",
      "    ifgram_inversion(inps)\n",
      "  File \"/home/fw/tools/MintPy/mintpy/ifgram_inversion.py\", line 1113, in ifgram_inversion\n",
      "    ts, inv_quality, num_inv_ifg = ifgram_inversion_patch(**data_kwargs)[:-1]\n",
      "  File \"/home/fw/tools/MintPy/mintpy/ifgram_inversion.py\", line 973, in ifgram_inversion_patch\n",
      "    rg_pixel_size = float(stack_obj.metadata['RANGE_PIXEL_SIZE'])\n",
      "KeyError: 'RANGE_PIXEL_SIZE'\n"
     ]
    }
   ],
   "source": [
    "!ifgram_inversion.py inputs/ifgramStack.h5 -i rangeOffset -w no --md offsetSNR --mt 5\n",
    "# ifgram_inversion.py inputs/ifgramStack.h5 -i azimuthOffset -w no -m waterMask.h5 --md offsetSNR --mt 5"
   ]
  }
 ],
 "metadata": {
  "kernelspec": {
   "display_name": "Python 3 (ipykernel)",
   "language": "python",
   "name": "python3"
  },
  "language_info": {
   "codemirror_mode": {
    "name": "ipython",
    "version": 3
   },
   "file_extension": ".py",
   "mimetype": "text/x-python",
   "name": "python",
   "nbconvert_exporter": "python",
   "pygments_lexer": "ipython3",
   "version": "3.8.10"
  }
 },
 "nbformat": 4,
 "nbformat_minor": 5
}
