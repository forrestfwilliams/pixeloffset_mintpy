{
 "cells": [
  {
   "cell_type": "markdown",
   "id": "5698cd96-5cdf-4e8a-9a50-6fca824e9913",
   "metadata": {},
   "source": [
    "# Cosi-Corr"
   ]
  },
  {
   "cell_type": "markdown",
   "id": "202c31db-4051-4885-a4b0-b15ff601b0a0",
   "metadata": {},
   "source": [
    "## Setup"
   ]
  },
  {
   "cell_type": "code",
   "execution_count": 1,
   "id": "555b5207-5ad6-4d79-afb9-794396d994fe",
   "metadata": {},
   "outputs": [],
   "source": [
    "%matplotlib inline\n",
    "import os\n",
    "import glob\n",
    "from pathlib import Path, PureWindowsPath\n",
    "import subprocess\n",
    "import itertools\n",
    "\n",
    "from osgeo import gdal\n",
    "from datetime import datetime\n",
    "import shutil\n",
    "import matplotlib.pyplot as plt\n",
    "import pandas as pd\n",
    "from osgeo import gdal\n",
    "from collections import namedtuple"
   ]
  },
  {
   "cell_type": "code",
   "execution_count": 2,
   "id": "94447357-36bb-45ae-8478-6e6c031cf7ec",
   "metadata": {},
   "outputs": [
    {
     "data": {
      "text/plain": [
       "'/mnt/i/sentinel2/pixeloffset_mintpy'"
      ]
     },
     "execution_count": 2,
     "metadata": {},
     "output_type": "execute_result"
    }
   ],
   "source": [
    "pwd"
   ]
  },
  {
   "cell_type": "code",
   "execution_count": 3,
   "id": "cba88e7c-3e0b-4503-81c4-b7051c7d3e29",
   "metadata": {},
   "outputs": [
    {
     "name": "stdout",
     "output_type": "stream",
     "text": [
      "/mnt/i/planet/andrew\n"
     ]
    }
   ],
   "source": [
    "cd /mnt/i/planet/andrew"
   ]
  },
  {
   "cell_type": "code",
   "execution_count": 4,
   "id": "8d2e41df-d5b2-4fbc-9937-02db6f5ff4bb",
   "metadata": {},
   "outputs": [],
   "source": [
    "Image = namedtuple('Image','date file')"
   ]
  },
  {
   "cell_type": "code",
   "execution_count": 5,
   "id": "a38b3e7f-a1b9-4b96-be5d-e685e120369c",
   "metadata": {},
   "outputs": [],
   "source": [
    "types = {'planet':{'files':'*panchromatic_AnalyticMS_SR*tif','date_loc':slice(0,8)},\n",
    "        'sentinel2':{'files':'s2*tif','date_loc':slice(-12,-4)}}\n",
    "\n",
    "meta = types['planet']\n",
    "pattern = meta['files']\n",
    "date_loc = meta['date_loc']"
   ]
  },
  {
   "cell_type": "code",
   "execution_count": 6,
   "id": "0fed2757-ce93-444a-98f7-d8b89aedfe90",
   "metadata": {},
   "outputs": [
    {
     "data": {
      "text/plain": [
       "[Image(date='20200903', file='20200903_panchromatic_AnalyticMS_SR_clip.tif'),\n",
       " Image(date='20210910', file='20210910_panchromatic_AnalyticMS_SR_clip.tif'),\n",
       " Image(date='20170911', file='20170911_panchromatic_AnalyticMS_SR_clip.tif'),\n",
       " Image(date='20180909', file='20180909_panchromatic_AnalyticMS_SR_clip.tif'),\n",
       " Image(date='20190918', file='20190918_panchromatic_AnalyticMS_SR_clip.tif')]"
      ]
     },
     "execution_count": 6,
     "metadata": {},
     "output_type": "execute_result"
    }
   ],
   "source": [
    "names = [Image(os.path.basename(x)[date_loc],x) for x in glob.glob(pattern)]\n",
    "\n",
    "merged = [x for x in names if 'merged' in x.file]\n",
    "for m in merged:\n",
    "    names = [x for x in names if m.date != x.date]\n",
    "\n",
    "names += merged\n",
    "names"
   ]
  },
  {
   "cell_type": "markdown",
   "id": "78d5402a-8aa6-4424-a921-2eb4c3da7b4f",
   "metadata": {},
   "source": [
    "## Planet"
   ]
  },
  {
   "cell_type": "code",
   "execution_count": 61,
   "id": "e353d145-9061-44dd-a505-b68beff8da25",
   "metadata": {},
   "outputs": [
    {
     "name": "stdout",
     "output_type": "stream",
     "text": [
      "merging 20180909...\n",
      "0...10...20...30...40...50...60...70...80...90...100 - done.\n",
      "merging 20190918...\n",
      "0...10...20...30...40...50...60...70...80...90...100 - done.\n",
      "merging 20170911...\n",
      "0...10...20...30...40...50...60...70...80...90...100 - done.\n"
     ]
    }
   ],
   "source": [
    "dates = [x.date for x in names]\n",
    "\n",
    "for d in set(dates):\n",
    "    if dates.count(d) > 1:\n",
    "        print(f'merging {d}...')\n",
    "        files = [x.file for x in names if x.date == d]\n",
    "        out_name = '_'.join(files[0].split('_')[:1]+['merged']+files[0].split('_')[-3:])\n",
    "        !gdal_merge.py {' '.join(files)} -o {out_name}"
   ]
  },
  {
   "cell_type": "markdown",
   "id": "646bb4f7-d59a-4b18-a00f-8fc1b6bc2153",
   "metadata": {},
   "source": [
    "## Run Cosi-Corr"
   ]
  },
  {
   "cell_type": "code",
   "execution_count": 7,
   "id": "24d5d242-92c5-4818-93df-4886b27113bf",
   "metadata": {},
   "outputs": [
    {
     "name": "stdout",
     "output_type": "stream",
     "text": [
      "All geotransforms the same!\n"
     ]
    }
   ],
   "source": [
    "geo = []\n",
    "\n",
    "for n in names:\n",
    "    ds = gdal.Open(n.file, gdal.GA_ReadOnly)\n",
    "    geo.append([ds.RasterXSize,ds.RasterYSize,ds.GetGeoTransform()])\n",
    "    ds = None\n",
    "\n",
    "\n",
    "if max([len(list(set(x))) for x in zip(*geo)]) == 1:\n",
    "    print('All geotransforms the same!')\n",
    "else: \n",
    "    print('All geotransforms the NOT same!')\n",
    "    print(geo)"
   ]
  },
  {
   "cell_type": "code",
   "execution_count": 8,
   "id": "69f29ea2-63fc-4459-93ba-950755c7c28b",
   "metadata": {},
   "outputs": [
    {
     "data": {
      "text/plain": [
       "10"
      ]
     },
     "execution_count": 8,
     "metadata": {},
     "output_type": "execute_result"
    }
   ],
   "source": [
    "files = [sorted(x) for x in itertools.combinations([y.file for y in names],2)]\n",
    "# files = [sorted(x) for x in itertools.combinations(names.values(),2) if x[0][-12:-8] != x[1][-12:-8]]\n",
    "\n",
    "len(files)"
   ]
  },
  {
   "cell_type": "code",
   "execution_count": 9,
   "id": "f3c9e880-0d28-426e-8bd6-8ba46e5c62d7",
   "metadata": {},
   "outputs": [],
   "source": [
    "# pairs = pd.read_csv('pairs.csv')\n",
    "# files = list(zip(pairs.image1,pairs.image2))\n",
    "# len(files)"
   ]
  },
  {
   "cell_type": "code",
   "execution_count": 11,
   "id": "15cb7597-6fb6-44c2-915b-b61fdfd71f73",
   "metadata": {},
   "outputs": [],
   "source": [
    "# if using bounds:\n",
    "#for bounds, sample=x, line=y\n",
    "#xstart, xend, ystart, yend\n",
    "poroa_upper = '9873 10773 9570 10773'\n",
    "no_bounds = ''\n",
    "\n",
    "bounds = no_bounds\n",
    "band = 1\n",
    "data_dir = PureWindowsPath('I:/planet/andrew')\n",
    "out_dir = data_dir / 'cosicorr_sobel'\n",
    "window = 64\n",
    "step = 16\n",
    "\n",
    "# data_dir = PureWindowsPath(data_dir)\n",
    "# out_dir = PureWindowsPath(out_dir)\n",
    "\n",
    "dic = {'primary':[f'{str(data_dir / x[0])} {band} {bounds}' for x in files],\n",
    "       'secondary':[f'{str(data_dir / x[1])} {band} {bounds}' for x in files],\n",
    "       'out_name':[str(out_dir / f'cosicorr_{x[0][date_loc]}T000000_{x[1][date_loc]}T000000.dat') for x in files]}\n",
    "\n",
    "for key in dic:\n",
    "    with open(f'{key}.txt', 'w') as f:\n",
    "        for line in dic[key]:\n",
    "            f.write(line)\n",
    "            f.write('\\n')\n",
    "\n",
    "# frequency, winMaxX, winMaxY, winMinX, winMinY, stepX, stepY, nbRobustIteration, MaskThreshold, resampling, grid\n",
    "options = [f'frequency {window} {window} {window} {window} {step} {step} 5 0.9 0 0'] * len(files)\n",
    "with open('options.txt', 'w') as f:\n",
    "    for line in options:\n",
    "        f.write(line)\n",
    "        f.write('\\n')"
   ]
  },
  {
   "cell_type": "markdown",
   "id": "d3a6a2b9-be18-4802-9396-2f738de12cf9",
   "metadata": {},
   "source": [
    "## Prep for MintPy"
   ]
  },
  {
   "cell_type": "code",
   "execution_count": 12,
   "id": "05e33461-d0b6-4289-904a-356feeb8e1a6",
   "metadata": {},
   "outputs": [
    {
     "name": "stdout",
     "output_type": "stream",
     "text": [
      "/mnt/i/planet/andrew/cosicorr_sobel\n"
     ]
    }
   ],
   "source": [
    "cd /mnt/i/planet/andrew/cosicorr_sobel"
   ]
  },
  {
   "cell_type": "code",
   "execution_count": 13,
   "id": "55e57afd-12f4-4050-a601-823fad0ecfd6",
   "metadata": {},
   "outputs": [
    {
     "data": {
      "text/plain": [
       "['cosicorr_20170911T000000_20180909T000000.dat',\n",
       " 'cosicorr_20170911T000000_20190918T000000.dat',\n",
       " 'cosicorr_20170911T000000_20200903T000000.dat',\n",
       " 'cosicorr_20170911T000000_20210910T000000.dat',\n",
       " 'cosicorr_20180909T000000_20190918T000000.dat',\n",
       " 'cosicorr_20180909T000000_20200903T000000.dat',\n",
       " 'cosicorr_20180909T000000_20210910T000000.dat',\n",
       " 'cosicorr_20190918T000000_20200903T000000.dat',\n",
       " 'cosicorr_20190918T000000_20210910T000000.dat',\n",
       " 'cosicorr_20200903T000000_20210910T000000.dat']"
      ]
     },
     "execution_count": 13,
     "metadata": {},
     "output_type": "execute_result"
    }
   ],
   "source": [
    "# create separate tif files for each band\n",
    "files = glob.glob('*.dat')\n",
    "files.sort()\n",
    "files"
   ]
  },
  {
   "cell_type": "code",
   "execution_count": 14,
   "id": "5d7f1dc0-17ec-46dc-8081-c1d6064c5473",
   "metadata": {},
   "outputs": [],
   "source": [
    "for fname in files:\n",
    "    for b, dataset in enumerate(['EWOffset','NSOffset','offsetSNR']):\n",
    "        fname_out = f'{os.path.splitext(fname)[0]}_{dataset}.tif'\n",
    "        ds = gdal.Open(fname)\n",
    "        ds = gdal.Translate(fname_out, ds, bandList = [b+1])\n",
    "        ds = None\n",
    "\n",
    "# write mintpy file\n",
    "files = glob.glob('*EWOffset.tif')+glob.glob('*NSOffset.tif')+glob.glob('*offsetSNR.tif')\n",
    "files.sort()\n",
    "lines = [f'{f} {f[9:17]} {f[25:33]}\\n' for f in files]\n",
    "with open('metadata.txt', 'w') as f:\n",
    "    f.writelines(lines)"
   ]
  },
  {
   "cell_type": "code",
   "execution_count": null,
   "id": "84d24fc1-10b8-4517-a611-5727edeb3fd0",
   "metadata": {},
   "outputs": [],
   "source": []
  }
 ],
 "metadata": {
  "kernelspec": {
   "display_name": "Python 3 (ipykernel)",
   "language": "python",
   "name": "python3"
  },
  "language_info": {
   "codemirror_mode": {
    "name": "ipython",
    "version": 3
   },
   "file_extension": ".py",
   "mimetype": "text/x-python",
   "name": "python",
   "nbconvert_exporter": "python",
   "pygments_lexer": "ipython3",
   "version": "3.8.10"
  }
 },
 "nbformat": 4,
 "nbformat_minor": 5
}
