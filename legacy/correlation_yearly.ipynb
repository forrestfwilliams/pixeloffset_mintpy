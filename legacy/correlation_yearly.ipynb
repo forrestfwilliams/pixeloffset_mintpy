{
 "cells": [
  {
   "cell_type": "code",
   "execution_count": 1,
   "id": "094dbea0-f52b-4d54-be50-bb218516e38e",
   "metadata": {},
   "outputs": [],
   "source": [
    "%matplotlib inline\n",
    "import glob\n",
    "import numpy as np\n",
    "import pandas as pd\n",
    "from osgeo import gdal\n",
    "import matplotlib.pyplot as plt\n",
    "import os\n",
    "from scipy import optimize\n",
    "from scipy import stats\n",
    "import itertools\n",
    "from mintpy.utils import network, plot"
   ]
  },
  {
   "cell_type": "code",
   "execution_count": 2,
   "id": "24d3f8cc-5231-46c4-96f8-5a9d08ef152d",
   "metadata": {},
   "outputs": [],
   "source": [
    "def norm_data(data):\n",
    "    \"\"\"\n",
    "    normalize data to have mean=0 and standard_deviation=1\n",
    "    \"\"\"\n",
    "    mean_data=np.mean(data)\n",
    "    std_data=np.std(data, ddof=1)\n",
    "    #return (data-mean_data)/(std_data*np.sqrt(data.size-1))\n",
    "    return (data-mean_data)/(std_data)\n",
    "\n",
    "\n",
    "def ncc(data0, data1):\n",
    "    \"\"\"\n",
    "    normalized cross-correlation coefficient between two data sets\n",
    "\n",
    "    Parameters\n",
    "    ----------\n",
    "    data0, data1 :  numpy arrays of same size\n",
    "    \"\"\"\n",
    "    return (1.0/(data0.size-1)) * np.sum(norm_data(data0)*norm_data(data1))\n"
   ]
  },
  {
   "cell_type": "code",
   "execution_count": 3,
   "id": "84a2775a-bc41-433e-8bc6-dac124d201a6",
   "metadata": {},
   "outputs": [
    {
     "name": "stdout",
     "output_type": "stream",
     "text": [
      "/mnt/i/sentinel2/yearly_nir\n"
     ]
    }
   ],
   "source": [
    "cd /mnt/i/sentinel2/yearly_nir"
   ]
  },
  {
   "cell_type": "code",
   "execution_count": 4,
   "id": "36b0fd7d-a0ee-4286-826c-fef23f48434e",
   "metadata": {},
   "outputs": [
    {
     "data": {
      "text/plain": [
       "{'20160601': 's2_l2_20160601.tif',\n",
       " '20170601': 's2_l2_20170601.tif',\n",
       " '20180601': 's2_l2_20180601.tif',\n",
       " '20190601': 's2_l2_20190601.tif',\n",
       " '20200601': 's2_l2_20200601.tif',\n",
       " '20210601': 's2_l2_20210601.tif'}"
      ]
     },
     "execution_count": 4,
     "metadata": {},
     "output_type": "execute_result"
    }
   ],
   "source": [
    "# b08dat = glob.glob('*B08_10m*.dat')\n",
    "s2s = glob.glob('*tif')\n",
    "\n",
    "names = {os.path.basename(x)[6:14]:x for x in s2s}\n",
    "names"
   ]
  },
  {
   "cell_type": "code",
   "execution_count": 6,
   "id": "e85eba39-a4b4-4819-b9cf-93b228986f9c",
   "metadata": {},
   "outputs": [
    {
     "data": {
      "text/html": [
       "<div>\n",
       "<style scoped>\n",
       "    .dataframe tbody tr th:only-of-type {\n",
       "        vertical-align: middle;\n",
       "    }\n",
       "\n",
       "    .dataframe tbody tr th {\n",
       "        vertical-align: top;\n",
       "    }\n",
       "\n",
       "    .dataframe thead th {\n",
       "        text-align: right;\n",
       "    }\n",
       "</style>\n",
       "<table border=\"1\" class=\"dataframe\">\n",
       "  <thead>\n",
       "    <tr style=\"text-align: right;\">\n",
       "      <th></th>\n",
       "      <th>date1</th>\n",
       "      <th>date2</th>\n",
       "      <th>ncc</th>\n",
       "    </tr>\n",
       "  </thead>\n",
       "  <tbody>\n",
       "    <tr>\n",
       "      <th>0</th>\n",
       "      <td>20160601</td>\n",
       "      <td>20170601</td>\n",
       "      <td>0.0</td>\n",
       "    </tr>\n",
       "    <tr>\n",
       "      <th>1</th>\n",
       "      <td>20160601</td>\n",
       "      <td>20180601</td>\n",
       "      <td>0.0</td>\n",
       "    </tr>\n",
       "    <tr>\n",
       "      <th>2</th>\n",
       "      <td>20160601</td>\n",
       "      <td>20190601</td>\n",
       "      <td>0.0</td>\n",
       "    </tr>\n",
       "    <tr>\n",
       "      <th>3</th>\n",
       "      <td>20160601</td>\n",
       "      <td>20200601</td>\n",
       "      <td>0.0</td>\n",
       "    </tr>\n",
       "    <tr>\n",
       "      <th>4</th>\n",
       "      <td>20160601</td>\n",
       "      <td>20210601</td>\n",
       "      <td>0.0</td>\n",
       "    </tr>\n",
       "    <tr>\n",
       "      <th>5</th>\n",
       "      <td>20170601</td>\n",
       "      <td>20180601</td>\n",
       "      <td>0.0</td>\n",
       "    </tr>\n",
       "    <tr>\n",
       "      <th>6</th>\n",
       "      <td>20170601</td>\n",
       "      <td>20190601</td>\n",
       "      <td>0.0</td>\n",
       "    </tr>\n",
       "    <tr>\n",
       "      <th>7</th>\n",
       "      <td>20170601</td>\n",
       "      <td>20200601</td>\n",
       "      <td>0.0</td>\n",
       "    </tr>\n",
       "    <tr>\n",
       "      <th>8</th>\n",
       "      <td>20170601</td>\n",
       "      <td>20210601</td>\n",
       "      <td>0.0</td>\n",
       "    </tr>\n",
       "    <tr>\n",
       "      <th>9</th>\n",
       "      <td>20180601</td>\n",
       "      <td>20190601</td>\n",
       "      <td>0.0</td>\n",
       "    </tr>\n",
       "    <tr>\n",
       "      <th>10</th>\n",
       "      <td>20180601</td>\n",
       "      <td>20200601</td>\n",
       "      <td>0.0</td>\n",
       "    </tr>\n",
       "    <tr>\n",
       "      <th>11</th>\n",
       "      <td>20180601</td>\n",
       "      <td>20210601</td>\n",
       "      <td>0.0</td>\n",
       "    </tr>\n",
       "    <tr>\n",
       "      <th>12</th>\n",
       "      <td>20190601</td>\n",
       "      <td>20200601</td>\n",
       "      <td>0.0</td>\n",
       "    </tr>\n",
       "    <tr>\n",
       "      <th>13</th>\n",
       "      <td>20190601</td>\n",
       "      <td>20210601</td>\n",
       "      <td>0.0</td>\n",
       "    </tr>\n",
       "    <tr>\n",
       "      <th>14</th>\n",
       "      <td>20200601</td>\n",
       "      <td>20210601</td>\n",
       "      <td>0.0</td>\n",
       "    </tr>\n",
       "  </tbody>\n",
       "</table>\n",
       "</div>"
      ],
      "text/plain": [
       "       date1     date2  ncc\n",
       "0   20160601  20170601  0.0\n",
       "1   20160601  20180601  0.0\n",
       "2   20160601  20190601  0.0\n",
       "3   20160601  20200601  0.0\n",
       "4   20160601  20210601  0.0\n",
       "5   20170601  20180601  0.0\n",
       "6   20170601  20190601  0.0\n",
       "7   20170601  20200601  0.0\n",
       "8   20170601  20210601  0.0\n",
       "9   20180601  20190601  0.0\n",
       "10  20180601  20200601  0.0\n",
       "11  20180601  20210601  0.0\n",
       "12  20190601  20200601  0.0\n",
       "13  20190601  20210601  0.0\n",
       "14  20200601  20210601  0.0"
      ]
     },
     "execution_count": 6,
     "metadata": {},
     "output_type": "execute_result"
    }
   ],
   "source": [
    "df = pd.DataFrame()\n",
    "\n",
    "pairs = [sorted(x) for x in itertools.combinations(names.values(),2)]\n",
    "for date1, date2  in pairs:\n",
    "    val = 0\n",
    "    df = df.append({'image1':date1,'image2':date2,'ncc':val},ignore_index=True)\n",
    "    \n",
    "df = df.sort_values(['date1','date2']).reset_index(drop=True)\n",
    "df.to_csv('pairs.csv',index=False)\n",
    "df"
   ]
  },
  {
   "cell_type": "code",
   "execution_count": 26,
   "id": "916bbed9-32c8-4200-b136-a2567d88b978",
   "metadata": {},
   "outputs": [
    {
     "name": "stdout",
     "output_type": "stream",
     "text": [
      "20160601 20170601\n",
      "20160601 20180601\n",
      "20160601 20190601\n",
      "20160601 20200601\n",
      "20160601 20210601\n",
      "20170601 20180601\n",
      "20170601 20190601\n",
      "20170601 20200601\n",
      "20170601 20210601\n",
      "20180601 20190601\n",
      "20180601 20200601\n",
      "20180601 20210601\n",
      "20190601 20200601\n",
      "20190601 20210601\n",
      "20200601 20210601\n",
      "CPU times: user 20.8 s, sys: 29 s, total: 49.8 s\n",
      "Wall time: 3min 37s\n"
     ]
    }
   ],
   "source": [
    "%%time\n",
    "\n",
    "df = pd.DataFrame(columns=['date1','date2','ncc'])\n",
    "\n",
    "pairs = [sorted(x) for x in itertools.combinations(names.keys(),2)]\n",
    "\n",
    "for date1, date2  in pairs:\n",
    "    print(date1,date2)\n",
    "    \n",
    "    ds = gdal.Open(names[date1], gdal.GA_ReadOnly)\n",
    "    arr1 = ds.GetRasterBand(1).ReadAsArray()\n",
    "    ds = None\n",
    "    \n",
    "    ds = gdal.Open(names[date2], gdal.GA_ReadOnly)\n",
    "    arr2 = ds.GetRasterBand(1).ReadAsArray()\n",
    "    ds = None\n",
    "    \n",
    "    val = ncc(arr1,arr2)\n",
    "    df = df.append({'date1':date1,'date2':date2,'ncc':val},ignore_index=True)\n",
    "    \n",
    "    del arr1, arr2"
   ]
  },
  {
   "cell_type": "code",
   "execution_count": 27,
   "id": "c5f97491-9076-4b13-a346-fc70342d9dc3",
   "metadata": {},
   "outputs": [
    {
     "data": {
      "text/html": [
       "<div>\n",
       "<style scoped>\n",
       "    .dataframe tbody tr th:only-of-type {\n",
       "        vertical-align: middle;\n",
       "    }\n",
       "\n",
       "    .dataframe tbody tr th {\n",
       "        vertical-align: top;\n",
       "    }\n",
       "\n",
       "    .dataframe thead th {\n",
       "        text-align: right;\n",
       "    }\n",
       "</style>\n",
       "<table border=\"1\" class=\"dataframe\">\n",
       "  <thead>\n",
       "    <tr style=\"text-align: right;\">\n",
       "      <th></th>\n",
       "      <th>date1</th>\n",
       "      <th>date2</th>\n",
       "      <th>ncc</th>\n",
       "    </tr>\n",
       "  </thead>\n",
       "  <tbody>\n",
       "    <tr>\n",
       "      <th>0</th>\n",
       "      <td>20160601</td>\n",
       "      <td>20170601</td>\n",
       "      <td>0.915327</td>\n",
       "    </tr>\n",
       "    <tr>\n",
       "      <th>1</th>\n",
       "      <td>20160601</td>\n",
       "      <td>20180601</td>\n",
       "      <td>0.860335</td>\n",
       "    </tr>\n",
       "    <tr>\n",
       "      <th>2</th>\n",
       "      <td>20160601</td>\n",
       "      <td>20190601</td>\n",
       "      <td>0.901220</td>\n",
       "    </tr>\n",
       "    <tr>\n",
       "      <th>3</th>\n",
       "      <td>20160601</td>\n",
       "      <td>20200601</td>\n",
       "      <td>0.930769</td>\n",
       "    </tr>\n",
       "    <tr>\n",
       "      <th>4</th>\n",
       "      <td>20160601</td>\n",
       "      <td>20210601</td>\n",
       "      <td>0.930274</td>\n",
       "    </tr>\n",
       "    <tr>\n",
       "      <th>5</th>\n",
       "      <td>20170601</td>\n",
       "      <td>20180601</td>\n",
       "      <td>0.867559</td>\n",
       "    </tr>\n",
       "    <tr>\n",
       "      <th>6</th>\n",
       "      <td>20170601</td>\n",
       "      <td>20190601</td>\n",
       "      <td>0.896456</td>\n",
       "    </tr>\n",
       "    <tr>\n",
       "      <th>7</th>\n",
       "      <td>20170601</td>\n",
       "      <td>20200601</td>\n",
       "      <td>0.932113</td>\n",
       "    </tr>\n",
       "    <tr>\n",
       "      <th>8</th>\n",
       "      <td>20170601</td>\n",
       "      <td>20210601</td>\n",
       "      <td>0.930898</td>\n",
       "    </tr>\n",
       "    <tr>\n",
       "      <th>9</th>\n",
       "      <td>20180601</td>\n",
       "      <td>20190601</td>\n",
       "      <td>0.905876</td>\n",
       "    </tr>\n",
       "    <tr>\n",
       "      <th>10</th>\n",
       "      <td>20180601</td>\n",
       "      <td>20200601</td>\n",
       "      <td>0.875423</td>\n",
       "    </tr>\n",
       "    <tr>\n",
       "      <th>11</th>\n",
       "      <td>20180601</td>\n",
       "      <td>20210601</td>\n",
       "      <td>0.896478</td>\n",
       "    </tr>\n",
       "    <tr>\n",
       "      <th>12</th>\n",
       "      <td>20190601</td>\n",
       "      <td>20200601</td>\n",
       "      <td>0.921967</td>\n",
       "    </tr>\n",
       "    <tr>\n",
       "      <th>13</th>\n",
       "      <td>20190601</td>\n",
       "      <td>20210601</td>\n",
       "      <td>0.939464</td>\n",
       "    </tr>\n",
       "    <tr>\n",
       "      <th>14</th>\n",
       "      <td>20200601</td>\n",
       "      <td>20210601</td>\n",
       "      <td>0.969429</td>\n",
       "    </tr>\n",
       "  </tbody>\n",
       "</table>\n",
       "</div>"
      ],
      "text/plain": [
       "       date1     date2       ncc\n",
       "0   20160601  20170601  0.915327\n",
       "1   20160601  20180601  0.860335\n",
       "2   20160601  20190601  0.901220\n",
       "3   20160601  20200601  0.930769\n",
       "4   20160601  20210601  0.930274\n",
       "5   20170601  20180601  0.867559\n",
       "6   20170601  20190601  0.896456\n",
       "7   20170601  20200601  0.932113\n",
       "8   20170601  20210601  0.930898\n",
       "9   20180601  20190601  0.905876\n",
       "10  20180601  20200601  0.875423\n",
       "11  20180601  20210601  0.896478\n",
       "12  20190601  20200601  0.921967\n",
       "13  20190601  20210601  0.939464\n",
       "14  20200601  20210601  0.969429"
      ]
     },
     "execution_count": 27,
     "metadata": {},
     "output_type": "execute_result"
    }
   ],
   "source": [
    "df = df.sort_values(['date1','date2']).reset_index(drop=True)\n",
    "df.to_csv('ncc.csv',index=False)\n",
    "df"
   ]
  },
  {
   "cell_type": "code",
   "execution_count": 28,
   "id": "28f647e6-9639-4770-8c2a-5f5ad98f6cc1",
   "metadata": {},
   "outputs": [],
   "source": [
    "df = pd.read_csv('ncc.csv',dtype={'date1':str,'date2':str,'ncc':np.float64})"
   ]
  },
  {
   "cell_type": "code",
   "execution_count": 29,
   "id": "98c7ac86-cf92-4d4a-ac1f-421677f5270d",
   "metadata": {},
   "outputs": [],
   "source": [
    "dates = list(names.keys())\n",
    "dates.sort()"
   ]
  },
  {
   "cell_type": "code",
   "execution_count": 30,
   "id": "17534623-d57e-424d-a2e4-471356dfe245",
   "metadata": {},
   "outputs": [
    {
     "data": {
      "text/html": [
       "<div>\n",
       "<style scoped>\n",
       "    .dataframe tbody tr th:only-of-type {\n",
       "        vertical-align: middle;\n",
       "    }\n",
       "\n",
       "    .dataframe tbody tr th {\n",
       "        vertical-align: top;\n",
       "    }\n",
       "\n",
       "    .dataframe thead th {\n",
       "        text-align: right;\n",
       "    }\n",
       "</style>\n",
       "<table border=\"1\" class=\"dataframe\">\n",
       "  <thead>\n",
       "    <tr style=\"text-align: right;\">\n",
       "      <th></th>\n",
       "      <th>20160601</th>\n",
       "      <th>20170601</th>\n",
       "      <th>20180601</th>\n",
       "      <th>20190601</th>\n",
       "      <th>20200601</th>\n",
       "      <th>20210601</th>\n",
       "    </tr>\n",
       "  </thead>\n",
       "  <tbody>\n",
       "    <tr>\n",
       "      <th>20160601</th>\n",
       "      <td>NaN</td>\n",
       "      <td>0.915327</td>\n",
       "      <td>0.860335</td>\n",
       "      <td>0.90122</td>\n",
       "      <td>0.930769</td>\n",
       "      <td>0.930274</td>\n",
       "    </tr>\n",
       "    <tr>\n",
       "      <th>20170601</th>\n",
       "      <td>0.915327</td>\n",
       "      <td>NaN</td>\n",
       "      <td>0.867559</td>\n",
       "      <td>0.896456</td>\n",
       "      <td>0.932113</td>\n",
       "      <td>0.930898</td>\n",
       "    </tr>\n",
       "    <tr>\n",
       "      <th>20180601</th>\n",
       "      <td>0.860335</td>\n",
       "      <td>0.867559</td>\n",
       "      <td>NaN</td>\n",
       "      <td>0.905876</td>\n",
       "      <td>0.875423</td>\n",
       "      <td>0.896478</td>\n",
       "    </tr>\n",
       "    <tr>\n",
       "      <th>20190601</th>\n",
       "      <td>0.90122</td>\n",
       "      <td>0.896456</td>\n",
       "      <td>0.905876</td>\n",
       "      <td>NaN</td>\n",
       "      <td>0.921967</td>\n",
       "      <td>0.939464</td>\n",
       "    </tr>\n",
       "    <tr>\n",
       "      <th>20200601</th>\n",
       "      <td>0.930769</td>\n",
       "      <td>0.932113</td>\n",
       "      <td>0.875423</td>\n",
       "      <td>0.921967</td>\n",
       "      <td>NaN</td>\n",
       "      <td>0.969429</td>\n",
       "    </tr>\n",
       "    <tr>\n",
       "      <th>20210601</th>\n",
       "      <td>0.930274</td>\n",
       "      <td>0.930898</td>\n",
       "      <td>0.896478</td>\n",
       "      <td>0.939464</td>\n",
       "      <td>0.969429</td>\n",
       "      <td>NaN</td>\n",
       "    </tr>\n",
       "  </tbody>\n",
       "</table>\n",
       "</div>"
      ],
      "text/plain": [
       "          20160601  20170601  20180601  20190601  20200601  20210601\n",
       "20160601       NaN  0.915327  0.860335   0.90122  0.930769  0.930274\n",
       "20170601  0.915327       NaN  0.867559  0.896456  0.932113  0.930898\n",
       "20180601  0.860335  0.867559       NaN  0.905876  0.875423  0.896478\n",
       "20190601   0.90122  0.896456  0.905876       NaN  0.921967  0.939464\n",
       "20200601  0.930769  0.932113  0.875423  0.921967       NaN  0.969429\n",
       "20210601  0.930274  0.930898  0.896478  0.939464  0.969429       NaN"
      ]
     },
     "execution_count": 30,
     "metadata": {},
     "output_type": "execute_result"
    }
   ],
   "source": [
    "df_square = pd.DataFrame(index=dates,columns=dates)\n",
    "\n",
    "for i, row in df.iterrows():\n",
    "    df_square.loc[str(row['date1']),str(row['date2'])] = row['ncc']\n",
    "    df_square.loc[str(row['date2']),str(row['date1'])] = row['ncc']\n",
    "df_square"
   ]
  },
  {
   "cell_type": "code",
   "execution_count": 31,
   "id": "3d677ac1-a424-4008-b683-7d69c7debf09",
   "metadata": {},
   "outputs": [
    {
     "data": {
      "image/png": "[encoded data removed]",
      "text/plain": [
       "<Figure size 432x288 with 2 Axes>"
      ]
     },
     "metadata": {
      "needs_background": "light"
     },
     "output_type": "display_data"
    }
   ],
   "source": [
    "im = plt.imshow(df_square.astype(float).to_numpy())\n",
    "plt.colorbar()\n",
    "plt.clim(0,1)"
   ]
  },
  {
   "cell_type": "code",
   "execution_count": 32,
   "id": "8610e75c-087d-4c4e-bf67-ae75ff3393d6",
   "metadata": {},
   "outputs": [
    {
     "data": {
      "image/png": "[encoded data removed]",
      "text/plain": [
       "<Figure size 432x288 with 2 Axes>"
      ]
     },
     "metadata": {
      "needs_background": "light"
     },
     "output_type": "display_data"
    }
   ],
   "source": [
    "limit = 0.7\n",
    "df_filt = df_square.copy()\n",
    "df_filt[df_filt <= limit] = 0\n",
    "\n",
    "plt.imshow(df_filt.astype(float).to_numpy())\n",
    "plt.colorbar()\n",
    "plt.clim(limit,1)"
   ]
  },
  {
   "cell_type": "code",
   "execution_count": 33,
   "id": "83344f41-27bc-48b0-97d4-4a711b2a6098",
   "metadata": {},
   "outputs": [
    {
     "data": {
      "text/plain": [
       "(0.6, 1.0)"
      ]
     },
     "execution_count": 33,
     "metadata": {},
     "output_type": "execute_result"
    },
    {
     "data": {
      "image/png": "[encoded data removed]",
      "text/plain": [
       "<Figure size 432x288 with 1 Axes>"
      ]
     },
     "metadata": {
      "needs_background": "light"
     },
     "output_type": "display_data"
    }
   ],
   "source": [
    "x = pd.to_datetime(df_square.index).to_numpy()\n",
    "means = df_square.mean(axis=1)\n",
    "y = means.to_numpy()\n",
    "plt.scatter(x,y)\n",
    "# print(means.shape)\n",
    "plt.ylim(0.6,1)"
   ]
  },
  {
   "cell_type": "code",
   "execution_count": 34,
   "id": "43d7b73e-918c-4f94-8b43-98d4254464c0",
   "metadata": {},
   "outputs": [
    {
     "data": {
      "text/plain": [
       "<AxesSubplot:ylabel='Frequency'>"
      ]
     },
     "execution_count": 34,
     "metadata": {},
     "output_type": "execute_result"
    },
    {
     "data": {
      "image/png": "[encoded data removed]",
      "text/plain": [
       "<Figure size 432x288 with 1 Axes>"
      ]
     },
     "metadata": {
      "needs_background": "light"
     },
     "output_type": "display_data"
    }
   ],
   "source": [
    "df.ncc.plot.hist()"
   ]
  },
  {
   "cell_type": "code",
   "execution_count": 35,
   "id": "886a659b-be36-42a0-bc3c-6f344b93fabc",
   "metadata": {},
   "outputs": [
    {
     "data": {
      "text/plain": [
       "(15, 7)"
      ]
     },
     "execution_count": 35,
     "metadata": {},
     "output_type": "execute_result"
    }
   ],
   "source": [
    "exclude = []\n",
    "\n",
    "ts = df.copy()\n",
    "ts = ts[~ts.ncc.isnull()]\n",
    "\n",
    "# add date12\n",
    "ts['date12'] = ts['date1'] + '-' + ts['date2']\n",
    "\n",
    "# remove problematic dates\n",
    "ts = ts[(~ts['date1'].isin(exclude)) & (~ts['date2'].isin(exclude))]\n",
    "\n",
    "# calculate date difference\n",
    "ts['date1'] = pd.to_datetime(ts['date1'])\n",
    "ts['date2'] = pd.to_datetime(ts['date2'])\n",
    "ts['date_diff'] = (ts['date2'] - ts['date1']).dt.days\n",
    "\n",
    "# calculate day of year\n",
    "ts['doy1'] = ts.date1.dt.dayofyear\n",
    "ts['doy2'] = ts.date2.dt.dayofyear\n",
    "\n",
    "# remove <365 pairs\n",
    "# ts = ts[ts.date_diff >= 365]\n",
    "\n",
    "ts.shape"
   ]
  },
  {
   "cell_type": "code",
   "execution_count": 36,
   "id": "82b959b8-2ac6-460b-a8eb-9829b02816e4",
   "metadata": {},
   "outputs": [
    {
     "data": {
      "text/plain": [
       "<matplotlib.collections.PathCollection at 0x7f07df29e070>"
      ]
     },
     "execution_count": 36,
     "metadata": {},
     "output_type": "execute_result"
    },
    {
     "data": {
      "image/png": "[encoded data removed]",
      "text/plain": [
       "<Figure size 432x288 with 1 Axes>"
      ]
     },
     "metadata": {
      "needs_background": "light"
     },
     "output_type": "display_data"
    }
   ],
   "source": [
    "plt.scatter(ts['date_diff'],ts['ncc'])"
   ]
  },
  {
   "cell_type": "markdown",
   "id": "650f9850-93a9-4541-816a-94e93c908d27",
   "metadata": {},
   "source": [
    "## Threshold based selection"
   ]
  },
  {
   "cell_type": "code",
   "execution_count": 37,
   "id": "558c4b2c-f9b1-4cb9-b2cc-09b056006da3",
   "metadata": {},
   "outputs": [
    {
     "data": {
      "text/plain": [
       "<matplotlib.collections.PathCollection at 0x7f07df213f10>"
      ]
     },
     "execution_count": 37,
     "metadata": {},
     "output_type": "execute_result"
    },
    {
     "data": {
      "image/png": "[encoded data removed]",
      "text/plain": [
       "<Figure size 432x288 with 1 Axes>"
      ]
     },
     "metadata": {
      "needs_background": "light"
     },
     "output_type": "display_data"
    }
   ],
   "source": [
    "#get min spanning tree\n",
    "mst = network.threshold_coherence_based_mst(list(ts.date12),list(ts.ncc))\n",
    "mst = ['20'+x[:7]+'20'+x[7:] for x in mst]\n",
    "\n",
    "gtt = ts[ts.ncc >= 0.7].copy()\n",
    "\n",
    "date12_list = list(set(gtt.date12) | set(mst))\n",
    "pairs = ts[ts.date12.isin(date12_list)].copy().reset_index(drop=True)\n",
    "pairs.sort_values(['date1','date2'],inplace=True)\n",
    "\n",
    "pairs['image1'] = [names[x] for x in pairs.date1.dt.strftime('%Y%m%d')]\n",
    "pairs['image2'] = [names[x] for x in pairs.date2.dt.strftime('%Y%m%d')]\n",
    "\n",
    "pairs[['image1','image2']].to_csv('pairs.csv',index=False)\n",
    "\n",
    "plt.scatter(pairs.date_diff,pairs.ncc)\n",
    "plt.scatter(gtt.date_diff,gtt.ncc)"
   ]
  },
  {
   "cell_type": "code",
   "execution_count": 38,
   "id": "2b000e16-a031-4aca-a841-17d9f255e7c2",
   "metadata": {},
   "outputs": [
    {
     "name": "stdout",
     "output_type": "stream",
     "text": [
      "max perpendicular baseline: 1.00 m\n",
      "max temporal      baseline: 1826.0 days\n",
      "showing coherence\n",
      "data range: [0.8603353033110557, 0.969429257406574]\n",
      "display range: [0.8603353033110557, 0.969429257406574]\n",
      "15 pairs for 6 dates\n"
     ]
    },
    {
     "data": {
      "image/png": "[encoded data removed]",
      "text/plain": [
       "<Figure size 720x720 with 2 Axes>"
      ]
     },
     "metadata": {
      "needs_background": "light"
     },
     "output_type": "display_data"
    }
   ],
   "source": [
    "dates = pd.Series(pairs.date1.append(pairs.date2).unique())\n",
    "dates_txt = dates.dt.strftime('%Y%m%d')\n",
    "doy = dates.dt.dayofyear\n",
    "\n",
    "p_dict = {}\n",
    "p_dict['cohList'] = pairs.ncc.tolist()\n",
    "p_dict['vlim'] = [pairs.ncc.min(),pairs.ncc.max()]\n",
    "p_dict['xlabel'] = 'Year'\n",
    "p_dict['ylabel'] = 'Day of Year'\n",
    "p_dict['cbar_label'] = 'Normalized Cross Correlation'\n",
    "\n",
    "f, ax = plt.subplots(1,1,figsize=(10,10))\n",
    "ax = plot.plot_network(ax,pairs.date12.tolist(),dates_txt,doy,p_dict)\n",
    "ax.set_title('Image Network')\n",
    "print(f'{pairs.shape[0]} pairs for {dates.shape[0]} dates')"
   ]
  },
  {
   "cell_type": "code",
   "execution_count": null,
   "id": "d2f23266-188b-427d-bcce-5c3967371c48",
   "metadata": {},
   "outputs": [],
   "source": []
  }
 ],
 "metadata": {
  "kernelspec": {
   "display_name": "Python 3 (ipykernel)",
   "language": "python",
   "name": "python3"
  },
  "language_info": {
   "codemirror_mode": {
    "name": "ipython",
    "version": 3
   },
   "file_extension": ".py",
   "mimetype": "text/x-python",
   "name": "python",
   "nbconvert_exporter": "python",
   "pygments_lexer": "ipython3",
   "version": "3.8.10"
  }
 },
 "nbformat": 4,
 "nbformat_minor": 5
}
