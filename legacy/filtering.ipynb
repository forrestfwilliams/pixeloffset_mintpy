{
 "cells": [
  {
   "cell_type": "markdown",
   "id": "e65b6178-d0ed-45a4-9e6e-207d6429773e",
   "metadata": {},
   "source": [
    "# Filtering"
   ]
  },
  {
   "cell_type": "markdown",
   "id": "3e3c0308-4e83-4771-aa52-81de219a6348",
   "metadata": {},
   "source": [
    "## Setup"
   ]
  },
  {
   "cell_type": "code",
   "execution_count": 5,
   "id": "e686471e-99aa-42b6-b48a-b1cc68b726cd",
   "metadata": {},
   "outputs": [
    {
     "name": "stdout",
     "output_type": "stream",
     "text": [
      "/home/fw/data/poroa_32\n"
     ]
    }
   ],
   "source": [
    "cd /home/fw/data/poroa_32"
   ]
  },
  {
   "cell_type": "markdown",
   "id": "b21d81ff-586a-40b5-b180-1124c0d7b8d9",
   "metadata": {},
   "source": [
    "## Velocity filter"
   ]
  },
  {
   "cell_type": "code",
   "execution_count": 3,
   "id": "8dc157c6-224e-4cf7-8828-729a17a28973",
   "metadata": {},
   "outputs": [],
   "source": [
    "# !generate_mask.py -h\n",
    "# !mask.py -h"
   ]
  },
  {
   "cell_type": "code",
   "execution_count": null,
   "id": "768cc7fc-6b56-4bb7-b243-feb06dcd5a9b",
   "metadata": {},
   "outputs": [],
   "source": []
  }
 ],
 "metadata": {
  "kernelspec": {
   "display_name": "Python 3 (ipykernel)",
   "language": "python",
   "name": "python3"
  },
  "language_info": {
   "codemirror_mode": {
    "name": "ipython",
    "version": 3
   },
   "file_extension": ".py",
   "mimetype": "text/x-python",
   "name": "python",
   "nbconvert_exporter": "python",
   "pygments_lexer": "ipython3",
   "version": "3.8.10"
  }
 },
 "nbformat": 4,
 "nbformat_minor": 5
}
