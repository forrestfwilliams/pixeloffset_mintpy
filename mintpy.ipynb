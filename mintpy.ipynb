{
 "cells": [
  {
   "cell_type": "markdown",
   "id": "a0daf3aa-b562-4bd2-b3dc-d4081450e1dd",
   "metadata": {},
   "source": [
    "## Setup"
   ]
  },
  {
   "cell_type": "code",
   "execution_count": null,
   "id": "7c5e3228-af9b-4b47-a747-8a62846c8739",
   "metadata": {},
   "outputs": [],
   "source": [
    "%matplotlib inline\n",
    "import matplotlib.pyplot as plt\n",
    "from mintpy.utils import readfile, writefile, utils as ut\n",
    "from mintpy import view\n",
    "import numpy as np\n",
    "from pathlib import Path\n",
    "import shutil"
   ]
  },
  {
   "cell_type": "code",
   "execution_count": null,
   "id": "f400ead5-db3f-4cb5-a0a2-761c1affe681",
   "metadata": {},
   "outputs": [],
   "source": [
    "cd /home/micromamba/data/spot/landslide_2_rangitikei"
   ]
  },
  {
   "cell_type": "code",
   "execution_count": null,
   "id": "d0be2368-4563-4bab-b20b-8e76a35f0a74",
   "metadata": {},
   "outputs": [],
   "source": [
    "loc = Path('mintpy')\n",
    "if loc.exists():\n",
    "    shutil.rmtree(loc)\n",
    "\n",
    "loc.mkdir()"
   ]
  },
  {
   "cell_type": "code",
   "execution_count": null,
   "id": "6be225dc-9d24-45ae-8dae-e14f3609fea5",
   "metadata": {},
   "outputs": [],
   "source": [
    "cd mintpy"
   ]
  },
  {
   "cell_type": "markdown",
   "id": "1e16d904-d61a-48e1-947b-8a2ecdac521d",
   "metadata": {},
   "source": [
    "## Run MintPy"
   ]
  },
  {
   "cell_type": "markdown",
   "id": "90cc5e59-7788-4d42-b30c-e8f7c0651a44",
   "metadata": {
    "tags": []
   },
   "source": [
    "### Load Data"
   ]
  },
  {
   "cell_type": "code",
   "execution_count": null,
   "id": "0a7b5d49-dab7-4f39-818d-d191409cb949",
   "metadata": {},
   "outputs": [],
   "source": [
    "rm ../corrected/*xml"
   ]
  },
  {
   "cell_type": "code",
   "execution_count": null,
   "id": "101dbe56-03b0-4a35-9aec-eaafa62b8a4b",
   "metadata": {},
   "outputs": [],
   "source": [
    "cp /home/micromamba/scripts/autorift.cfg ./autorift.cfg"
   ]
  },
  {
   "cell_type": "code",
   "execution_count": null,
   "id": "074cdaff-03de-4d5d-a91f-b2b833a1c883",
   "metadata": {},
   "outputs": [],
   "source": [
    "!load_data.py -t ./autorift.cfg"
   ]
  },
  {
   "cell_type": "code",
   "execution_count": null,
   "id": "0e2af41f-9997-4b4d-9059-9f656a66402a",
   "metadata": {},
   "outputs": [],
   "source": [
    "az = readfile.read('inputs/ifgramStack.h5', datasetName='azimuthOffset')[0]\n",
    "az_median = np.nanmedian(az, axis=(1,2))\n",
    "az_new = az - az_median[:,None,None]"
   ]
  },
  {
   "cell_type": "code",
   "execution_count": null,
   "id": "0250cf22-4de3-48fc-96a8-f17fb39f2349",
   "metadata": {},
   "outputs": [],
   "source": [
    "rg = readfile.read('inputs/ifgramStack.h5', datasetName='rangeOffset')[0]\n",
    "rg_median = np.nanmedian(rg, axis=(1,2))\n",
    "rg_new = rg - rg_median[:,None,None]"
   ]
  },
  {
   "cell_type": "code",
   "execution_count": null,
   "id": "79f5e322-4a56-47d1-946a-18fc66db9b22",
   "metadata": {},
   "outputs": [],
   "source": [
    "writefile.write({'azimuthOffset':az_new,'rangeOffset':rg_new},'inputs/ifgramStack_median.h5',ref_file='inputs/ifgramStack.h5')"
   ]
  },
  {
   "cell_type": "markdown",
   "id": "5b000bda-af5c-44f4-b0f8-dee86302ef1d",
   "metadata": {},
   "source": [
    "## View stack"
   ]
  },
  {
   "cell_type": "code",
   "execution_count": null,
   "id": "8ac98dba-a0be-48c9-a031-3806d1e3ccac",
   "metadata": {},
   "outputs": [],
   "source": [
    "view.main('inputs/ifgramStack.h5 azimuthOffset --noverbose'.split())"
   ]
  },
  {
   "cell_type": "code",
   "execution_count": null,
   "id": "088fb280-5237-499d-ace5-1d0ed47535cc",
   "metadata": {},
   "outputs": [],
   "source": [
    "view.main('inputs/ifgramStack.h5 rangeOffset --noverbose'.split())"
   ]
  },
  {
   "cell_type": "markdown",
   "id": "3d005ee2-dfc7-4b7b-8c07-563fdf07d40e",
   "metadata": {
    "tags": []
   },
   "source": [
    "## Inversion"
   ]
  },
  {
   "cell_type": "code",
   "execution_count": null,
   "id": "bb853e0c-6fed-48e8-8926-a0cefd6a2969",
   "metadata": {},
   "outputs": [],
   "source": [
    "!ifgram_inversion.py inputs/ifgramStack.h5 -i rangeOffset -w no -o timeseriesRg.h5 residualInvRg.h5 numInvOffsetRg.h5\n",
    "!ifgram_inversion.py inputs/ifgramStack.h5 -i azimuthOffset -w no -o timeseriesAz.h5 residualInvAz.h5 numInvOffsetAz.h5"
   ]
  },
  {
   "cell_type": "code",
   "execution_count": null,
   "id": "eec20f94-5f76-4627-89ff-420bd3f96155",
   "metadata": {},
   "outputs": [],
   "source": [
    "view.main('timeseriesAZ.h5 --noverbose'.split())"
   ]
  },
  {
   "cell_type": "code",
   "execution_count": null,
   "id": "a4364103-ab66-4bd7-94d7-df132921b698",
   "metadata": {},
   "outputs": [],
   "source": [
    "view.main('timeseriesRg.h5 --noverbose'.split())"
   ]
  },
  {
   "cell_type": "markdown",
   "id": "ceecdf6d-7e80-4c58-9e2c-f7d1ca853f3f",
   "metadata": {},
   "source": [
    "## timeseries2velocity"
   ]
  },
  {
   "cell_type": "code",
   "execution_count": null,
   "id": "7b8acfb9-da13-4047-b79b-642efae67c2c",
   "metadata": {},
   "outputs": [],
   "source": [
    "!timeseries2velocity.py timeseriesAz.h5 -o velocityAz.h5 --bootstrap --bc 100\n",
    "!timeseries2velocity.py timeseriesRg.h5 -o velocityRg.h5 --bootstrap --bc 100"
   ]
  },
  {
   "cell_type": "markdown",
   "id": "d56ef3ff-9984-44ff-8f0b-ff3d5aabc41e",
   "metadata": {},
   "source": [
    "## View Results"
   ]
  },
  {
   "cell_type": "code",
   "execution_count": null,
   "id": "124ac977-5c1a-4360-b576-1e52e09457c6",
   "metadata": {},
   "outputs": [],
   "source": [
    "view.main('velocityAz.h5 --vlim -500 500 --noverbose'.split())"
   ]
  },
  {
   "cell_type": "code",
   "execution_count": null,
   "id": "85e5e29e-7897-444c-89c6-9ee3b1f5e2d0",
   "metadata": {},
   "outputs": [],
   "source": [
    "view.main('velocityRg.h5 --vlim -500 500 --noverbose'.split())"
   ]
  },
  {
   "cell_type": "markdown",
   "id": "1e17d40e-9442-404f-bd7c-f2344f0b0f33",
   "metadata": {},
   "source": [
    "## Geocode"
   ]
  },
  {
   "cell_type": "code",
   "execution_count": null,
   "id": "1db7c1e6-8361-4511-9e6f-1f842df2da85",
   "metadata": {},
   "outputs": [],
   "source": [
    "!save_gdal.py velocityAz.h5 -o ../velocity_ns.tif\n",
    "!save_gdal.py velocityRg.h5 -o ../velocity_ew.tif"
   ]
  },
  {
   "cell_type": "markdown",
   "id": "395c0b11-3097-4ee2-b3bc-0b070c076ec0",
   "metadata": {},
   "source": [
    "## Done!"
   ]
  }
 ],
 "metadata": {
  "kernelspec": {
   "display_name": "Python 3 (ipykernel)",
   "language": "python",
   "name": "python3"
  },
  "language_info": {
   "codemirror_mode": {
    "name": "ipython",
    "version": 3
   },
   "file_extension": ".py",
   "mimetype": "text/x-python",
   "name": "python",
   "nbconvert_exporter": "python",
   "pygments_lexer": "ipython3",
   "version": "3.9.5"
  }
 },
 "nbformat": 4,
 "nbformat_minor": 5
}
