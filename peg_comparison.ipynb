{
 "cells": [
  {
   "cell_type": "markdown",
   "id": "0ca5703d-03e8-461d-ba34-850ea92d535d",
   "metadata": {},
   "source": [
    "# Offset Ground-truthing"
   ]
  },
  {
   "cell_type": "markdown",
   "id": "a9b70a58-cf92-4318-a6c6-d4c4bef6d3a3",
   "metadata": {},
   "source": [
    "## In MintPy environment"
   ]
  },
  {
   "cell_type": "code",
   "execution_count": 3,
   "id": "3518788b-4bdf-4b9d-ac75-666dd71305ce",
   "metadata": {},
   "outputs": [],
   "source": [
    "# from mintpy.utils import readfile\n",
    "%matplotlib inline\n",
    "import os\n",
    "import matplotlib.pyplot as plt\n",
    "# import seaborn as sns\n",
    "from mintpy.tsview import timeseriesViewer\n",
    "from mintpy.objects import timeseries\n",
    "from datetime import datetime\n",
    "import pandas as pd\n",
    "import numpy as np\n",
    "from scipy import interpolate"
   ]
  },
  {
   "cell_type": "code",
   "execution_count": 4,
   "id": "eaf944bf-2e06-4a5f-949b-26e6c0713e26",
   "metadata": {},
   "outputs": [
    {
     "data": {
      "text/plain": [
       "'/home/micromamba/pixel/pixeloffset_mintpy'"
      ]
     },
     "execution_count": 4,
     "metadata": {},
     "output_type": "execute_result"
    }
   ],
   "source": [
    "pwd"
   ]
  },
  {
   "cell_type": "code",
   "execution_count": 5,
   "id": "124b0b49-924f-449b-ac24-43a42ebef3c5",
   "metadata": {},
   "outputs": [
    {
     "name": "stdout",
     "output_type": "stream",
     "text": [
      "Index(['Survey date', 'Name', 'Survey number', 'Easting', 'Northing',\n",
      "       'Elevation (NZVD2016)', 'E disp', 'N disp', 'V disp', 'Net H disp',\n",
      "       'net H&V disp', 'net disp/yr', 'cum net disp', 'Cumulative E disp',\n",
      "       'Cumulative N disp', 'geometry', 'Elevation'],\n",
      "      dtype='object')\n"
     ]
    }
   ],
   "source": [
    "pegs = pd.read_csv('peg_data/pegs_32760.csv',index_col=0)\n",
    "locations = pegs[['Name', 'Easting', 'Northing']].groupby('Name').mean().reset_index()\n",
    "locations['row'] = None\n",
    "locations['column'] = None\n",
    "\n",
    "print(pegs.columns)"
   ]
  },
  {
   "cell_type": "code",
   "execution_count": 7,
   "id": "2bf482af-1dd4-4a60-b617-564a43145ab7",
   "metadata": {},
   "outputs": [
    {
     "name": "stdout",
     "output_type": "stream",
     "text": [
      "/home/micromamba/pixel/poroa/cosicorr/mintpy\n"
     ]
    },
    {
     "data": {
      "text/plain": [
       "5"
      ]
     },
     "execution_count": 7,
     "metadata": {},
     "output_type": "execute_result"
    }
   ],
   "source": [
    "data_wd = '/home/micromamba/pixel/poroa/cosicorr/mintpy'\n",
    "print(data_wd)\n",
    "tsobj_ns = timeseries(os.path.join(data_wd,'timeseriesAz.h5'))\n",
    "tsobj_ew = timeseries(os.path.join(data_wd,'timeseriesRg.h5'))\n",
    "\n",
    "atr = tsobj_ns.get_metadata()\n",
    "dates = tsobj_ns.get_date_list()\n",
    "len(dates)"
   ]
  },
  {
   "cell_type": "code",
   "execution_count": 8,
   "id": "7d1ebc9a-c3f4-43b3-80c2-a38b6942f81c",
   "metadata": {},
   "outputs": [],
   "source": [
    "x_first, y_first, x_step, y_step = [float(x) for x in [atr['X_FIRST'], atr['Y_FIRST'], atr['X_STEP'], atr['Y_STEP']]]\n",
    "\n",
    "for i, row in locations.iterrows():\n",
    "    dX = row['Easting'] - x_first\n",
    "    x_loc = int(np.floor(dX / x_step))\n",
    "    dY = row['Northing'] - y_first\n",
    "    y_loc = int(np.floor(dY / y_step))\n",
    "    locations.iloc[i,3] = y_loc\n",
    "    locations.iloc[i,4] = x_loc"
   ]
  },
  {
   "cell_type": "code",
   "execution_count": 9,
   "id": "7695e1b9-6b47-43fe-9dee-55135e473714",
   "metadata": {},
   "outputs": [
    {
     "name": "stdout",
     "output_type": "stream",
     "text": [
      "reading timeseries data from file: /home/micromamba/pixel/poroa/cosicorr/mintpy/timeseriesAz.h5 ...\n",
      "reading timeseries data from file: /home/micromamba/pixel/poroa/cosicorr/mintpy/timeseriesRg.h5 ...\n",
      "reading timeseries data from file: /home/micromamba/pixel/poroa/cosicorr/mintpy/timeseriesAz.h5 ...\n",
      "reading timeseries data from file: /home/micromamba/pixel/poroa/cosicorr/mintpy/timeseriesRg.h5 ...\n",
      "reading timeseries data from file: /home/micromamba/pixel/poroa/cosicorr/mintpy/timeseriesAz.h5 ...\n",
      "reading timeseries data from file: /home/micromamba/pixel/poroa/cosicorr/mintpy/timeseriesRg.h5 ...\n",
      "reading timeseries data from file: /home/micromamba/pixel/poroa/cosicorr/mintpy/timeseriesAz.h5 ...\n",
      "reading timeseries data from file: /home/micromamba/pixel/poroa/cosicorr/mintpy/timeseriesRg.h5 ...\n",
      "reading timeseries data from file: /home/micromamba/pixel/poroa/cosicorr/mintpy/timeseriesAz.h5 ...\n",
      "reading timeseries data from file: /home/micromamba/pixel/poroa/cosicorr/mintpy/timeseriesRg.h5 ...\n"
     ]
    }
   ],
   "source": [
    "cosicorr = pd.DataFrame()\n",
    "\n",
    "template = pd.DataFrame({'Date':dates,'Cumulative E disp':None,'Cumulative N disp':None})\n",
    "template['Date'] = pd.to_datetime(template['Date'], format='%Y%m%d')\n",
    "width = 1\n",
    "\n",
    "for i, row in locations.iterrows():\n",
    "    peg = template.copy()\n",
    "    box = (row['column']-width,row['row']-width,row['column']+1+width,row['row']+1+width)\n",
    "    peg['Cumulative N disp'] = tsobj_ns.read(box=box).mean(axis=(1,2))\n",
    "    peg['Cumulative E disp'] = tsobj_ew.read(box=box).mean(axis=(1,2))\n",
    "    peg['Name'] = row['Name']\n",
    "    cosicorr = cosicorr.append(peg)\n",
    "\n",
    "cosicorr = cosicorr.reset_index(drop=True)\n",
    "cosicorr['Source'] = 'cosicorr'"
   ]
  },
  {
   "cell_type": "code",
   "execution_count": 10,
   "id": "74065fad-e876-47af-901e-e1264511bc99",
   "metadata": {},
   "outputs": [],
   "source": [
    "pegs_merge = pegs[['Survey date', 'Cumulative E disp', 'Cumulative N disp', 'Name']].copy()\n",
    "pegs_merge = pegs_merge.rename(columns={'Survey date':'Date'})\n",
    "pegs_merge['Date'] = pegs_merge['Date'].astype('datetime64[ns]')\n",
    "pegs_merge['Source'] = 'gps'\n",
    "pegs_merge = pegs_merge.sort_values(['Name','Date']).reset_index(drop=True)"
   ]
  },
  {
   "cell_type": "code",
   "execution_count": 11,
   "id": "746867b8-dd67-4d2d-9127-5666b8ef9593",
   "metadata": {},
   "outputs": [],
   "source": [
    "# df.groupby('filename').apply(lambda group: group.interpolate(method='index'))\n",
    "pegs_interp = pd.DataFrame()\n",
    "for p in pegs_merge.Name.unique():\n",
    "    peg = pegs_merge.loc[pegs_merge['Name']==p].copy()\n",
    "    peg['Time'] = (peg['Date'] - peg['Date'].min()).dt.days\n",
    "    \n",
    "    date_range = pd.date_range(start=peg.Date.min(), end=peg.Date.max(), freq='D')\n",
    "    interp = pd.DataFrame({'Date':date_range,\n",
    "                          'Name':p,\n",
    "                          'Source':'gps'})\n",
    "    interp['Time'] = (interp['Date'] - interp['Date'].min()).dt.days\n",
    "    \n",
    "    for d in ['N', 'E']:\n",
    "        f = interpolate.interp1d(peg['Time'], peg[f'Cumulative {d} disp'])\n",
    "        interp[f'Cumulative {d} disp'] = f(interp['Time'])\n",
    "\n",
    "    pegs_interp = pegs_interp.append(interp).reset_index(drop=True)\n",
    "    \n",
    "pegs_interp = pegs_interp.sort_values(['Name','Date']).reset_index(drop=True).drop('Time',axis=1)"
   ]
  },
  {
   "cell_type": "code",
   "execution_count": 12,
   "id": "0b0299aa-9555-4b7e-9a4b-8f0262d48e99",
   "metadata": {},
   "outputs": [],
   "source": [
    "comparison = cosicorr.append(pegs_merge)\n",
    "# comparison.to_csv('peg_data/comparsion.csv',index=False)"
   ]
  },
  {
   "cell_type": "code",
   "execution_count": 13,
   "id": "a5e0c091-8f4d-48ed-9844-b9f877329944",
   "metadata": {},
   "outputs": [
    {
     "name": "stdout",
     "output_type": "stream",
     "text": [
      "          E          N    Name\n",
      "0  2.926557   2.743844  Peg 05\n",
      "1  3.427029   0.465719  Peg 11\n",
      "2  1.583350   5.078687  Peg 14\n",
      "3  4.385752  11.870992  Peg 21\n",
      "4  0.000000   0.000000  Peg 22\n"
     ]
    }
   ],
   "source": [
    "df_rmse = pd.DataFrame()\n",
    "for p in pegs_merge.Name.unique():\n",
    "    peg_tmp = pegs_merge.loc[pegs_merge['Name']==p].copy().sort_values('Date')\n",
    "    cosicorr_tmp = cosicorr.loc[cosicorr['Name']==p].copy().sort_values('Date')\n",
    "    \n",
    "    start_date = peg_tmp.Date.min()\n",
    "    end_date = peg_tmp.Date.max()\n",
    "    \n",
    "    peg_tmp = peg_tmp.loc[(peg_tmp.Date>=start_date) & (peg_tmp.Date<=end_date)].copy()\n",
    "    peg_tmp['Time'] = (peg_tmp['Date'] - start_date).dt.days\n",
    "    \n",
    "    cosicorr_tmp = cosicorr_tmp.loc[(cosicorr_tmp.Date>=start_date) & (cosicorr_tmp.Date<=end_date)].copy()\n",
    "    cosicorr_tmp['Time'] = (cosicorr_tmp['Date'] - start_date).dt.days\n",
    "    \n",
    "    rmses = {'Name':p,'N':0,'E':0}\n",
    "    for d in ['N','E']:\n",
    "        col = f'Cumulative {d} disp'\n",
    "        col_gps = f'Cumulative {d} disp gps'\n",
    "        f = interpolate.interp1d(peg_tmp['Time'], peg_tmp[col])\n",
    "        \n",
    "        cosicorr_tmp[col_gps] = f(cosicorr_tmp['Time'])\n",
    "        cosicorr_tmp[col_gps] = cosicorr_tmp[col_gps] - cosicorr_tmp.iloc[0,-1]\n",
    "        \n",
    "        rmses[d] = ((cosicorr_tmp[col] - cosicorr_tmp[col_gps]) ** 2).mean() ** .5\n",
    "    \n",
    "    df_rmse = df_rmse.append(rmses,ignore_index=True)\n",
    "    \n",
    "    \n",
    "print(df_rmse)"
   ]
  },
  {
   "cell_type": "code",
   "execution_count": 48,
   "id": "5df17a77-9201-4171-9b87-323e7f41cbcf",
   "metadata": {},
   "outputs": [
    {
     "data": {
      "text/plain": [
       "<matplotlib.legend.Legend at 0x7f93592a8a58>"
      ]
     },
     "execution_count": 48,
     "metadata": {},
     "output_type": "execute_result"
    },
    {
     "data": {
      "image/png": "[encoded data removed]",
      "text/plain": [
       "<Figure size 1080x216 with 5 Axes>"
      ]
     },
     "metadata": {
      "needs_background": "light"
     },
     "output_type": "display_data"
    }
   ],
   "source": [
    "f, axs = plt.subplots(1,5,figsize=(15,3))\n",
    "peg_groups = comparison.groupby('Name')\n",
    "for i,(peg_name, peg_group) in enumerate(peg_groups):\n",
    "    ax = axs[i]\n",
    "    ax.set_title(peg_name)\n",
    "    groups = peg_group.groupby('Source')\n",
    "    for name, group in groups:\n",
    "        ax.scatter(group['Date'],group['Cumulative N disp'], label=name)\n",
    "\n",
    "plt.legend()"
   ]
  },
  {
   "cell_type": "code",
   "execution_count": 49,
   "id": "738d1fd6-2547-4522-a815-5ae016bab638",
   "metadata": {},
   "outputs": [
    {
     "data": {
      "text/plain": [
       "<matplotlib.legend.Legend at 0x7f936a28f0f0>"
      ]
     },
     "execution_count": 49,
     "metadata": {},
     "output_type": "execute_result"
    },
    {
     "data": {
      "image/png": "[encoded data removed]",
      "text/plain": [
       "<Figure size 1080x216 with 5 Axes>"
      ]
     },
     "metadata": {
      "needs_background": "light"
     },
     "output_type": "display_data"
    }
   ],
   "source": [
    "f, axs = plt.subplots(1,5,figsize=(15,3))\n",
    "peg_groups = comparison.groupby('Name')\n",
    "for i,(peg_name, peg_group) in enumerate(peg_groups):\n",
    "    ax = axs[i]\n",
    "    ax.set_title(peg_name)\n",
    "    groups = peg_group.groupby('Source')\n",
    "    for name, group in groups:\n",
    "        ax.scatter(group['Date'],group['Cumulative E disp'], label=name)\n",
    "plt.legend()"
   ]
  },
  {
   "cell_type": "code",
   "execution_count": null,
   "id": "f17b02be-ef2b-4601-b0ed-608a83ce7fd4",
   "metadata": {},
   "outputs": [],
   "source": []
  }
 ],
 "metadata": {
  "kernelspec": {
   "display_name": "Python 3",
   "language": "python",
   "name": "python3"
  },
  "language_info": {
   "codemirror_mode": {
    "name": "ipython",
    "version": 3
   },
   "file_extension": ".py",
   "mimetype": "text/x-python",
   "name": "python",
   "nbconvert_exporter": "python",
   "pygments_lexer": "ipython3",
   "version": "3.6.13"
  }
 },
 "nbformat": 4,
 "nbformat_minor": 5
}
