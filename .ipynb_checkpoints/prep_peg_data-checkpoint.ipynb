{
 "cells": [
  {
   "cell_type": "markdown",
   "id": "0ca5703d-03e8-461d-ba34-850ea92d535d",
   "metadata": {},
   "source": [
    "# Prep Peg Data"
   ]
  },
  {
   "cell_type": "markdown",
   "id": "1a41c604-1220-465e-bf89-fb8d58aa60cf",
   "metadata": {
    "jp-MarkdownHeadingCollapsed": true,
    "tags": []
   },
   "source": [
    "## In geo environment (not MintPy!)"
   ]
  },
  {
   "cell_type": "code",
   "execution_count": 46,
   "id": "3d703829-6d97-4b01-81be-dc07131b251e",
   "metadata": {},
   "outputs": [],
   "source": [
    "%matplotlib inline\n",
    "import pandas as pd\n",
    "import geopandas as gpd\n",
    "import matplotlib.pyplot as plt\n",
    "from datetime import datetime"
   ]
  },
  {
   "cell_type": "code",
   "execution_count": 70,
   "id": "433b994f-20e6-459c-ac58-c5cc3fa373eb",
   "metadata": {},
   "outputs": [],
   "source": [
    "path = 'peg_data/Rangitikei Landslide_peg displacement_sample.xlsx'\n",
    "names = ['P22','P21','P14','P11','P5']\n",
    "df = pd.DataFrame()\n",
    "\n",
    "for n in names:\n",
    "    temp = pd.read_excel(path, sheet_name=n).sort_values('Survey date')\n",
    "    temp['Cumulative E disp'] = temp['E disp'].cumsum()\n",
    "    temp['Cumulative N disp'] = temp['N disp'].cumsum()\n",
    "    df = df.append(temp)"
   ]
  },
  {
   "cell_type": "code",
   "execution_count": 71,
   "id": "80c3bda9-c6dc-4fba-b00d-283f5fe87e33",
   "metadata": {},
   "outputs": [],
   "source": [
    "pegs = gpd.GeoDataFrame(df, geometry=gpd.points_from_xy(x=df['Easting'], y=df['Northing'], z=df['Elevation (NZVD2016)'], crs='EPSG:2193'))"
   ]
  },
  {
   "cell_type": "code",
   "execution_count": 72,
   "id": "6371acb6-a93e-4689-af11-e0de269e7a57",
   "metadata": {},
   "outputs": [],
   "source": [
    "pegs = pegs.to_crs(epsg=32760)\n",
    "\n",
    "pegs['Easting'] = pegs.geometry.x\n",
    "pegs['Northing'] = pegs.geometry.y\n",
    "pegs['Elevation'] = pegs.geometry.z"
   ]
  },
  {
   "cell_type": "code",
   "execution_count": 73,
   "id": "ba3c9c3c-91a1-4693-a2ef-9844c6363db8",
   "metadata": {},
   "outputs": [
    {
     "name": "stdout",
     "output_type": "stream",
     "text": [
      "Index(['Survey date', 'Name', 'Survey number', 'Easting', 'Northing',\n",
      "       'Elevation (NZVD2016)', 'E disp', 'N disp', 'V disp', 'Net H disp',\n",
      "       'net H&V disp', 'net disp/yr', 'cum net disp', 'Cumulative E disp',\n",
      "       'Cumulative N disp', 'geometry', 'Elevation'],\n",
      "      dtype='object')\n"
     ]
    }
   ],
   "source": [
    "pegs.to_csv('peg_data/pegs_32760.csv')\n",
    "print(pegs.columns)"
   ]
  },
  {
   "cell_type": "code",
   "execution_count": null,
   "id": "82639ecf-c5a2-4b00-b646-f85d12860c9c",
   "metadata": {},
   "outputs": [],
   "source": []
  }
 ],
 "metadata": {
  "kernelspec": {
   "display_name": "Python 3 (ipykernel)",
   "language": "python",
   "name": "python3"
  },
  "language_info": {
   "codemirror_mode": {
    "name": "ipython",
    "version": 3
   },
   "file_extension": ".py",
   "mimetype": "text/x-python",
   "name": "python",
   "nbconvert_exporter": "python",
   "pygments_lexer": "ipython3",
   "version": "3.8.10"
  }
 },
 "nbformat": 4,
 "nbformat_minor": 5
}
