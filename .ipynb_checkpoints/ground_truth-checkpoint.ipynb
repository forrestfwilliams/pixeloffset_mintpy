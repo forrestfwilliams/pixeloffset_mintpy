{
 "cells": [
  {
   "cell_type": "markdown",
   "id": "0ca5703d-03e8-461d-ba34-850ea92d535d",
   "metadata": {},
   "source": [
    "# Offset Ground-truthing"
   ]
  },
  {
   "cell_type": "markdown",
   "id": "1a41c604-1220-465e-bf89-fb8d58aa60cf",
   "metadata": {
    "jp-MarkdownHeadingCollapsed": true,
    "tags": []
   },
   "source": [
    "## In geo environment"
   ]
  },
  {
   "cell_type": "code",
   "execution_count": 46,
   "id": "3d703829-6d97-4b01-81be-dc07131b251e",
   "metadata": {},
   "outputs": [],
   "source": [
    "%matplotlib inline\n",
    "import pandas as pd\n",
    "import geopandas as gpd\n",
    "import matplotlib.pyplot as plt\n",
    "from datetime import datetime"
   ]
  },
  {
   "cell_type": "code",
   "execution_count": 70,
   "id": "433b994f-20e6-459c-ac58-c5cc3fa373eb",
   "metadata": {},
   "outputs": [],
   "source": [
    "path = 'peg_data/Rangitikei Landslide_peg displacement_sample.xlsx'\n",
    "names = ['P22','P21','P14','P11','P5']\n",
    "df = pd.DataFrame()\n",
    "\n",
    "for n in names:\n",
    "    temp = pd.read_excel(path, sheet_name=n).sort_values('Survey date')\n",
    "    temp['Cumulative E disp'] = temp['E disp'].cumsum()\n",
    "    temp['Cumulative N disp'] = temp['N disp'].cumsum()\n",
    "    df = df.append(temp)"
   ]
  },
  {
   "cell_type": "code",
   "execution_count": 71,
   "id": "80c3bda9-c6dc-4fba-b00d-283f5fe87e33",
   "metadata": {},
   "outputs": [],
   "source": [
    "pegs = gpd.GeoDataFrame(df, geometry=gpd.points_from_xy(x=df['Easting'], y=df['Northing'], z=df['Elevation (NZVD2016)'], crs='EPSG:2193'))"
   ]
  },
  {
   "cell_type": "code",
   "execution_count": 72,
   "id": "6371acb6-a93e-4689-af11-e0de269e7a57",
   "metadata": {},
   "outputs": [],
   "source": [
    "pegs = pegs.to_crs(epsg=32760)\n",
    "\n",
    "pegs['Easting'] = pegs.geometry.x\n",
    "pegs['Northing'] = pegs.geometry.y\n",
    "pegs['Elevation'] = pegs.geometry.z"
   ]
  },
  {
   "cell_type": "code",
   "execution_count": 73,
   "id": "ba3c9c3c-91a1-4693-a2ef-9844c6363db8",
   "metadata": {},
   "outputs": [
    {
     "name": "stdout",
     "output_type": "stream",
     "text": [
      "Index(['Survey date', 'Name', 'Survey number', 'Easting', 'Northing',\n",
      "       'Elevation (NZVD2016)', 'E disp', 'N disp', 'V disp', 'Net H disp',\n",
      "       'net H&V disp', 'net disp/yr', 'cum net disp', 'Cumulative E disp',\n",
      "       'Cumulative N disp', 'geometry', 'Elevation'],\n",
      "      dtype='object')\n"
     ]
    }
   ],
   "source": [
    "pegs.to_csv('peg_data/pegs_32760.csv')\n",
    "print(pegs.columns)"
   ]
  },
  {
   "cell_type": "markdown",
   "id": "a9b70a58-cf92-4318-a6c6-d4c4bef6d3a3",
   "metadata": {},
   "source": [
    "## In MintPy environment"
   ]
  },
  {
   "cell_type": "code",
   "execution_count": 1,
   "id": "eaf944bf-2e06-4a5f-949b-26e6c0713e26",
   "metadata": {},
   "outputs": [
    {
     "data": {
      "text/plain": [
       "'/home/fw/data/pixeloffset_mintpy'"
      ]
     },
     "execution_count": 1,
     "metadata": {},
     "output_type": "execute_result"
    }
   ],
   "source": [
    "pwd"
   ]
  },
  {
   "cell_type": "code",
   "execution_count": 19,
   "id": "3518788b-4bdf-4b9d-ac75-666dd71305ce",
   "metadata": {},
   "outputs": [],
   "source": [
    "# from mintpy.utils import readfile\n",
    "%matplotlib inline\n",
    "import os\n",
    "import matplotlib.pyplot as plt\n",
    "import seaborn as sns\n",
    "from mintpy.tsview import timeseriesViewer\n",
    "from mintpy.objects import timeseries\n",
    "from datetime import datetime\n",
    "import pandas as pd\n",
    "import numpy as np\n",
    "from scipy import interpolate"
   ]
  },
  {
   "cell_type": "code",
   "execution_count": 3,
   "id": "124b0b49-924f-449b-ac24-43a42ebef3c5",
   "metadata": {},
   "outputs": [
    {
     "name": "stdout",
     "output_type": "stream",
     "text": [
      "Index(['Survey date', 'Name', 'Survey number', 'Easting', 'Northing',\n",
      "       'Elevation (NZVD2016)', 'E disp', 'N disp', 'V disp', 'Net H disp',\n",
      "       'net H&V disp', 'net disp/yr', 'cum net disp', 'Cumulative E disp',\n",
      "       'Cumulative N disp', 'geometry', 'Elevation'],\n",
      "      dtype='object')\n"
     ]
    }
   ],
   "source": [
    "pegs = pd.read_csv('peg_data/pegs_32760.csv',index_col=0)\n",
    "locations = pegs[['Name', 'Easting', 'Northing']].groupby('Name').mean().reset_index()\n",
    "locations['row'] = None\n",
    "locations['column'] = None\n",
    "\n",
    "print(pegs.columns)"
   ]
  },
  {
   "cell_type": "code",
   "execution_count": 5,
   "id": "2bf482af-1dd4-4a60-b617-564a43145ab7",
   "metadata": {},
   "outputs": [
    {
     "data": {
      "text/plain": [
       "6"
      ]
     },
     "execution_count": 5,
     "metadata": {},
     "output_type": "execute_result"
    }
   ],
   "source": [
    "tsobj_ns = timeseries('../poroa_yearly/timeseriesAz.h5')\n",
    "tsobj_ew = timeseries('../poroa_yearly/timeseriesRg.h5')\n",
    "\n",
    "atr = tsobj_ns.get_metadata()\n",
    "dates = tsobj_ns.get_date_list()\n",
    "len(dates)"
   ]
  },
  {
   "cell_type": "code",
   "execution_count": 6,
   "id": "7d1ebc9a-c3f4-43b3-80c2-a38b6942f81c",
   "metadata": {},
   "outputs": [
    {
     "name": "stdout",
     "output_type": "stream",
     "text": [
      "     Name        Easting      Northing  row column\n",
      "0  Peg 05  401864.928303  5.599635e+06  385    322\n",
      "1  Peg 11  401697.900873  5.599281e+06  394    318\n",
      "2  Peg 14  401694.803872  5.599143e+06  398    318\n",
      "3  Peg 21  401809.341253  5.598824e+06  406    320\n",
      "4  Peg 22  401768.407891  5.598724e+06  408    319\n"
     ]
    }
   ],
   "source": [
    "x_first, y_first, x_step, y_step = [float(x) for x in [atr['X_FIRST'], atr['Y_FIRST'], atr['X_STEP'], atr['Y_STEP']]]\n",
    "\n",
    "for i, row in locations.iterrows():\n",
    "    dX = row['Easting'] - x_first\n",
    "    x_loc = int(np.floor(dX / x_step))\n",
    "    dY = row['Northing'] - y_first\n",
    "    y_loc = int(np.floor(dY / y_step))\n",
    "    locations.iloc[i,3] = y_loc\n",
    "    locations.iloc[i,4] = x_loc\n",
    "\n",
    "locations.to_csv('peg_data/locations.csv',index=False)\n",
    "print(locations)"
   ]
  },
  {
   "cell_type": "code",
   "execution_count": 7,
   "id": "7695e1b9-6b47-43fe-9dee-55135e473714",
   "metadata": {},
   "outputs": [
    {
     "name": "stdout",
     "output_type": "stream",
     "text": [
      "reading timeseries data from file: ../poroa_yearly/timeseriesAz.h5 ...\n",
      "reading timeseries data from file: ../poroa_yearly/timeseriesRg.h5 ...\n",
      "reading timeseries data from file: ../poroa_yearly/timeseriesAz.h5 ...\n",
      "reading timeseries data from file: ../poroa_yearly/timeseriesRg.h5 ...\n",
      "reading timeseries data from file: ../poroa_yearly/timeseriesAz.h5 ...\n",
      "reading timeseries data from file: ../poroa_yearly/timeseriesRg.h5 ...\n",
      "reading timeseries data from file: ../poroa_yearly/timeseriesAz.h5 ...\n",
      "reading timeseries data from file: ../poroa_yearly/timeseriesRg.h5 ...\n",
      "reading timeseries data from file: ../poroa_yearly/timeseriesAz.h5 ...\n",
      "reading timeseries data from file: ../poroa_yearly/timeseriesRg.h5 ...\n"
     ]
    },
    {
     "data": {
      "text/html": [
       "<div>\n",
       "<style scoped>\n",
       "    .dataframe tbody tr th:only-of-type {\n",
       "        vertical-align: middle;\n",
       "    }\n",
       "\n",
       "    .dataframe tbody tr th {\n",
       "        vertical-align: top;\n",
       "    }\n",
       "\n",
       "    .dataframe thead th {\n",
       "        text-align: right;\n",
       "    }\n",
       "</style>\n",
       "<table border=\"1\" class=\"dataframe\">\n",
       "  <thead>\n",
       "    <tr style=\"text-align: right;\">\n",
       "      <th></th>\n",
       "      <th>Date</th>\n",
       "      <th>Cumulative E disp</th>\n",
       "      <th>Cumulative N disp</th>\n",
       "      <th>Name</th>\n",
       "      <th>Source</th>\n",
       "    </tr>\n",
       "  </thead>\n",
       "  <tbody>\n",
       "    <tr>\n",
       "      <th>0</th>\n",
       "      <td>2016-02-06</td>\n",
       "      <td>0.000000</td>\n",
       "      <td>0.000000</td>\n",
       "      <td>Peg 05</td>\n",
       "      <td>cosicorr</td>\n",
       "    </tr>\n",
       "    <tr>\n",
       "      <th>1</th>\n",
       "      <td>2016-11-22</td>\n",
       "      <td>0.419062</td>\n",
       "      <td>-7.064656</td>\n",
       "      <td>Peg 05</td>\n",
       "      <td>cosicorr</td>\n",
       "    </tr>\n",
       "    <tr>\n",
       "      <th>2</th>\n",
       "      <td>2017-11-22</td>\n",
       "      <td>-1.820287</td>\n",
       "      <td>-7.531397</td>\n",
       "      <td>Peg 05</td>\n",
       "      <td>cosicorr</td>\n",
       "    </tr>\n",
       "    <tr>\n",
       "      <th>3</th>\n",
       "      <td>2019-02-25</td>\n",
       "      <td>-0.621475</td>\n",
       "      <td>-1.609496</td>\n",
       "      <td>Peg 05</td>\n",
       "      <td>cosicorr</td>\n",
       "    </tr>\n",
       "    <tr>\n",
       "      <th>4</th>\n",
       "      <td>2019-11-22</td>\n",
       "      <td>-1.582042</td>\n",
       "      <td>-6.414085</td>\n",
       "      <td>Peg 05</td>\n",
       "      <td>cosicorr</td>\n",
       "    </tr>\n",
       "    <tr>\n",
       "      <th>5</th>\n",
       "      <td>2021-01-30</td>\n",
       "      <td>0.656597</td>\n",
       "      <td>-3.322794</td>\n",
       "      <td>Peg 05</td>\n",
       "      <td>cosicorr</td>\n",
       "    </tr>\n",
       "    <tr>\n",
       "      <th>6</th>\n",
       "      <td>2016-02-06</td>\n",
       "      <td>0.000000</td>\n",
       "      <td>0.000000</td>\n",
       "      <td>Peg 11</td>\n",
       "      <td>cosicorr</td>\n",
       "    </tr>\n",
       "    <tr>\n",
       "      <th>7</th>\n",
       "      <td>2016-11-22</td>\n",
       "      <td>2.464720</td>\n",
       "      <td>-0.632111</td>\n",
       "      <td>Peg 11</td>\n",
       "      <td>cosicorr</td>\n",
       "    </tr>\n",
       "    <tr>\n",
       "      <th>8</th>\n",
       "      <td>2017-11-22</td>\n",
       "      <td>2.795603</td>\n",
       "      <td>-2.114194</td>\n",
       "      <td>Peg 11</td>\n",
       "      <td>cosicorr</td>\n",
       "    </tr>\n",
       "    <tr>\n",
       "      <th>9</th>\n",
       "      <td>2019-02-25</td>\n",
       "      <td>-0.235979</td>\n",
       "      <td>-4.858186</td>\n",
       "      <td>Peg 11</td>\n",
       "      <td>cosicorr</td>\n",
       "    </tr>\n",
       "    <tr>\n",
       "      <th>10</th>\n",
       "      <td>2019-11-22</td>\n",
       "      <td>1.735810</td>\n",
       "      <td>-4.116517</td>\n",
       "      <td>Peg 11</td>\n",
       "      <td>cosicorr</td>\n",
       "    </tr>\n",
       "    <tr>\n",
       "      <th>11</th>\n",
       "      <td>2021-01-30</td>\n",
       "      <td>2.101747</td>\n",
       "      <td>-6.754980</td>\n",
       "      <td>Peg 11</td>\n",
       "      <td>cosicorr</td>\n",
       "    </tr>\n",
       "    <tr>\n",
       "      <th>12</th>\n",
       "      <td>2016-02-06</td>\n",
       "      <td>0.000000</td>\n",
       "      <td>0.000000</td>\n",
       "      <td>Peg 14</td>\n",
       "      <td>cosicorr</td>\n",
       "    </tr>\n",
       "    <tr>\n",
       "      <th>13</th>\n",
       "      <td>2016-11-22</td>\n",
       "      <td>2.867445</td>\n",
       "      <td>-2.386660</td>\n",
       "      <td>Peg 14</td>\n",
       "      <td>cosicorr</td>\n",
       "    </tr>\n",
       "    <tr>\n",
       "      <th>14</th>\n",
       "      <td>2017-11-22</td>\n",
       "      <td>4.147430</td>\n",
       "      <td>-6.549999</td>\n",
       "      <td>Peg 14</td>\n",
       "      <td>cosicorr</td>\n",
       "    </tr>\n",
       "    <tr>\n",
       "      <th>15</th>\n",
       "      <td>2019-02-25</td>\n",
       "      <td>1.655850</td>\n",
       "      <td>-11.107145</td>\n",
       "      <td>Peg 14</td>\n",
       "      <td>cosicorr</td>\n",
       "    </tr>\n",
       "    <tr>\n",
       "      <th>16</th>\n",
       "      <td>2019-11-22</td>\n",
       "      <td>4.464720</td>\n",
       "      <td>-13.158815</td>\n",
       "      <td>Peg 14</td>\n",
       "      <td>cosicorr</td>\n",
       "    </tr>\n",
       "    <tr>\n",
       "      <th>17</th>\n",
       "      <td>2021-01-30</td>\n",
       "      <td>3.773094</td>\n",
       "      <td>-14.418757</td>\n",
       "      <td>Peg 14</td>\n",
       "      <td>cosicorr</td>\n",
       "    </tr>\n",
       "    <tr>\n",
       "      <th>18</th>\n",
       "      <td>2016-02-06</td>\n",
       "      <td>0.000000</td>\n",
       "      <td>0.000000</td>\n",
       "      <td>Peg 21</td>\n",
       "      <td>cosicorr</td>\n",
       "    </tr>\n",
       "    <tr>\n",
       "      <th>19</th>\n",
       "      <td>2016-11-22</td>\n",
       "      <td>5.514182</td>\n",
       "      <td>-3.162351</td>\n",
       "      <td>Peg 21</td>\n",
       "      <td>cosicorr</td>\n",
       "    </tr>\n",
       "    <tr>\n",
       "      <th>20</th>\n",
       "      <td>2017-11-22</td>\n",
       "      <td>9.321381</td>\n",
       "      <td>-11.361025</td>\n",
       "      <td>Peg 21</td>\n",
       "      <td>cosicorr</td>\n",
       "    </tr>\n",
       "    <tr>\n",
       "      <th>21</th>\n",
       "      <td>2019-02-25</td>\n",
       "      <td>9.906267</td>\n",
       "      <td>-20.250546</td>\n",
       "      <td>Peg 21</td>\n",
       "      <td>cosicorr</td>\n",
       "    </tr>\n",
       "    <tr>\n",
       "      <th>22</th>\n",
       "      <td>2019-11-22</td>\n",
       "      <td>13.530051</td>\n",
       "      <td>-23.881802</td>\n",
       "      <td>Peg 21</td>\n",
       "      <td>cosicorr</td>\n",
       "    </tr>\n",
       "    <tr>\n",
       "      <th>23</th>\n",
       "      <td>2021-01-30</td>\n",
       "      <td>15.317926</td>\n",
       "      <td>-27.390934</td>\n",
       "      <td>Peg 21</td>\n",
       "      <td>cosicorr</td>\n",
       "    </tr>\n",
       "    <tr>\n",
       "      <th>24</th>\n",
       "      <td>2016-02-06</td>\n",
       "      <td>0.000000</td>\n",
       "      <td>0.000000</td>\n",
       "      <td>Peg 22</td>\n",
       "      <td>cosicorr</td>\n",
       "    </tr>\n",
       "    <tr>\n",
       "      <th>25</th>\n",
       "      <td>2016-11-22</td>\n",
       "      <td>-4.893096</td>\n",
       "      <td>1.132369</td>\n",
       "      <td>Peg 22</td>\n",
       "      <td>cosicorr</td>\n",
       "    </tr>\n",
       "    <tr>\n",
       "      <th>26</th>\n",
       "      <td>2017-11-22</td>\n",
       "      <td>0.309933</td>\n",
       "      <td>-5.827958</td>\n",
       "      <td>Peg 22</td>\n",
       "      <td>cosicorr</td>\n",
       "    </tr>\n",
       "    <tr>\n",
       "      <th>27</th>\n",
       "      <td>2019-02-25</td>\n",
       "      <td>-0.330047</td>\n",
       "      <td>-9.123031</td>\n",
       "      <td>Peg 22</td>\n",
       "      <td>cosicorr</td>\n",
       "    </tr>\n",
       "    <tr>\n",
       "      <th>28</th>\n",
       "      <td>2019-11-22</td>\n",
       "      <td>1.789894</td>\n",
       "      <td>-19.880756</td>\n",
       "      <td>Peg 22</td>\n",
       "      <td>cosicorr</td>\n",
       "    </tr>\n",
       "    <tr>\n",
       "      <th>29</th>\n",
       "      <td>2021-01-30</td>\n",
       "      <td>0.549844</td>\n",
       "      <td>-22.889482</td>\n",
       "      <td>Peg 22</td>\n",
       "      <td>cosicorr</td>\n",
       "    </tr>\n",
       "  </tbody>\n",
       "</table>\n",
       "</div>"
      ],
      "text/plain": [
       "         Date  Cumulative E disp  Cumulative N disp    Name    Source\n",
       "0  2016-02-06           0.000000           0.000000  Peg 05  cosicorr\n",
       "1  2016-11-22           0.419062          -7.064656  Peg 05  cosicorr\n",
       "2  2017-11-22          -1.820287          -7.531397  Peg 05  cosicorr\n",
       "3  2019-02-25          -0.621475          -1.609496  Peg 05  cosicorr\n",
       "4  2019-11-22          -1.582042          -6.414085  Peg 05  cosicorr\n",
       "5  2021-01-30           0.656597          -3.322794  Peg 05  cosicorr\n",
       "6  2016-02-06           0.000000           0.000000  Peg 11  cosicorr\n",
       "7  2016-11-22           2.464720          -0.632111  Peg 11  cosicorr\n",
       "8  2017-11-22           2.795603          -2.114194  Peg 11  cosicorr\n",
       "9  2019-02-25          -0.235979          -4.858186  Peg 11  cosicorr\n",
       "10 2019-11-22           1.735810          -4.116517  Peg 11  cosicorr\n",
       "11 2021-01-30           2.101747          -6.754980  Peg 11  cosicorr\n",
       "12 2016-02-06           0.000000           0.000000  Peg 14  cosicorr\n",
       "13 2016-11-22           2.867445          -2.386660  Peg 14  cosicorr\n",
       "14 2017-11-22           4.147430          -6.549999  Peg 14  cosicorr\n",
       "15 2019-02-25           1.655850         -11.107145  Peg 14  cosicorr\n",
       "16 2019-11-22           4.464720         -13.158815  Peg 14  cosicorr\n",
       "17 2021-01-30           3.773094         -14.418757  Peg 14  cosicorr\n",
       "18 2016-02-06           0.000000           0.000000  Peg 21  cosicorr\n",
       "19 2016-11-22           5.514182          -3.162351  Peg 21  cosicorr\n",
       "20 2017-11-22           9.321381         -11.361025  Peg 21  cosicorr\n",
       "21 2019-02-25           9.906267         -20.250546  Peg 21  cosicorr\n",
       "22 2019-11-22          13.530051         -23.881802  Peg 21  cosicorr\n",
       "23 2021-01-30          15.317926         -27.390934  Peg 21  cosicorr\n",
       "24 2016-02-06           0.000000           0.000000  Peg 22  cosicorr\n",
       "25 2016-11-22          -4.893096           1.132369  Peg 22  cosicorr\n",
       "26 2017-11-22           0.309933          -5.827958  Peg 22  cosicorr\n",
       "27 2019-02-25          -0.330047          -9.123031  Peg 22  cosicorr\n",
       "28 2019-11-22           1.789894         -19.880756  Peg 22  cosicorr\n",
       "29 2021-01-30           0.549844         -22.889482  Peg 22  cosicorr"
      ]
     },
     "execution_count": 7,
     "metadata": {},
     "output_type": "execute_result"
    }
   ],
   "source": [
    "cosicorr = pd.DataFrame()\n",
    "\n",
    "template = pd.DataFrame({'Date':dates,'Cumulative E disp':None,'Cumulative N disp':None})\n",
    "template['Date'] = pd.to_datetime(template['Date'], format='%Y%m%d')\n",
    "\n",
    "for i, row in locations.iterrows():\n",
    "    tmp = template.copy()\n",
    "    box = (row['column'],row['row'],row['column']+1,row['row']+1)\n",
    "    tmp['Cumulative N disp'] = tsobj_ns.read(box=box)\n",
    "    tmp['Cumulative E disp'] = tsobj_ew.read(box=box)\n",
    "    tmp['Name'] = row['Name']\n",
    "    cosicorr = cosicorr.append(tmp)\n",
    "\n",
    "cosicorr = cosicorr.reset_index(drop=True)\n",
    "cosicorr['Source'] = 'cosicorr'\n",
    "cosicorr"
   ]
  },
  {
   "cell_type": "code",
   "execution_count": 52,
   "id": "74065fad-e876-47af-901e-e1264511bc99",
   "metadata": {},
   "outputs": [],
   "source": [
    "pegs_merge = pegs[['Survey date', 'Cumulative E disp', 'Cumulative N disp', 'Name']].copy()\n",
    "pegs_merge = pegs_merge.rename(columns={'Survey date':'Date'})\n",
    "pegs_merge['Date'] = pegs_merge['Date'].astype('datetime64[ns]')\n",
    "pegs_merge['Source'] = 'gps'\n",
    "pegs_merge = pegs_merge.sort_values(['Name','Date']).reset_index(drop=True)"
   ]
  },
  {
   "cell_type": "code",
   "execution_count": 150,
   "id": "746867b8-dd67-4d2d-9127-5666b8ef9593",
   "metadata": {},
   "outputs": [],
   "source": [
    "# df.groupby('filename').apply(lambda group: group.interpolate(method='index'))\n",
    "pegs_interp = pd.DataFrame()\n",
    "for p in pegs_merge.Name.unique():\n",
    "    tmp = pegs_merge.loc[pegs_merge['Name']==p].copy()\n",
    "    date_range = pd.date_range(start=tmp.Date.min(), end=tmp.Date.max(), freq='D')\n",
    "    fills = pd.DataFrame({'Date':date_range,\n",
    "                          'Name':p,\n",
    "                          'Source':'gps'})\n",
    "    tmp = pd.merge(tmp,fills,how='outer', on=['Date','Name','Source'])\n",
    "    tmp['Time'] = tmp['Date'].apply(lambda x: x.value)\n",
    "    tmp['Time'] = (tmp['Date'] - tmp['Date'].min()).dt.days\n",
    "    for d in ['N', 'E']:\n",
    "        x = [tmp['Time'].min()-1] + list(tmp['Time']) + [tmp['Time'].max()+1]\n",
    "        y = [tmp[f'Cumulative {d} disp'].min()] + list(tmp[f'Cumulative {d} disp']) + [tmp[f'Cumulative {d} disp'].max()]\n",
    "        f = interpolate.interp1d(x, y)\n",
    "        tmp[f'test'] = f(tmp['Time'])\n",
    "#         f = interpolate.interp1d(tmp['Time'], tmp[f'Cumulative {d} disp'])\n",
    "#         tmp[f'Cumulative {d} disp'] = f(tmp['Time'])\n",
    "#         print(f(tmp['Time']))\n",
    "#     f = interpolate.interp1d(tmp['Time'], tmp[f'Cumulative N disp'])\n",
    "#     tmp[f'Cumulative N disp'] = f(tmp['Time'])\n",
    "    pegs_interp = pegs_interp.append(tmp).reset_index(drop=True)\n",
    "pegs_interp = pegs_interp.sort_values(['Name','Date']).reset_index(drop=True)"
   ]
  },
  {
   "cell_type": "code",
   "execution_count": 151,
   "id": "d3a0f44f-4bf4-43ab-8857-7a327471944c",
   "metadata": {},
   "outputs": [
    {
     "data": {
      "text/html": [
       "<div>\n",
       "<style scoped>\n",
       "    .dataframe tbody tr th:only-of-type {\n",
       "        vertical-align: middle;\n",
       "    }\n",
       "\n",
       "    .dataframe tbody tr th {\n",
       "        vertical-align: top;\n",
       "    }\n",
       "\n",
       "    .dataframe thead th {\n",
       "        text-align: right;\n",
       "    }\n",
       "</style>\n",
       "<table border=\"1\" class=\"dataframe\">\n",
       "  <thead>\n",
       "    <tr style=\"text-align: right;\">\n",
       "      <th></th>\n",
       "      <th>Date</th>\n",
       "      <th>Cumulative E disp</th>\n",
       "      <th>Cumulative N disp</th>\n",
       "      <th>Name</th>\n",
       "      <th>Source</th>\n",
       "      <th>Time</th>\n",
       "      <th>test</th>\n",
       "    </tr>\n",
       "  </thead>\n",
       "  <tbody>\n",
       "    <tr>\n",
       "      <th>0</th>\n",
       "      <td>2015-07-03</td>\n",
       "      <td>0.00000</td>\n",
       "      <td>0.000000</td>\n",
       "      <td>Peg 05</td>\n",
       "      <td>gps</td>\n",
       "      <td>0</td>\n",
       "      <td>0.0</td>\n",
       "    </tr>\n",
       "    <tr>\n",
       "      <th>1</th>\n",
       "      <td>2015-07-04</td>\n",
       "      <td>NaN</td>\n",
       "      <td>NaN</td>\n",
       "      <td>Peg 05</td>\n",
       "      <td>gps</td>\n",
       "      <td>1</td>\n",
       "      <td>NaN</td>\n",
       "    </tr>\n",
       "    <tr>\n",
       "      <th>2</th>\n",
       "      <td>2015-07-05</td>\n",
       "      <td>NaN</td>\n",
       "      <td>NaN</td>\n",
       "      <td>Peg 05</td>\n",
       "      <td>gps</td>\n",
       "      <td>2</td>\n",
       "      <td>NaN</td>\n",
       "    </tr>\n",
       "    <tr>\n",
       "      <th>3</th>\n",
       "      <td>2015-07-06</td>\n",
       "      <td>NaN</td>\n",
       "      <td>NaN</td>\n",
       "      <td>Peg 05</td>\n",
       "      <td>gps</td>\n",
       "      <td>3</td>\n",
       "      <td>NaN</td>\n",
       "    </tr>\n",
       "    <tr>\n",
       "      <th>4</th>\n",
       "      <td>2015-07-07</td>\n",
       "      <td>NaN</td>\n",
       "      <td>NaN</td>\n",
       "      <td>Peg 05</td>\n",
       "      <td>gps</td>\n",
       "      <td>4</td>\n",
       "      <td>NaN</td>\n",
       "    </tr>\n",
       "    <tr>\n",
       "      <th>...</th>\n",
       "      <td>...</td>\n",
       "      <td>...</td>\n",
       "      <td>...</td>\n",
       "      <td>...</td>\n",
       "      <td>...</td>\n",
       "      <td>...</td>\n",
       "      <td>...</td>\n",
       "    </tr>\n",
       "    <tr>\n",
       "      <th>7642</th>\n",
       "      <td>2018-03-23</td>\n",
       "      <td>NaN</td>\n",
       "      <td>NaN</td>\n",
       "      <td>Peg 22</td>\n",
       "      <td>gps</td>\n",
       "      <td>994</td>\n",
       "      <td>NaN</td>\n",
       "    </tr>\n",
       "    <tr>\n",
       "      <th>7643</th>\n",
       "      <td>2018-03-24</td>\n",
       "      <td>NaN</td>\n",
       "      <td>NaN</td>\n",
       "      <td>Peg 22</td>\n",
       "      <td>gps</td>\n",
       "      <td>995</td>\n",
       "      <td>NaN</td>\n",
       "    </tr>\n",
       "    <tr>\n",
       "      <th>7644</th>\n",
       "      <td>2018-03-25</td>\n",
       "      <td>NaN</td>\n",
       "      <td>NaN</td>\n",
       "      <td>Peg 22</td>\n",
       "      <td>gps</td>\n",
       "      <td>996</td>\n",
       "      <td>NaN</td>\n",
       "    </tr>\n",
       "    <tr>\n",
       "      <th>7645</th>\n",
       "      <td>2018-03-26</td>\n",
       "      <td>NaN</td>\n",
       "      <td>NaN</td>\n",
       "      <td>Peg 22</td>\n",
       "      <td>gps</td>\n",
       "      <td>997</td>\n",
       "      <td>NaN</td>\n",
       "    </tr>\n",
       "    <tr>\n",
       "      <th>7646</th>\n",
       "      <td>2018-03-27</td>\n",
       "      <td>42.16744</td>\n",
       "      <td>-25.279141</td>\n",
       "      <td>Peg 22</td>\n",
       "      <td>gps</td>\n",
       "      <td>998</td>\n",
       "      <td>NaN</td>\n",
       "    </tr>\n",
       "  </tbody>\n",
       "</table>\n",
       "<p>7647 rows × 7 columns</p>\n",
       "</div>"
      ],
      "text/plain": [
       "           Date  Cumulative E disp  Cumulative N disp    Name Source  Time  \\\n",
       "0    2015-07-03            0.00000           0.000000  Peg 05    gps     0   \n",
       "1    2015-07-04                NaN                NaN  Peg 05    gps     1   \n",
       "2    2015-07-05                NaN                NaN  Peg 05    gps     2   \n",
       "3    2015-07-06                NaN                NaN  Peg 05    gps     3   \n",
       "4    2015-07-07                NaN                NaN  Peg 05    gps     4   \n",
       "...         ...                ...                ...     ...    ...   ...   \n",
       "7642 2018-03-23                NaN                NaN  Peg 22    gps   994   \n",
       "7643 2018-03-24                NaN                NaN  Peg 22    gps   995   \n",
       "7644 2018-03-25                NaN                NaN  Peg 22    gps   996   \n",
       "7645 2018-03-26                NaN                NaN  Peg 22    gps   997   \n",
       "7646 2018-03-27           42.16744         -25.279141  Peg 22    gps   998   \n",
       "\n",
       "      test  \n",
       "0      0.0  \n",
       "1      NaN  \n",
       "2      NaN  \n",
       "3      NaN  \n",
       "4      NaN  \n",
       "...    ...  \n",
       "7642   NaN  \n",
       "7643   NaN  \n",
       "7644   NaN  \n",
       "7645   NaN  \n",
       "7646   NaN  \n",
       "\n",
       "[7647 rows x 7 columns]"
      ]
     },
     "execution_count": 151,
     "metadata": {},
     "output_type": "execute_result"
    }
   ],
   "source": [
    "pegs_interp.to_csv('test.csv',index=False)\n",
    "pegs_interp"
   ]
  },
  {
   "cell_type": "code",
   "execution_count": 93,
   "id": "0b0299aa-9555-4b7e-9a4b-8f0262d48e99",
   "metadata": {},
   "outputs": [],
   "source": [
    "comparison = cosicorr.append(pegs_interp)\n",
    "comparison.to_csv('peg_data/comparsion.csv',index=False)"
   ]
  },
  {
   "cell_type": "code",
   "execution_count": 98,
   "id": "26a3ee97-134b-47fe-8336-974a59994e87",
   "metadata": {},
   "outputs": [
    {
     "data": {
      "text/plain": [
       "<AxesSubplot:xlabel='Date', ylabel='Cumulative N disp'>"
      ]
     },
     "execution_count": 98,
     "metadata": {},
     "output_type": "execute_result"
    },
    {
     "data": {
      "image/png": "[encoded data removed]",
      "text/plain": [
       "<Figure size 432x288 with 1 Axes>"
      ]
     },
     "metadata": {
      "needs_background": "light"
     },
     "output_type": "display_data"
    }
   ],
   "source": [
    "comparison = pd.read_csv('peg_data/comparsion.csv',parse_dates=['Date'])\n",
    "names = ['P5','P11','P14','P21','P22',]\n",
    "sns.scatterplot(data=pegs_interp.loc[pegs_interp['Name']=='Peg 11'],x='Date',y='Cumulative N disp')\n",
    "# g = sns.FacetGrid(comparison, col='Name',sharey=False, col_wrap=2)\n",
    "# g.map(sns.scatterplot, 'Date', 'Cumulative N disp','Source')\n",
    "# g.add_legend()\n",
    "\n",
    "# plt.savefig('n_displacement_comparison.png')"
   ]
  },
  {
   "cell_type": "code",
   "execution_count": 11,
   "id": "78c7151f-8c6b-44c4-9810-44d23beb2ca5",
   "metadata": {},
   "outputs": [
    {
     "data": {
      "text/plain": [
       "<seaborn.axisgrid.FacetGrid at 0x7fafcb8449a0>"
      ]
     },
     "execution_count": 11,
     "metadata": {},
     "output_type": "execute_result"
    },
    {
     "data": {
      "image/png": "[encoded data removed]",
      "text/plain": [
       "<Figure size 507.25x648 with 5 Axes>"
      ]
     },
     "metadata": {
      "needs_background": "light"
     },
     "output_type": "display_data"
    }
   ],
   "source": [
    "g = sns.FacetGrid(comparison, col='Name',sharey=False, col_wrap=2)\n",
    "g.map(sns.scatterplot, 'Date', 'Cumulative E disp','Source')\n",
    "g.add_legend()"
   ]
  },
  {
   "cell_type": "code",
   "execution_count": 37,
   "id": "e503c6ae-df31-4f14-84d8-d16a2e062a01",
   "metadata": {},
   "outputs": [
    {
     "data": {
      "text/plain": [
       "'/home/fw/data/pixeloffset_mintpy'"
      ]
     },
     "execution_count": 37,
     "metadata": {},
     "output_type": "execute_result"
    }
   ],
   "source": [
    "pwd"
   ]
  },
  {
   "cell_type": "markdown",
   "id": "f8ccd5b5-36b9-4502-acc7-07be9a56b82e",
   "metadata": {
    "jp-MarkdownHeadingCollapsed": true,
    "tags": []
   },
   "source": [
    "## TSview"
   ]
  },
  {
   "cell_type": "code",
   "execution_count": 18,
   "id": "5c6659ac-83b9-44b9-83fe-8995ce753fca",
   "metadata": {},
   "outputs": [],
   "source": [
    "# visualization functions\n",
    "def tsview(fname, yx=None):\n",
    "    \"\"\"Plot input file using tsview.py\"\"\"\n",
    "    cmd = 'tsview.py {} --ms 4 --noverbose'.format(fname)\n",
    "    if yx is not None:\n",
    "        cmd += ' --yx {} {}'.format(yx[0], yx[1])\n",
    "    print(cmd)\n",
    "    obj = timeseriesViewer(cmd)\n",
    "    obj.configure()\n",
    "    obj.figsize_img = [5, 4]\n",
    "    obj.figsize_pts = [5, 2]\n",
    "    obj.plot()\n",
    "    return obj"
   ]
  },
  {
   "cell_type": "code",
   "execution_count": 21,
   "id": "3e78f516-f8e8-468c-9470-0dfc6195fd0b",
   "metadata": {},
   "outputs": [
    {
     "name": "stdout",
     "output_type": "stream",
     "text": [
      "tsview.py ../upper_poroa/timeseriesAz.h5 --ms 4 --noverbose\n",
      "tsview.py ../upper_poroa/timeseriesAz.h5 --ms 4 --noverbose\n",
      "No lookup table info range/lat found in files.\n",
      "estimate deformation model with the following assumed time functions:\n",
      "    polynomial : 1\n",
      "    periodic   : []\n",
      "    step       : []\n",
      "    exp        : {}\n",
      "    log        : {}\n"
     ]
    },
    {
     "data": {
      "image/png": "[encoded data removed]",
      "text/plain": [
       "<Figure size 360x288 with 3 Axes>"
      ]
     },
     "metadata": {
      "needs_background": "light"
     },
     "output_type": "display_data"
    },
    {
     "data": {
      "image/png": "[encoded data removed]",
      "text/plain": [
       "<Figure size 360x144 with 1 Axes>"
      ]
     },
     "metadata": {
      "needs_background": "light"
     },
     "output_type": "display_data"
    }
   ],
   "source": [
    "# timeseriesAz\n",
    "obj = tsview('../upper_poroa/timeseriesAz.h5')"
   ]
  },
  {
   "cell_type": "code",
   "execution_count": 18,
   "id": "64f512af-0d22-4b0f-b4c9-e4b22c96e8cc",
   "metadata": {},
   "outputs": [
    {
     "data": {
      "text/html": [
       "<div>\n",
       "<style scoped>\n",
       "    .dataframe tbody tr th:only-of-type {\n",
       "        vertical-align: middle;\n",
       "    }\n",
       "\n",
       "    .dataframe tbody tr th {\n",
       "        vertical-align: top;\n",
       "    }\n",
       "\n",
       "    .dataframe thead th {\n",
       "        text-align: right;\n",
       "    }\n",
       "</style>\n",
       "<table border=\"1\" class=\"dataframe\">\n",
       "  <thead>\n",
       "    <tr style=\"text-align: right;\">\n",
       "      <th></th>\n",
       "      <th>Date</th>\n",
       "      <th>Cumulative E disp</th>\n",
       "      <th>Cumulative N disp</th>\n",
       "      <th>Name</th>\n",
       "      <th>Source</th>\n",
       "    </tr>\n",
       "  </thead>\n",
       "  <tbody>\n",
       "    <tr>\n",
       "      <th>0</th>\n",
       "      <td>2016-02-06</td>\n",
       "      <td>0.000000</td>\n",
       "      <td>0.000000</td>\n",
       "      <td>Peg 05</td>\n",
       "      <td>cosicorr</td>\n",
       "    </tr>\n",
       "    <tr>\n",
       "      <th>1</th>\n",
       "      <td>2016-11-22</td>\n",
       "      <td>0.419062</td>\n",
       "      <td>-7.064656</td>\n",
       "      <td>Peg 05</td>\n",
       "      <td>cosicorr</td>\n",
       "    </tr>\n",
       "    <tr>\n",
       "      <th>2</th>\n",
       "      <td>2017-11-22</td>\n",
       "      <td>-1.820287</td>\n",
       "      <td>-7.531397</td>\n",
       "      <td>Peg 05</td>\n",
       "      <td>cosicorr</td>\n",
       "    </tr>\n",
       "    <tr>\n",
       "      <th>3</th>\n",
       "      <td>2019-02-25</td>\n",
       "      <td>-0.621475</td>\n",
       "      <td>-1.609496</td>\n",
       "      <td>Peg 05</td>\n",
       "      <td>cosicorr</td>\n",
       "    </tr>\n",
       "    <tr>\n",
       "      <th>4</th>\n",
       "      <td>2019-11-22</td>\n",
       "      <td>-1.582042</td>\n",
       "      <td>-6.414085</td>\n",
       "      <td>Peg 05</td>\n",
       "      <td>cosicorr</td>\n",
       "    </tr>\n",
       "    <tr>\n",
       "      <th>...</th>\n",
       "      <td>...</td>\n",
       "      <td>...</td>\n",
       "      <td>...</td>\n",
       "      <td>...</td>\n",
       "      <td>...</td>\n",
       "    </tr>\n",
       "    <tr>\n",
       "      <th>86</th>\n",
       "      <td>2017-06-29</td>\n",
       "      <td>-0.065394</td>\n",
       "      <td>-0.347085</td>\n",
       "      <td>Peg 05</td>\n",
       "      <td>gps</td>\n",
       "    </tr>\n",
       "    <tr>\n",
       "      <th>87</th>\n",
       "      <td>2017-10-11</td>\n",
       "      <td>-0.074232</td>\n",
       "      <td>-0.434565</td>\n",
       "      <td>Peg 05</td>\n",
       "      <td>gps</td>\n",
       "    </tr>\n",
       "    <tr>\n",
       "      <th>88</th>\n",
       "      <td>2018-03-27</td>\n",
       "      <td>-0.092793</td>\n",
       "      <td>-0.507235</td>\n",
       "      <td>Peg 05</td>\n",
       "      <td>gps</td>\n",
       "    </tr>\n",
       "    <tr>\n",
       "      <th>89</th>\n",
       "      <td>2018-10-09</td>\n",
       "      <td>-0.104724</td>\n",
       "      <td>-0.671735</td>\n",
       "      <td>Peg 05</td>\n",
       "      <td>gps</td>\n",
       "    </tr>\n",
       "    <tr>\n",
       "      <th>90</th>\n",
       "      <td>2019-12-18</td>\n",
       "      <td>-0.110026</td>\n",
       "      <td>-0.850904</td>\n",
       "      <td>Peg 05</td>\n",
       "      <td>gps</td>\n",
       "    </tr>\n",
       "  </tbody>\n",
       "</table>\n",
       "<p>91 rows × 5 columns</p>\n",
       "</div>"
      ],
      "text/plain": [
       "         Date  Cumulative E disp  Cumulative N disp    Name    Source\n",
       "0  2016-02-06           0.000000           0.000000  Peg 05  cosicorr\n",
       "1  2016-11-22           0.419062          -7.064656  Peg 05  cosicorr\n",
       "2  2017-11-22          -1.820287          -7.531397  Peg 05  cosicorr\n",
       "3  2019-02-25          -0.621475          -1.609496  Peg 05  cosicorr\n",
       "4  2019-11-22          -1.582042          -6.414085  Peg 05  cosicorr\n",
       "..        ...                ...                ...     ...       ...\n",
       "86 2017-06-29          -0.065394          -0.347085  Peg 05       gps\n",
       "87 2017-10-11          -0.074232          -0.434565  Peg 05       gps\n",
       "88 2018-03-27          -0.092793          -0.507235  Peg 05       gps\n",
       "89 2018-10-09          -0.104724          -0.671735  Peg 05       gps\n",
       "90 2019-12-18          -0.110026          -0.850904  Peg 05       gps\n",
       "\n",
       "[91 rows x 5 columns]"
      ]
     },
     "execution_count": 18,
     "metadata": {},
     "output_type": "execute_result"
    }
   ],
   "source": [
    "comparison"
   ]
  },
  {
   "cell_type": "code",
   "execution_count": null,
   "id": "c6c8f732-7cf7-455a-88f6-4c30223f14bb",
   "metadata": {},
   "outputs": [],
   "source": []
  }
 ],
 "metadata": {
  "kernelspec": {
   "display_name": "Python 3 (ipykernel)",
   "language": "python",
   "name": "python3"
  },
  "language_info": {
   "codemirror_mode": {
    "name": "ipython",
    "version": 3
   },
   "file_extension": ".py",
   "mimetype": "text/x-python",
   "name": "python",
   "nbconvert_exporter": "python",
   "pygments_lexer": "ipython3",
   "version": "3.8.10"
  }
 },
 "nbformat": 4,
 "nbformat_minor": 5
}
